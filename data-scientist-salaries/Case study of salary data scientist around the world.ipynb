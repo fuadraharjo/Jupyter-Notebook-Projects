{
 "cells": [
  {
   "attachments": {},
   "cell_type": "markdown",
   "metadata": {},
   "source": [
    "# Case Study of Salary Data Scientist Around the World <a id='intro'></a>"
   ]
  },
  {
   "attachments": {},
   "cell_type": "markdown",
   "metadata": {},
   "source": [
    "Technology is developing, time is advancing. The need for digital talent is increasing. This case study focuses on analyzing salary in the data field. The data is sourced from `Kaggle`, an open platform for sharing data. Here we summarize the objectives and formulation of the problem for this case, including:\n",
    "1. What kind of `occupation` are in high demand?\n",
    "2. Is there any effect that the difference between `location of residence` and `location of work` affects `average salary`?\n",
    "3. What position (`experience level`) occupies a lot of job vacancies\n",
    "4. What occupation produces the `highest average salary`?\n",
    "5. How does the development of the `Full-time` type of employee compare to the `Contractor` type of employee?\n",
    "6. Which country gives the `highest average salary` and `lowest average salary`?"
   ]
  },
  {
   "attachments": {},
   "cell_type": "markdown",
   "metadata": {},
   "source": [
    "# Content <a id='back'></a>\n",
    "\n",
    "* [Intro](#intro)\n",
    "* [Content](#back)\n",
    "* [Stage 1. Pre-processing Data](#Cont1)\n",
    "     * [1.1 Initialize Libraries](#Cont2)\n",
    "     * [1.2 Load Dataset](#Cont3)\n",
    "     * [1.3 Checking Dataset Duplication](#Cont4)\n",
    "     * [1.4 Check the Unique Value Dataset](#Cont5)\n",
    "     * [1.5 Fix the Dataset Columns](#Cont6)\n",
    "     * [1.6 Changing Data Type](#Cont7)\n",
    "* [Stage 2. Exploratory Data Analysis (EDA)](#Cont8)\n",
    "     * [2.1 Distribution of Salary From Data Sector](#Cont9)\n",
    "     * [2.2 Distribution of Job Interest Based on Remote Ratio](#Cont10)\n",
    "     * [2.3 Distribution of Job Types and Experience Levels](#Cont11)\n",
    "     * [2.4 Salary Distribution Based on Currency](#Cont12)\n",
    "     * [2.5 Salary Distribution in USD Using a Histogram](#Cont13)\n",
    "     * [2.6 Boxplot Analysis of Salary Against Type of Work](#Cont14)\n",
    "     * [2.7 Average Salary by Type of Work](#Cont15)\n",
    "     * [2.8 Average Salary Based on Company Size](#Cont16)\n",
    "     * [2.9 Geospatial Analysis of Average Salary](#Cont17)\n",
    "     * [2.10 Analysis of the Effect of Differences in Residence and Place of Work on Salary](#Cont18)\n",
    "     * [2.11 Average Salary Based on Type of Employee](#Cont19)\n",
    "* [Stage 3. General Conclusion](#Cont20)"
   ]
  },
  {
   "attachments": {},
   "cell_type": "markdown",
   "metadata": {},
   "source": [
    "# Pre-processing Data <a id='Cont1'></a>"
   ]
  },
  {
   "attachments": {},
   "cell_type": "markdown",
   "metadata": {},
   "source": [
    "Before doing the analysis, we need to do data processing to make it easier to process starting from `loading the library`, `dataset cleaning` and so on."
   ]
  },
  {
   "attachments": {},
   "cell_type": "markdown",
   "metadata": {},
   "source": [
    "## Initialize Libraries <a id='Cont2'></a>"
   ]
  },
  {
   "attachments": {},
   "cell_type": "markdown",
   "metadata": {},
   "source": [
    "Some libraries needed are `pandas`, `plotly`, `matplotlib`, `seaborn` and `pycountry`. Let's load all the libraries."
   ]
  },
  {
   "cell_type": "code",
   "execution_count": 1,
   "metadata": {},
   "outputs": [],
   "source": [
    "# load libraries\n",
    "import pandas as pd\n",
    "import plotly.express as px\n",
    "import plotly.graph_objects as go\n",
    "import seaborn as sns\n",
    "import matplotlib.pyplot as plt\n",
    "import pycountry\n",
    "\n",
    "# set seaborn theme\n",
    "sns.set_theme(palette='bright')"
   ]
  },
  {
   "attachments": {},
   "cell_type": "markdown",
   "metadata": {},
   "source": [
    "## Load Dataset <a id='Cont3'></a>"
   ]
  },
  {
   "attachments": {},
   "cell_type": "markdown",
   "metadata": {},
   "source": [
    "The dataset we have is only one file which is `ds_salary.csv`. Let's load the dataset."
   ]
  },
  {
   "cell_type": "code",
   "execution_count": 2,
   "metadata": {},
   "outputs": [
    {
     "name": "stdout",
     "output_type": "stream",
     "text": [
      "<class 'pandas.core.frame.DataFrame'>\n",
      "RangeIndex: 3755 entries, 0 to 3754\n",
      "Data columns (total 11 columns):\n",
      " #   Column              Non-Null Count  Dtype \n",
      "---  ------              --------------  ----- \n",
      " 0   work_year           3755 non-null   int64 \n",
      " 1   experience_level    3755 non-null   object\n",
      " 2   employment_type     3755 non-null   object\n",
      " 3   job_title           3755 non-null   object\n",
      " 4   salary              3755 non-null   int64 \n",
      " 5   salary_currency     3755 non-null   object\n",
      " 6   salary_in_usd       3755 non-null   int64 \n",
      " 7   employee_residence  3755 non-null   object\n",
      " 8   remote_ratio        3755 non-null   int64 \n",
      " 9   company_location    3755 non-null   object\n",
      " 10  company_size        3755 non-null   object\n",
      "dtypes: int64(4), object(7)\n",
      "memory usage: 322.8+ KB\n",
      "None\n"
     ]
    },
    {
     "data": {
      "text/html": [
       "<div>\n",
       "<style scoped>\n",
       "    .dataframe tbody tr th:only-of-type {\n",
       "        vertical-align: middle;\n",
       "    }\n",
       "\n",
       "    .dataframe tbody tr th {\n",
       "        vertical-align: top;\n",
       "    }\n",
       "\n",
       "    .dataframe thead th {\n",
       "        text-align: right;\n",
       "    }\n",
       "</style>\n",
       "<table border=\"1\" class=\"dataframe\">\n",
       "  <thead>\n",
       "    <tr style=\"text-align: right;\">\n",
       "      <th></th>\n",
       "      <th>work_year</th>\n",
       "      <th>experience_level</th>\n",
       "      <th>employment_type</th>\n",
       "      <th>job_title</th>\n",
       "      <th>salary</th>\n",
       "      <th>salary_currency</th>\n",
       "      <th>salary_in_usd</th>\n",
       "      <th>employee_residence</th>\n",
       "      <th>remote_ratio</th>\n",
       "      <th>company_location</th>\n",
       "      <th>company_size</th>\n",
       "    </tr>\n",
       "  </thead>\n",
       "  <tbody>\n",
       "    <tr>\n",
       "      <th>0</th>\n",
       "      <td>2023</td>\n",
       "      <td>SE</td>\n",
       "      <td>FT</td>\n",
       "      <td>Principal Data Scientist</td>\n",
       "      <td>80000</td>\n",
       "      <td>EUR</td>\n",
       "      <td>85847</td>\n",
       "      <td>ES</td>\n",
       "      <td>100</td>\n",
       "      <td>ES</td>\n",
       "      <td>L</td>\n",
       "    </tr>\n",
       "    <tr>\n",
       "      <th>1</th>\n",
       "      <td>2023</td>\n",
       "      <td>MI</td>\n",
       "      <td>CT</td>\n",
       "      <td>ML Engineer</td>\n",
       "      <td>30000</td>\n",
       "      <td>USD</td>\n",
       "      <td>30000</td>\n",
       "      <td>US</td>\n",
       "      <td>100</td>\n",
       "      <td>US</td>\n",
       "      <td>S</td>\n",
       "    </tr>\n",
       "    <tr>\n",
       "      <th>2</th>\n",
       "      <td>2023</td>\n",
       "      <td>MI</td>\n",
       "      <td>CT</td>\n",
       "      <td>ML Engineer</td>\n",
       "      <td>25500</td>\n",
       "      <td>USD</td>\n",
       "      <td>25500</td>\n",
       "      <td>US</td>\n",
       "      <td>100</td>\n",
       "      <td>US</td>\n",
       "      <td>S</td>\n",
       "    </tr>\n",
       "    <tr>\n",
       "      <th>3</th>\n",
       "      <td>2023</td>\n",
       "      <td>SE</td>\n",
       "      <td>FT</td>\n",
       "      <td>Data Scientist</td>\n",
       "      <td>175000</td>\n",
       "      <td>USD</td>\n",
       "      <td>175000</td>\n",
       "      <td>CA</td>\n",
       "      <td>100</td>\n",
       "      <td>CA</td>\n",
       "      <td>M</td>\n",
       "    </tr>\n",
       "    <tr>\n",
       "      <th>4</th>\n",
       "      <td>2023</td>\n",
       "      <td>SE</td>\n",
       "      <td>FT</td>\n",
       "      <td>Data Scientist</td>\n",
       "      <td>120000</td>\n",
       "      <td>USD</td>\n",
       "      <td>120000</td>\n",
       "      <td>CA</td>\n",
       "      <td>100</td>\n",
       "      <td>CA</td>\n",
       "      <td>M</td>\n",
       "    </tr>\n",
       "  </tbody>\n",
       "</table>\n",
       "</div>"
      ],
      "text/plain": [
       "   work_year experience_level employment_type                 job_title   \n",
       "0       2023               SE              FT  Principal Data Scientist  \\\n",
       "1       2023               MI              CT               ML Engineer   \n",
       "2       2023               MI              CT               ML Engineer   \n",
       "3       2023               SE              FT            Data Scientist   \n",
       "4       2023               SE              FT            Data Scientist   \n",
       "\n",
       "   salary salary_currency  salary_in_usd employee_residence  remote_ratio   \n",
       "0   80000             EUR          85847                 ES           100  \\\n",
       "1   30000             USD          30000                 US           100   \n",
       "2   25500             USD          25500                 US           100   \n",
       "3  175000             USD         175000                 CA           100   \n",
       "4  120000             USD         120000                 CA           100   \n",
       "\n",
       "  company_location company_size  \n",
       "0               ES            L  \n",
       "1               US            S  \n",
       "2               US            S  \n",
       "3               CA            M  \n",
       "4               CA            M  "
      ]
     },
     "execution_count": 2,
     "metadata": {},
     "output_type": "execute_result"
    }
   ],
   "source": [
    "# load dataset\n",
    "df_salary = pd.read_csv('ds_salaries.csv')\n",
    "\n",
    "# checking dataset\n",
    "print(df_salary.info())\n",
    "\n",
    "# show sample dataset\n",
    "df_salary.head()"
   ]
  },
  {
   "attachments": {},
   "cell_type": "markdown",
   "metadata": {},
   "source": [
    "We can see that the dataset consists of `3755 rows` and `11 columns`. The dataset has `no missing values` and in the `sample data` it seems that some of the columns still use `abbreviations` for their values."
   ]
  },
  {
   "attachments": {},
   "cell_type": "markdown",
   "metadata": {},
   "source": [
    "## Checking Dataset Duplication <a id='Cont4'></a>"
   ]
  },
  {
   "attachments": {},
   "cell_type": "markdown",
   "metadata": {},
   "source": [
    "Next we will check for dataset duplication."
   ]
  },
  {
   "cell_type": "code",
   "execution_count": 3,
   "metadata": {},
   "outputs": [
    {
     "data": {
      "text/plain": [
       "1171"
      ]
     },
     "execution_count": 3,
     "metadata": {},
     "output_type": "execute_result"
    }
   ],
   "source": [
    "# check for duplicates\n",
    "df_salary.duplicated().sum()"
   ]
  },
  {
   "attachments": {},
   "cell_type": "markdown",
   "metadata": {},
   "source": [
    "There are duplicates in the dataset of `1171 rows`, this could be because there are users who happen to have the same data as other users data. Considering that our dataset does not have a `user_id` as a differentiator, we let our dataset have duplicates."
   ]
  },
  {
   "attachments": {},
   "cell_type": "markdown",
   "metadata": {},
   "source": [
    "## Check the Unique Value Dataset <a id='Cont5'></a>"
   ]
  },
  {
   "attachments": {},
   "cell_type": "markdown",
   "metadata": {},
   "source": [
    "Next, let's check the unique values in each of our dataset variables/columns, to make improvements in them. Let's check only columns with data type `object`."
   ]
  },
  {
   "cell_type": "code",
   "execution_count": 4,
   "metadata": {},
   "outputs": [
    {
     "name": "stdout",
     "output_type": "stream",
     "text": [
      "Unique Values [experience_level] --> ['SE' 'MI' 'EN' 'EX']\n",
      "Unique Values [employment_type] --> ['FT' 'CT' 'FL' 'PT']\n",
      "Unique Values [job_title] --> ['Principal Data Scientist' 'ML Engineer' 'Data Scientist'\n",
      " 'Applied Scientist' 'Data Analyst' 'Data Modeler' 'Research Engineer'\n",
      " 'Analytics Engineer' 'Business Intelligence Engineer'\n",
      " 'Machine Learning Engineer' 'Data Strategist' 'Data Engineer'\n",
      " 'Computer Vision Engineer' 'Data Quality Analyst'\n",
      " 'Compliance Data Analyst' 'Data Architect'\n",
      " 'Applied Machine Learning Engineer' 'AI Developer' 'Research Scientist'\n",
      " 'Data Analytics Manager' 'Business Data Analyst' 'Applied Data Scientist'\n",
      " 'Staff Data Analyst' 'ETL Engineer' 'Data DevOps Engineer' 'Head of Data'\n",
      " 'Data Science Manager' 'Data Manager' 'Machine Learning Researcher'\n",
      " 'Big Data Engineer' 'Data Specialist' 'Lead Data Analyst'\n",
      " 'BI Data Engineer' 'Director of Data Science'\n",
      " 'Machine Learning Scientist' 'MLOps Engineer' 'AI Scientist'\n",
      " 'Autonomous Vehicle Technician' 'Applied Machine Learning Scientist'\n",
      " 'Lead Data Scientist' 'Cloud Database Engineer' 'Financial Data Analyst'\n",
      " 'Data Infrastructure Engineer' 'Software Data Engineer' 'AI Programmer'\n",
      " 'Data Operations Engineer' 'BI Developer' 'Data Science Lead'\n",
      " 'Deep Learning Researcher' 'BI Analyst' 'Data Science Consultant'\n",
      " 'Data Analytics Specialist' 'Machine Learning Infrastructure Engineer'\n",
      " 'BI Data Analyst' 'Head of Data Science' 'Insight Analyst'\n",
      " 'Deep Learning Engineer' 'Machine Learning Software Engineer'\n",
      " 'Big Data Architect' 'Product Data Analyst'\n",
      " 'Computer Vision Software Engineer' 'Azure Data Engineer'\n",
      " 'Marketing Data Engineer' 'Data Analytics Lead' 'Data Lead'\n",
      " 'Data Science Engineer' 'Machine Learning Research Engineer'\n",
      " 'NLP Engineer' 'Manager Data Management' 'Machine Learning Developer'\n",
      " '3D Computer Vision Researcher' 'Principal Machine Learning Engineer'\n",
      " 'Data Analytics Engineer' 'Data Analytics Consultant'\n",
      " 'Data Management Specialist' 'Data Science Tech Lead'\n",
      " 'Data Scientist Lead' 'Cloud Data Engineer' 'Data Operations Analyst'\n",
      " 'Marketing Data Analyst' 'Power BI Developer' 'Product Data Scientist'\n",
      " 'Principal Data Architect' 'Machine Learning Manager'\n",
      " 'Lead Machine Learning Engineer' 'ETL Developer' 'Cloud Data Architect'\n",
      " 'Lead Data Engineer' 'Head of Machine Learning' 'Principal Data Analyst'\n",
      " 'Principal Data Engineer' 'Staff Data Scientist' 'Finance Data Analyst']\n",
      "Unique Values [salary_currency] --> ['EUR' 'USD' 'INR' 'HKD' 'CHF' 'GBP' 'AUD' 'SGD' 'CAD' 'ILS' 'BRL' 'THB'\n",
      " 'PLN' 'HUF' 'CZK' 'DKK' 'JPY' 'MXN' 'TRY' 'CLP']\n",
      "Unique Values [employee_residence] --> ['ES' 'US' 'CA' 'DE' 'GB' 'NG' 'IN' 'HK' 'PT' 'NL' 'CH' 'CF' 'FR' 'AU'\n",
      " 'FI' 'UA' 'IE' 'IL' 'GH' 'AT' 'CO' 'SG' 'SE' 'SI' 'MX' 'UZ' 'BR' 'TH'\n",
      " 'HR' 'PL' 'KW' 'VN' 'CY' 'AR' 'AM' 'BA' 'KE' 'GR' 'MK' 'LV' 'RO' 'PK'\n",
      " 'IT' 'MA' 'LT' 'BE' 'AS' 'IR' 'HU' 'SK' 'CN' 'CZ' 'CR' 'TR' 'CL' 'PR'\n",
      " 'DK' 'BO' 'PH' 'DO' 'EG' 'ID' 'AE' 'MY' 'JP' 'EE' 'HN' 'TN' 'RU' 'DZ'\n",
      " 'IQ' 'BG' 'JE' 'RS' 'NZ' 'MD' 'LU' 'MT']\n",
      "Unique Values [company_location] --> ['ES' 'US' 'CA' 'DE' 'GB' 'NG' 'IN' 'HK' 'NL' 'CH' 'CF' 'FR' 'FI' 'UA'\n",
      " 'IE' 'IL' 'GH' 'CO' 'SG' 'AU' 'SE' 'SI' 'MX' 'BR' 'PT' 'RU' 'TH' 'HR'\n",
      " 'VN' 'EE' 'AM' 'BA' 'KE' 'GR' 'MK' 'LV' 'RO' 'PK' 'IT' 'MA' 'PL' 'AL'\n",
      " 'AR' 'LT' 'AS' 'CR' 'IR' 'BS' 'HU' 'AT' 'SK' 'CZ' 'TR' 'PR' 'DK' 'BO'\n",
      " 'PH' 'BE' 'ID' 'EG' 'AE' 'LU' 'MY' 'HN' 'JP' 'DZ' 'IQ' 'CN' 'NZ' 'CL'\n",
      " 'MD' 'MT']\n",
      "Unique Values [company_size] --> ['L' 'S' 'M']\n"
     ]
    }
   ],
   "source": [
    "# checking unique values for each column\n",
    "for col in df_salary.columns:\n",
    "    if df_salary[col].dtype == 'object':\n",
    "        print(f'Unique Values [{col}] -->',df_salary[col].unique())"
   ]
  },
  {
   "attachments": {},
   "cell_type": "markdown",
   "metadata": {},
   "source": [
    "There are many abbreviations in some of the fields and there are also too many unique values in the `job_title` column."
   ]
  },
  {
   "attachments": {},
   "cell_type": "markdown",
   "metadata": {},
   "source": [
    "## Fix the Dataset Columns <a id='Cont6'></a>"
   ]
  },
  {
   "attachments": {},
   "cell_type": "markdown",
   "metadata": {},
   "source": [
    "Let's fix the `'experience_level'`, `'employment_type'`, `'company_size'`, `'remote_ratio'` fields to have the appropriate values. We create the dictionary first."
   ]
  },
  {
   "cell_type": "code",
   "execution_count": 5,
   "metadata": {},
   "outputs": [],
   "source": [
    "# create dictionary for experience_level\n",
    "dict_exp = {\n",
    "    'SE': 'Senior Level',\n",
    "    'EN': 'Entry Level',\n",
    "    'EX': 'Executive Level',\n",
    "    'MI': 'Mid Level'\n",
    "}\n",
    "\n",
    "# create dictionary for employment_type\n",
    "dict_emp = {\n",
    "    'FL': 'Freelancer',\n",
    "    'CT': 'Contractor',\n",
    "    'FT' : 'Full-time',\n",
    "    'PT' : 'Part-time'\n",
    "}\n",
    "\n",
    "# create dictionary for company_size\n",
    "dict_cmp ={\n",
    "    'S': 'Small',\n",
    "    'M': 'Medium',\n",
    "    'L' : 'Large'\n",
    "}\n",
    "\n",
    "# create dictionary for remote_ratio\n",
    "dict_remote = {\n",
    "    0 : 'On-Site',\n",
    "    50 : 'Half-Remote',\n",
    "    100 : 'Full-Remote'\n",
    "}"
   ]
  },
  {
   "attachments": {},
   "cell_type": "markdown",
   "metadata": {},
   "source": [
    "Next, let's apply it to each column in question."
   ]
  },
  {
   "cell_type": "code",
   "execution_count": 6,
   "metadata": {},
   "outputs": [],
   "source": [
    "# replace all values for experience_level with it's dictionary\n",
    "df_salary['experience_level'] = df_salary['experience_level'].map(dict_exp)\n",
    "\n",
    "# replace all values for employment_type with it's dictionary\n",
    "df_salary['employment_type'] = df_salary['employment_type'].map(dict_emp)\n",
    "\n",
    "# replace all values for company_size with it's dictionary\n",
    "df_salary['company_size'] = df_salary['company_size'].map(dict_cmp)\n",
    "\n",
    "# replace all values for remote_ratio with it's dictionary\n",
    "df_salary['remote_ratio'] = df_salary['remote_ratio'].map(dict_remote)"
   ]
  },
  {
   "attachments": {},
   "cell_type": "markdown",
   "metadata": {},
   "source": [
    "Let's check again by using `unique` for each of these columns."
   ]
  },
  {
   "cell_type": "code",
   "execution_count": 7,
   "metadata": {},
   "outputs": [
    {
     "name": "stdout",
     "output_type": "stream",
     "text": [
      "Unique Values [experience_level] --> ['Senior Level' 'Mid Level' 'Entry Level' 'Executive Level']\n",
      "Unique Values [employment_type] --> ['Full-time' 'Contractor' 'Freelancer' 'Part-time']\n",
      "Unique Values [remote_ratio] --> ['Full-Remote' 'On-Site' 'Half-Remote']\n",
      "Unique Values [company_size] --> ['Large' 'Small' 'Medium']\n"
     ]
    }
   ],
   "source": [
    "# rechecking unique values for each column\n",
    "for col in df_salary.columns:\n",
    "    if df_salary[col].dtype == 'object':\n",
    "        if col == 'job_title' or col == 'salary_currency' or col == 'employee_residence' or col == 'company_location':\n",
    "            continue\n",
    "        else: \n",
    "            print(f'Unique Values [{col}] -->',df_salary[col].unique())"
   ]
  },
  {
   "attachments": {},
   "cell_type": "markdown",
   "metadata": {},
   "source": [
    "These values are as expected. Next we will improve the `job_title` column by categorizing it into `7 groups` as follows."
   ]
  },
  {
   "cell_type": "code",
   "execution_count": 8,
   "metadata": {},
   "outputs": [],
   "source": [
    "# classification for job_tittle\n",
    "def assign_job_category(job_title):\n",
    "    data_analyst = ['Finance Data Analyst','Marketing Data Analyst','Power BI Developer','Data Analytics Consultant','Data Analytics Engineer','Data Analytics Lead','Product Data Analyst','Insight Analyst','BI Data Analyst','Data Analytics Specialist','BI Analyst','Financial Data Analyst','Lead Data Analyst','Staff Data Analyst','Business Data Analyst','Data Analyst','Analytics Engineer','Business Intelligence Engineer','Compliance Data Analyst']\n",
    "    data_scientist = ['Staff Data Scientist','Product Data Scientist','Data Scientist Lead','Data Science Tech Lead','Data Science Engineer','Data Science Consultant','Data Science Lead','Lead Data Scientist','Applied Data Scientist','Research Scientist','Data Scientist','Applied Scientist','Research Engineer']\n",
    "    data_engineering = ['Lead Data Engineer','ETL Developer','Cloud Data Engineer','Data Management Specialist','Marketing Data Engineer','Azure Data Engineer','Data Operations Engineer','Software Data Engineer','Data Infrastructure Engineer','Cloud Database Engineer','BI Data Engineer','Big Data Engineer','Data Strategist','Data Engineer','ETL Engineer']\n",
    "    data_architecture = ['Cloud Data Architect','Big Data Architect','Data Modeler','Data Architect',]\n",
    "    machine_learning = ['Lead Machine Learning Engineer','3D Computer Vision Researcher','Machine Learning Developer','NLP Engineer','Machine Learning Research Engineer','Computer Vision Software Engineer','Machine Learning Software Engineer','Deep Learning Engineer','Machine Learning Infrastructure Engineer','Deep Learning Researcher','AI Programmer','Applied Machine Learning Scientist','AI Scientist','Machine Learning Scientist','Machine Learning Researcher','AI Developer','ML Engineer','Machine Learning Engineer','Computer Vision Engineer','Applied Machine Learning Engineer']\n",
    "    top_level = ['Principal Data Engineer','Head of Machine Learning','Principal Data Analyst','Principal Data Architect','Machine Learning Manager','Principal Machine Learning Engineer','Manager Data Management','Head of Data Science','Director of Data Science','Data Manager','Head of Data','Data Science Manager','Principal Data Scientist','Data Analytics Manager']\n",
    "\n",
    "    if job_title in data_engineering:\n",
    "        return \"Data Engineering\"\n",
    "    elif job_title in data_scientist:\n",
    "        return \"Data Science\"\n",
    "    elif job_title in data_analyst:\n",
    "        return \"Data Analyst\"\n",
    "    elif job_title in machine_learning:\n",
    "        return \"Machine Learning\"\n",
    "    elif job_title in data_architecture:\n",
    "        return \"Data Architecture\"\n",
    "    elif job_title in top_level:\n",
    "        return \"Top Management\"\n",
    "    else:\n",
    "        return \"Other\"\n",
    "\n",
    "# apply function for job_tittle column\n",
    "df_salary['job_title'] = df_salary['job_title'].apply(assign_job_category)"
   ]
  },
  {
   "attachments": {},
   "cell_type": "markdown",
   "metadata": {},
   "source": [
    "Let's check again by using `unique` in that column."
   ]
  },
  {
   "cell_type": "code",
   "execution_count": 9,
   "metadata": {},
   "outputs": [
    {
     "data": {
      "text/plain": [
       "array(['Top Management', 'Machine Learning', 'Data Science',\n",
       "       'Data Analyst', 'Data Architecture', 'Data Engineering', 'Other'],\n",
       "      dtype=object)"
      ]
     },
     "execution_count": 9,
     "metadata": {},
     "output_type": "execute_result"
    }
   ],
   "source": [
    "# rechecking unique values job_title column\n",
    "df_salary['job_title'].unique()"
   ]
  },
  {
   "attachments": {},
   "cell_type": "markdown",
   "metadata": {},
   "source": [
    "The categorization of these values is as expected."
   ]
  },
  {
   "attachments": {},
   "cell_type": "markdown",
   "metadata": {},
   "source": [
    "## Changing Data Type <a id='Cont7'></a>"
   ]
  },
  {
   "attachments": {},
   "cell_type": "markdown",
   "metadata": {},
   "source": [
    "Next, we will change the data type in the `work_year` column from `integer` to `category` as follows."
   ]
  },
  {
   "cell_type": "code",
   "execution_count": 10,
   "metadata": {},
   "outputs": [
    {
     "data": {
      "text/plain": [
       "CategoricalDtype(categories=[2020, 2021, 2022, 2023], ordered=False)"
      ]
     },
     "execution_count": 10,
     "metadata": {},
     "output_type": "execute_result"
    }
   ],
   "source": [
    "# change data type for work_year from integer to category\n",
    "df_salary['work_year'] = df_salary['work_year'].astype('category')\n",
    "\n",
    "# checking data type\n",
    "df_salary['work_year'].dtype"
   ]
  },
  {
   "attachments": {},
   "cell_type": "markdown",
   "metadata": {},
   "source": [
    "It has been successfully converted to a categorical data type."
   ]
  },
  {
   "attachments": {},
   "cell_type": "markdown",
   "metadata": {},
   "source": [
    "# Exploratory Data Analysis (EDA) <a id='Cont8'></a>"
   ]
  },
  {
   "attachments": {},
   "cell_type": "markdown",
   "metadata": {},
   "source": [
    "After the data is `clean-up`, then we will start exploring the data to find insights in it."
   ]
  },
  {
   "attachments": {},
   "cell_type": "markdown",
   "metadata": {},
   "source": [
    "## Distribution of Salary From Data Sector <a id='Cont9'></a>"
   ]
  },
  {
   "attachments": {},
   "cell_type": "markdown",
   "metadata": {},
   "source": [
    "Here we will see the amount of `salary earned` during the `relevant years` based on the `type of work` available."
   ]
  },
  {
   "cell_type": "code",
   "execution_count": 11,
   "metadata": {},
   "outputs": [
    {
     "data": {
      "application/vnd.plotly.v1+json": {
       "config": {
        "plotlyServerURL": "https://plot.ly"
       },
       "data": [
        {
         "alignmentgroup": "True",
         "hovertemplate": "work_year=2020<br>job_title=%{x}<br>salary_in_usd=%{y}<extra></extra>",
         "legendgroup": "2020",
         "marker": {
          "color": "#636efa",
          "pattern": {
           "shape": ""
          }
         },
         "name": "2020",
         "offsetgroup": "2020",
         "orientation": "v",
         "showlegend": true,
         "textposition": "auto",
         "texttemplate": "%{y}",
         "type": "bar",
         "x": [
          "Data Analyst",
          "Data Architecture",
          "Data Engineering",
          "Data Science",
          "Machine Learning",
          "Other",
          "Top Management"
         ],
         "xaxis": "x",
         "y": [
          897712,
          0,
          1609975,
          2711088,
          1015660,
          0,
          780565
         ],
         "yaxis": "y"
        },
        {
         "alignmentgroup": "True",
         "hovertemplate": "work_year=2021<br>job_title=%{x}<br>salary_in_usd=%{y}<extra></extra>",
         "legendgroup": "2021",
         "marker": {
          "color": "#EF553B",
          "pattern": {
           "shape": ""
          }
         },
         "name": "2021",
         "offsetgroup": "2021",
         "orientation": "v",
         "showlegend": true,
         "textposition": "auto",
         "texttemplate": "%{y}",
         "type": "bar",
         "x": [
          "Data Analyst",
          "Data Architecture",
          "Data Engineering",
          "Data Science",
          "Machine Learning",
          "Other",
          "Top Management"
         ],
         "xaxis": "x",
         "y": [
          2569922,
          849703,
          4547542,
          5061992,
          3804445,
          210555,
          4595899
         ],
         "yaxis": "y"
        },
        {
         "alignmentgroup": "True",
         "hovertemplate": "work_year=2022<br>job_title=%{x}<br>salary_in_usd=%{y}<extra></extra>",
         "legendgroup": "2022",
         "marker": {
          "color": "#00cc96",
          "pattern": {
           "shape": ""
          }
         },
         "name": "2022",
         "offsetgroup": "2022",
         "orientation": "v",
         "showlegend": true,
         "textposition": "auto",
         "texttemplate": "%{y}",
         "type": "bar",
         "x": [
          "Data Analyst",
          "Data Architecture",
          "Data Engineering",
          "Data Science",
          "Machine Learning",
          "Other",
          "Top Management"
         ],
         "xaxis": "x",
         "y": [
          40067236,
          7640211,
          70796836,
          65116655,
          26494472,
          2310250,
          9449805
         ],
         "yaxis": "y"
        },
        {
         "alignmentgroup": "True",
         "hovertemplate": "work_year=2023<br>job_title=%{x}<br>salary_in_usd=%{y}<extra></extra>",
         "legendgroup": "2023",
         "marker": {
          "color": "#ab63fa",
          "pattern": {
           "shape": ""
          }
         },
         "name": "2023",
         "offsetgroup": "2023",
         "orientation": "v",
         "showlegend": true,
         "textposition": "auto",
         "texttemplate": "%{y}",
         "type": "bar",
         "x": [
          "Data Analyst",
          "Data Architecture",
          "Data Engineering",
          "Data Science",
          "Machine Learning",
          "Other",
          "Top Management"
         ],
         "xaxis": "x",
         "y": [
          44859183,
          8582582,
          78245255,
          82449698,
          37747328,
          2848834,
          11313411
         ],
         "yaxis": "y"
        }
       ],
       "layout": {
        "barmode": "relative",
        "height": 600,
        "legend": {
         "title": {
          "text": "work_year"
         },
         "tracegroupgap": 0
        },
        "template": {
         "data": {
          "bar": [
           {
            "error_x": {
             "color": "#2a3f5f"
            },
            "error_y": {
             "color": "#2a3f5f"
            },
            "marker": {
             "line": {
              "color": "#E5ECF6",
              "width": 0.5
             },
             "pattern": {
              "fillmode": "overlay",
              "size": 10,
              "solidity": 0.2
             }
            },
            "type": "bar"
           }
          ],
          "barpolar": [
           {
            "marker": {
             "line": {
              "color": "#E5ECF6",
              "width": 0.5
             },
             "pattern": {
              "fillmode": "overlay",
              "size": 10,
              "solidity": 0.2
             }
            },
            "type": "barpolar"
           }
          ],
          "carpet": [
           {
            "aaxis": {
             "endlinecolor": "#2a3f5f",
             "gridcolor": "white",
             "linecolor": "white",
             "minorgridcolor": "white",
             "startlinecolor": "#2a3f5f"
            },
            "baxis": {
             "endlinecolor": "#2a3f5f",
             "gridcolor": "white",
             "linecolor": "white",
             "minorgridcolor": "white",
             "startlinecolor": "#2a3f5f"
            },
            "type": "carpet"
           }
          ],
          "choropleth": [
           {
            "colorbar": {
             "outlinewidth": 0,
             "ticks": ""
            },
            "type": "choropleth"
           }
          ],
          "contour": [
           {
            "colorbar": {
             "outlinewidth": 0,
             "ticks": ""
            },
            "colorscale": [
             [
              0,
              "#0d0887"
             ],
             [
              0.1111111111111111,
              "#46039f"
             ],
             [
              0.2222222222222222,
              "#7201a8"
             ],
             [
              0.3333333333333333,
              "#9c179e"
             ],
             [
              0.4444444444444444,
              "#bd3786"
             ],
             [
              0.5555555555555556,
              "#d8576b"
             ],
             [
              0.6666666666666666,
              "#ed7953"
             ],
             [
              0.7777777777777778,
              "#fb9f3a"
             ],
             [
              0.8888888888888888,
              "#fdca26"
             ],
             [
              1,
              "#f0f921"
             ]
            ],
            "type": "contour"
           }
          ],
          "contourcarpet": [
           {
            "colorbar": {
             "outlinewidth": 0,
             "ticks": ""
            },
            "type": "contourcarpet"
           }
          ],
          "heatmap": [
           {
            "colorbar": {
             "outlinewidth": 0,
             "ticks": ""
            },
            "colorscale": [
             [
              0,
              "#0d0887"
             ],
             [
              0.1111111111111111,
              "#46039f"
             ],
             [
              0.2222222222222222,
              "#7201a8"
             ],
             [
              0.3333333333333333,
              "#9c179e"
             ],
             [
              0.4444444444444444,
              "#bd3786"
             ],
             [
              0.5555555555555556,
              "#d8576b"
             ],
             [
              0.6666666666666666,
              "#ed7953"
             ],
             [
              0.7777777777777778,
              "#fb9f3a"
             ],
             [
              0.8888888888888888,
              "#fdca26"
             ],
             [
              1,
              "#f0f921"
             ]
            ],
            "type": "heatmap"
           }
          ],
          "heatmapgl": [
           {
            "colorbar": {
             "outlinewidth": 0,
             "ticks": ""
            },
            "colorscale": [
             [
              0,
              "#0d0887"
             ],
             [
              0.1111111111111111,
              "#46039f"
             ],
             [
              0.2222222222222222,
              "#7201a8"
             ],
             [
              0.3333333333333333,
              "#9c179e"
             ],
             [
              0.4444444444444444,
              "#bd3786"
             ],
             [
              0.5555555555555556,
              "#d8576b"
             ],
             [
              0.6666666666666666,
              "#ed7953"
             ],
             [
              0.7777777777777778,
              "#fb9f3a"
             ],
             [
              0.8888888888888888,
              "#fdca26"
             ],
             [
              1,
              "#f0f921"
             ]
            ],
            "type": "heatmapgl"
           }
          ],
          "histogram": [
           {
            "marker": {
             "pattern": {
              "fillmode": "overlay",
              "size": 10,
              "solidity": 0.2
             }
            },
            "type": "histogram"
           }
          ],
          "histogram2d": [
           {
            "colorbar": {
             "outlinewidth": 0,
             "ticks": ""
            },
            "colorscale": [
             [
              0,
              "#0d0887"
             ],
             [
              0.1111111111111111,
              "#46039f"
             ],
             [
              0.2222222222222222,
              "#7201a8"
             ],
             [
              0.3333333333333333,
              "#9c179e"
             ],
             [
              0.4444444444444444,
              "#bd3786"
             ],
             [
              0.5555555555555556,
              "#d8576b"
             ],
             [
              0.6666666666666666,
              "#ed7953"
             ],
             [
              0.7777777777777778,
              "#fb9f3a"
             ],
             [
              0.8888888888888888,
              "#fdca26"
             ],
             [
              1,
              "#f0f921"
             ]
            ],
            "type": "histogram2d"
           }
          ],
          "histogram2dcontour": [
           {
            "colorbar": {
             "outlinewidth": 0,
             "ticks": ""
            },
            "colorscale": [
             [
              0,
              "#0d0887"
             ],
             [
              0.1111111111111111,
              "#46039f"
             ],
             [
              0.2222222222222222,
              "#7201a8"
             ],
             [
              0.3333333333333333,
              "#9c179e"
             ],
             [
              0.4444444444444444,
              "#bd3786"
             ],
             [
              0.5555555555555556,
              "#d8576b"
             ],
             [
              0.6666666666666666,
              "#ed7953"
             ],
             [
              0.7777777777777778,
              "#fb9f3a"
             ],
             [
              0.8888888888888888,
              "#fdca26"
             ],
             [
              1,
              "#f0f921"
             ]
            ],
            "type": "histogram2dcontour"
           }
          ],
          "mesh3d": [
           {
            "colorbar": {
             "outlinewidth": 0,
             "ticks": ""
            },
            "type": "mesh3d"
           }
          ],
          "parcoords": [
           {
            "line": {
             "colorbar": {
              "outlinewidth": 0,
              "ticks": ""
             }
            },
            "type": "parcoords"
           }
          ],
          "pie": [
           {
            "automargin": true,
            "type": "pie"
           }
          ],
          "scatter": [
           {
            "fillpattern": {
             "fillmode": "overlay",
             "size": 10,
             "solidity": 0.2
            },
            "type": "scatter"
           }
          ],
          "scatter3d": [
           {
            "line": {
             "colorbar": {
              "outlinewidth": 0,
              "ticks": ""
             }
            },
            "marker": {
             "colorbar": {
              "outlinewidth": 0,
              "ticks": ""
             }
            },
            "type": "scatter3d"
           }
          ],
          "scattercarpet": [
           {
            "marker": {
             "colorbar": {
              "outlinewidth": 0,
              "ticks": ""
             }
            },
            "type": "scattercarpet"
           }
          ],
          "scattergeo": [
           {
            "marker": {
             "colorbar": {
              "outlinewidth": 0,
              "ticks": ""
             }
            },
            "type": "scattergeo"
           }
          ],
          "scattergl": [
           {
            "marker": {
             "colorbar": {
              "outlinewidth": 0,
              "ticks": ""
             }
            },
            "type": "scattergl"
           }
          ],
          "scattermapbox": [
           {
            "marker": {
             "colorbar": {
              "outlinewidth": 0,
              "ticks": ""
             }
            },
            "type": "scattermapbox"
           }
          ],
          "scatterpolar": [
           {
            "marker": {
             "colorbar": {
              "outlinewidth": 0,
              "ticks": ""
             }
            },
            "type": "scatterpolar"
           }
          ],
          "scatterpolargl": [
           {
            "marker": {
             "colorbar": {
              "outlinewidth": 0,
              "ticks": ""
             }
            },
            "type": "scatterpolargl"
           }
          ],
          "scatterternary": [
           {
            "marker": {
             "colorbar": {
              "outlinewidth": 0,
              "ticks": ""
             }
            },
            "type": "scatterternary"
           }
          ],
          "surface": [
           {
            "colorbar": {
             "outlinewidth": 0,
             "ticks": ""
            },
            "colorscale": [
             [
              0,
              "#0d0887"
             ],
             [
              0.1111111111111111,
              "#46039f"
             ],
             [
              0.2222222222222222,
              "#7201a8"
             ],
             [
              0.3333333333333333,
              "#9c179e"
             ],
             [
              0.4444444444444444,
              "#bd3786"
             ],
             [
              0.5555555555555556,
              "#d8576b"
             ],
             [
              0.6666666666666666,
              "#ed7953"
             ],
             [
              0.7777777777777778,
              "#fb9f3a"
             ],
             [
              0.8888888888888888,
              "#fdca26"
             ],
             [
              1,
              "#f0f921"
             ]
            ],
            "type": "surface"
           }
          ],
          "table": [
           {
            "cells": {
             "fill": {
              "color": "#EBF0F8"
             },
             "line": {
              "color": "white"
             }
            },
            "header": {
             "fill": {
              "color": "#C8D4E3"
             },
             "line": {
              "color": "white"
             }
            },
            "type": "table"
           }
          ]
         },
         "layout": {
          "annotationdefaults": {
           "arrowcolor": "#2a3f5f",
           "arrowhead": 0,
           "arrowwidth": 1
          },
          "autotypenumbers": "strict",
          "coloraxis": {
           "colorbar": {
            "outlinewidth": 0,
            "ticks": ""
           }
          },
          "colorscale": {
           "diverging": [
            [
             0,
             "#8e0152"
            ],
            [
             0.1,
             "#c51b7d"
            ],
            [
             0.2,
             "#de77ae"
            ],
            [
             0.3,
             "#f1b6da"
            ],
            [
             0.4,
             "#fde0ef"
            ],
            [
             0.5,
             "#f7f7f7"
            ],
            [
             0.6,
             "#e6f5d0"
            ],
            [
             0.7,
             "#b8e186"
            ],
            [
             0.8,
             "#7fbc41"
            ],
            [
             0.9,
             "#4d9221"
            ],
            [
             1,
             "#276419"
            ]
           ],
           "sequential": [
            [
             0,
             "#0d0887"
            ],
            [
             0.1111111111111111,
             "#46039f"
            ],
            [
             0.2222222222222222,
             "#7201a8"
            ],
            [
             0.3333333333333333,
             "#9c179e"
            ],
            [
             0.4444444444444444,
             "#bd3786"
            ],
            [
             0.5555555555555556,
             "#d8576b"
            ],
            [
             0.6666666666666666,
             "#ed7953"
            ],
            [
             0.7777777777777778,
             "#fb9f3a"
            ],
            [
             0.8888888888888888,
             "#fdca26"
            ],
            [
             1,
             "#f0f921"
            ]
           ],
           "sequentialminus": [
            [
             0,
             "#0d0887"
            ],
            [
             0.1111111111111111,
             "#46039f"
            ],
            [
             0.2222222222222222,
             "#7201a8"
            ],
            [
             0.3333333333333333,
             "#9c179e"
            ],
            [
             0.4444444444444444,
             "#bd3786"
            ],
            [
             0.5555555555555556,
             "#d8576b"
            ],
            [
             0.6666666666666666,
             "#ed7953"
            ],
            [
             0.7777777777777778,
             "#fb9f3a"
            ],
            [
             0.8888888888888888,
             "#fdca26"
            ],
            [
             1,
             "#f0f921"
            ]
           ]
          },
          "colorway": [
           "#636efa",
           "#EF553B",
           "#00cc96",
           "#ab63fa",
           "#FFA15A",
           "#19d3f3",
           "#FF6692",
           "#B6E880",
           "#FF97FF",
           "#FECB52"
          ],
          "font": {
           "color": "#2a3f5f"
          },
          "geo": {
           "bgcolor": "white",
           "lakecolor": "white",
           "landcolor": "#E5ECF6",
           "showlakes": true,
           "showland": true,
           "subunitcolor": "white"
          },
          "hoverlabel": {
           "align": "left"
          },
          "hovermode": "closest",
          "mapbox": {
           "style": "light"
          },
          "paper_bgcolor": "white",
          "plot_bgcolor": "#E5ECF6",
          "polar": {
           "angularaxis": {
            "gridcolor": "white",
            "linecolor": "white",
            "ticks": ""
           },
           "bgcolor": "#E5ECF6",
           "radialaxis": {
            "gridcolor": "white",
            "linecolor": "white",
            "ticks": ""
           }
          },
          "scene": {
           "xaxis": {
            "backgroundcolor": "#E5ECF6",
            "gridcolor": "white",
            "gridwidth": 2,
            "linecolor": "white",
            "showbackground": true,
            "ticks": "",
            "zerolinecolor": "white"
           },
           "yaxis": {
            "backgroundcolor": "#E5ECF6",
            "gridcolor": "white",
            "gridwidth": 2,
            "linecolor": "white",
            "showbackground": true,
            "ticks": "",
            "zerolinecolor": "white"
           },
           "zaxis": {
            "backgroundcolor": "#E5ECF6",
            "gridcolor": "white",
            "gridwidth": 2,
            "linecolor": "white",
            "showbackground": true,
            "ticks": "",
            "zerolinecolor": "white"
           }
          },
          "shapedefaults": {
           "line": {
            "color": "#2a3f5f"
           }
          },
          "ternary": {
           "aaxis": {
            "gridcolor": "white",
            "linecolor": "white",
            "ticks": ""
           },
           "baxis": {
            "gridcolor": "white",
            "linecolor": "white",
            "ticks": ""
           },
           "bgcolor": "#E5ECF6",
           "caxis": {
            "gridcolor": "white",
            "linecolor": "white",
            "ticks": ""
           }
          },
          "title": {
           "x": 0.05
          },
          "xaxis": {
           "automargin": true,
           "gridcolor": "white",
           "linecolor": "white",
           "ticks": "",
           "title": {
            "standoff": 15
           },
           "zerolinecolor": "white",
           "zerolinewidth": 2
          },
          "yaxis": {
           "automargin": true,
           "gridcolor": "white",
           "linecolor": "white",
           "ticks": "",
           "title": {
            "standoff": 15
           },
           "zerolinecolor": "white",
           "zerolinewidth": 2
          }
         }
        },
        "title": {
         "text": "USD Salary - Job Tittle"
        },
        "width": 800,
        "xaxis": {
         "anchor": "y",
         "domain": [
          0,
          1
         ],
         "tickangle": -30,
         "title": {
          "text": "job_title"
         }
        },
        "yaxis": {
         "anchor": "x",
         "domain": [
          0,
          1
         ],
         "title": {
          "text": "salary_in_usd"
         }
        }
       }
      }
     },
     "metadata": {},
     "output_type": "display_data"
    }
   ],
   "source": [
    "# distribution of salary_in_usd\n",
    "pivot_year = df_salary.groupby(['work_year','job_title'])['salary_in_usd'].sum().reset_index()\n",
    "\n",
    "# plot the graph\n",
    "yearly = px.bar(\n",
    "    pivot_year, \n",
    "    x=\"job_title\", \n",
    "    y=\"salary_in_usd\",\n",
    "    color=\"work_year\",\n",
    "    text_auto=True, \n",
    "    title=\"USD Salary - Job Tittle\",\n",
    "    width=800,\n",
    "    height=600)\n",
    "\n",
    "# show the graph\n",
    "yearly.update_layout(xaxis_tickangle=-30)\n",
    "yearly.show()"
   ]
  },
  {
   "attachments": {},
   "cell_type": "markdown",
   "metadata": {},
   "source": [
    "From the graph above, the highest amount of salary was obtained by the fields of `Data Engineering` and `Data Science` with a value of almost touching `160M USD`. The graph shows that `Year 2023` contributes the most revenue compared to previous years."
   ]
  },
  {
   "attachments": {},
   "cell_type": "markdown",
   "metadata": {},
   "source": [
    "## Distribution of Job Interest Based on Remote Ratio <a id='Cont10'></a>"
   ]
  },
  {
   "attachments": {},
   "cell_type": "markdown",
   "metadata": {},
   "source": [
    "Next, let's check the demand for jobs based on the `remote_ratio` criteria."
   ]
  },
  {
   "cell_type": "code",
   "execution_count": 12,
   "metadata": {},
   "outputs": [
    {
     "data": {
      "application/vnd.plotly.v1+json": {
       "config": {
        "plotlyServerURL": "https://plot.ly"
       },
       "data": [
        {
         "alignmentgroup": "True",
         "hovertemplate": "work_year=2020<br>remote_ratio=%{x}<br>company_size=%{y}<extra></extra>",
         "legendgroup": "2020",
         "marker": {
          "color": "#636efa",
          "pattern": {
           "shape": ""
          }
         },
         "name": "2020",
         "offsetgroup": "2020",
         "orientation": "v",
         "showlegend": true,
         "textposition": "auto",
         "texttemplate": "%{y}",
         "type": "bar",
         "x": [
          "Full-Remote",
          "Half-Remote",
          "On-Site"
         ],
         "xaxis": "x",
         "y": [
          39,
          21,
          16
         ],
         "yaxis": "y"
        },
        {
         "alignmentgroup": "True",
         "hovertemplate": "work_year=2021<br>remote_ratio=%{x}<br>company_size=%{y}<extra></extra>",
         "legendgroup": "2021",
         "marker": {
          "color": "#EF553B",
          "pattern": {
           "shape": ""
          }
         },
         "name": "2021",
         "offsetgroup": "2021",
         "orientation": "v",
         "showlegend": true,
         "textposition": "auto",
         "texttemplate": "%{y}",
         "type": "bar",
         "x": [
          "Full-Remote",
          "Half-Remote",
          "On-Site"
         ],
         "xaxis": "x",
         "y": [
          120,
          76,
          34
         ],
         "yaxis": "y"
        },
        {
         "alignmentgroup": "True",
         "hovertemplate": "work_year=2022<br>remote_ratio=%{x}<br>company_size=%{y}<extra></extra>",
         "legendgroup": "2022",
         "marker": {
          "color": "#00cc96",
          "pattern": {
           "shape": ""
          }
         },
         "name": "2022",
         "offsetgroup": "2022",
         "orientation": "v",
         "showlegend": true,
         "textposition": "auto",
         "texttemplate": "%{y}",
         "type": "bar",
         "x": [
          "Full-Remote",
          "Half-Remote",
          "On-Site"
         ],
         "xaxis": "x",
         "y": [
          891,
          62,
          711
         ],
         "yaxis": "y"
        },
        {
         "alignmentgroup": "True",
         "hovertemplate": "work_year=2023<br>remote_ratio=%{x}<br>company_size=%{y}<extra></extra>",
         "legendgroup": "2023",
         "marker": {
          "color": "#ab63fa",
          "pattern": {
           "shape": ""
          }
         },
         "name": "2023",
         "offsetgroup": "2023",
         "orientation": "v",
         "showlegend": true,
         "textposition": "auto",
         "texttemplate": "%{y}",
         "type": "bar",
         "x": [
          "Full-Remote",
          "Half-Remote",
          "On-Site"
         ],
         "xaxis": "x",
         "y": [
          593,
          30,
          1162
         ],
         "yaxis": "y"
        }
       ],
       "layout": {
        "barmode": "relative",
        "height": 500,
        "legend": {
         "title": {
          "text": "work_year"
         },
         "tracegroupgap": 0
        },
        "template": {
         "data": {
          "bar": [
           {
            "error_x": {
             "color": "#2a3f5f"
            },
            "error_y": {
             "color": "#2a3f5f"
            },
            "marker": {
             "line": {
              "color": "#E5ECF6",
              "width": 0.5
             },
             "pattern": {
              "fillmode": "overlay",
              "size": 10,
              "solidity": 0.2
             }
            },
            "type": "bar"
           }
          ],
          "barpolar": [
           {
            "marker": {
             "line": {
              "color": "#E5ECF6",
              "width": 0.5
             },
             "pattern": {
              "fillmode": "overlay",
              "size": 10,
              "solidity": 0.2
             }
            },
            "type": "barpolar"
           }
          ],
          "carpet": [
           {
            "aaxis": {
             "endlinecolor": "#2a3f5f",
             "gridcolor": "white",
             "linecolor": "white",
             "minorgridcolor": "white",
             "startlinecolor": "#2a3f5f"
            },
            "baxis": {
             "endlinecolor": "#2a3f5f",
             "gridcolor": "white",
             "linecolor": "white",
             "minorgridcolor": "white",
             "startlinecolor": "#2a3f5f"
            },
            "type": "carpet"
           }
          ],
          "choropleth": [
           {
            "colorbar": {
             "outlinewidth": 0,
             "ticks": ""
            },
            "type": "choropleth"
           }
          ],
          "contour": [
           {
            "colorbar": {
             "outlinewidth": 0,
             "ticks": ""
            },
            "colorscale": [
             [
              0,
              "#0d0887"
             ],
             [
              0.1111111111111111,
              "#46039f"
             ],
             [
              0.2222222222222222,
              "#7201a8"
             ],
             [
              0.3333333333333333,
              "#9c179e"
             ],
             [
              0.4444444444444444,
              "#bd3786"
             ],
             [
              0.5555555555555556,
              "#d8576b"
             ],
             [
              0.6666666666666666,
              "#ed7953"
             ],
             [
              0.7777777777777778,
              "#fb9f3a"
             ],
             [
              0.8888888888888888,
              "#fdca26"
             ],
             [
              1,
              "#f0f921"
             ]
            ],
            "type": "contour"
           }
          ],
          "contourcarpet": [
           {
            "colorbar": {
             "outlinewidth": 0,
             "ticks": ""
            },
            "type": "contourcarpet"
           }
          ],
          "heatmap": [
           {
            "colorbar": {
             "outlinewidth": 0,
             "ticks": ""
            },
            "colorscale": [
             [
              0,
              "#0d0887"
             ],
             [
              0.1111111111111111,
              "#46039f"
             ],
             [
              0.2222222222222222,
              "#7201a8"
             ],
             [
              0.3333333333333333,
              "#9c179e"
             ],
             [
              0.4444444444444444,
              "#bd3786"
             ],
             [
              0.5555555555555556,
              "#d8576b"
             ],
             [
              0.6666666666666666,
              "#ed7953"
             ],
             [
              0.7777777777777778,
              "#fb9f3a"
             ],
             [
              0.8888888888888888,
              "#fdca26"
             ],
             [
              1,
              "#f0f921"
             ]
            ],
            "type": "heatmap"
           }
          ],
          "heatmapgl": [
           {
            "colorbar": {
             "outlinewidth": 0,
             "ticks": ""
            },
            "colorscale": [
             [
              0,
              "#0d0887"
             ],
             [
              0.1111111111111111,
              "#46039f"
             ],
             [
              0.2222222222222222,
              "#7201a8"
             ],
             [
              0.3333333333333333,
              "#9c179e"
             ],
             [
              0.4444444444444444,
              "#bd3786"
             ],
             [
              0.5555555555555556,
              "#d8576b"
             ],
             [
              0.6666666666666666,
              "#ed7953"
             ],
             [
              0.7777777777777778,
              "#fb9f3a"
             ],
             [
              0.8888888888888888,
              "#fdca26"
             ],
             [
              1,
              "#f0f921"
             ]
            ],
            "type": "heatmapgl"
           }
          ],
          "histogram": [
           {
            "marker": {
             "pattern": {
              "fillmode": "overlay",
              "size": 10,
              "solidity": 0.2
             }
            },
            "type": "histogram"
           }
          ],
          "histogram2d": [
           {
            "colorbar": {
             "outlinewidth": 0,
             "ticks": ""
            },
            "colorscale": [
             [
              0,
              "#0d0887"
             ],
             [
              0.1111111111111111,
              "#46039f"
             ],
             [
              0.2222222222222222,
              "#7201a8"
             ],
             [
              0.3333333333333333,
              "#9c179e"
             ],
             [
              0.4444444444444444,
              "#bd3786"
             ],
             [
              0.5555555555555556,
              "#d8576b"
             ],
             [
              0.6666666666666666,
              "#ed7953"
             ],
             [
              0.7777777777777778,
              "#fb9f3a"
             ],
             [
              0.8888888888888888,
              "#fdca26"
             ],
             [
              1,
              "#f0f921"
             ]
            ],
            "type": "histogram2d"
           }
          ],
          "histogram2dcontour": [
           {
            "colorbar": {
             "outlinewidth": 0,
             "ticks": ""
            },
            "colorscale": [
             [
              0,
              "#0d0887"
             ],
             [
              0.1111111111111111,
              "#46039f"
             ],
             [
              0.2222222222222222,
              "#7201a8"
             ],
             [
              0.3333333333333333,
              "#9c179e"
             ],
             [
              0.4444444444444444,
              "#bd3786"
             ],
             [
              0.5555555555555556,
              "#d8576b"
             ],
             [
              0.6666666666666666,
              "#ed7953"
             ],
             [
              0.7777777777777778,
              "#fb9f3a"
             ],
             [
              0.8888888888888888,
              "#fdca26"
             ],
             [
              1,
              "#f0f921"
             ]
            ],
            "type": "histogram2dcontour"
           }
          ],
          "mesh3d": [
           {
            "colorbar": {
             "outlinewidth": 0,
             "ticks": ""
            },
            "type": "mesh3d"
           }
          ],
          "parcoords": [
           {
            "line": {
             "colorbar": {
              "outlinewidth": 0,
              "ticks": ""
             }
            },
            "type": "parcoords"
           }
          ],
          "pie": [
           {
            "automargin": true,
            "type": "pie"
           }
          ],
          "scatter": [
           {
            "fillpattern": {
             "fillmode": "overlay",
             "size": 10,
             "solidity": 0.2
            },
            "type": "scatter"
           }
          ],
          "scatter3d": [
           {
            "line": {
             "colorbar": {
              "outlinewidth": 0,
              "ticks": ""
             }
            },
            "marker": {
             "colorbar": {
              "outlinewidth": 0,
              "ticks": ""
             }
            },
            "type": "scatter3d"
           }
          ],
          "scattercarpet": [
           {
            "marker": {
             "colorbar": {
              "outlinewidth": 0,
              "ticks": ""
             }
            },
            "type": "scattercarpet"
           }
          ],
          "scattergeo": [
           {
            "marker": {
             "colorbar": {
              "outlinewidth": 0,
              "ticks": ""
             }
            },
            "type": "scattergeo"
           }
          ],
          "scattergl": [
           {
            "marker": {
             "colorbar": {
              "outlinewidth": 0,
              "ticks": ""
             }
            },
            "type": "scattergl"
           }
          ],
          "scattermapbox": [
           {
            "marker": {
             "colorbar": {
              "outlinewidth": 0,
              "ticks": ""
             }
            },
            "type": "scattermapbox"
           }
          ],
          "scatterpolar": [
           {
            "marker": {
             "colorbar": {
              "outlinewidth": 0,
              "ticks": ""
             }
            },
            "type": "scatterpolar"
           }
          ],
          "scatterpolargl": [
           {
            "marker": {
             "colorbar": {
              "outlinewidth": 0,
              "ticks": ""
             }
            },
            "type": "scatterpolargl"
           }
          ],
          "scatterternary": [
           {
            "marker": {
             "colorbar": {
              "outlinewidth": 0,
              "ticks": ""
             }
            },
            "type": "scatterternary"
           }
          ],
          "surface": [
           {
            "colorbar": {
             "outlinewidth": 0,
             "ticks": ""
            },
            "colorscale": [
             [
              0,
              "#0d0887"
             ],
             [
              0.1111111111111111,
              "#46039f"
             ],
             [
              0.2222222222222222,
              "#7201a8"
             ],
             [
              0.3333333333333333,
              "#9c179e"
             ],
             [
              0.4444444444444444,
              "#bd3786"
             ],
             [
              0.5555555555555556,
              "#d8576b"
             ],
             [
              0.6666666666666666,
              "#ed7953"
             ],
             [
              0.7777777777777778,
              "#fb9f3a"
             ],
             [
              0.8888888888888888,
              "#fdca26"
             ],
             [
              1,
              "#f0f921"
             ]
            ],
            "type": "surface"
           }
          ],
          "table": [
           {
            "cells": {
             "fill": {
              "color": "#EBF0F8"
             },
             "line": {
              "color": "white"
             }
            },
            "header": {
             "fill": {
              "color": "#C8D4E3"
             },
             "line": {
              "color": "white"
             }
            },
            "type": "table"
           }
          ]
         },
         "layout": {
          "annotationdefaults": {
           "arrowcolor": "#2a3f5f",
           "arrowhead": 0,
           "arrowwidth": 1
          },
          "autotypenumbers": "strict",
          "coloraxis": {
           "colorbar": {
            "outlinewidth": 0,
            "ticks": ""
           }
          },
          "colorscale": {
           "diverging": [
            [
             0,
             "#8e0152"
            ],
            [
             0.1,
             "#c51b7d"
            ],
            [
             0.2,
             "#de77ae"
            ],
            [
             0.3,
             "#f1b6da"
            ],
            [
             0.4,
             "#fde0ef"
            ],
            [
             0.5,
             "#f7f7f7"
            ],
            [
             0.6,
             "#e6f5d0"
            ],
            [
             0.7,
             "#b8e186"
            ],
            [
             0.8,
             "#7fbc41"
            ],
            [
             0.9,
             "#4d9221"
            ],
            [
             1,
             "#276419"
            ]
           ],
           "sequential": [
            [
             0,
             "#0d0887"
            ],
            [
             0.1111111111111111,
             "#46039f"
            ],
            [
             0.2222222222222222,
             "#7201a8"
            ],
            [
             0.3333333333333333,
             "#9c179e"
            ],
            [
             0.4444444444444444,
             "#bd3786"
            ],
            [
             0.5555555555555556,
             "#d8576b"
            ],
            [
             0.6666666666666666,
             "#ed7953"
            ],
            [
             0.7777777777777778,
             "#fb9f3a"
            ],
            [
             0.8888888888888888,
             "#fdca26"
            ],
            [
             1,
             "#f0f921"
            ]
           ],
           "sequentialminus": [
            [
             0,
             "#0d0887"
            ],
            [
             0.1111111111111111,
             "#46039f"
            ],
            [
             0.2222222222222222,
             "#7201a8"
            ],
            [
             0.3333333333333333,
             "#9c179e"
            ],
            [
             0.4444444444444444,
             "#bd3786"
            ],
            [
             0.5555555555555556,
             "#d8576b"
            ],
            [
             0.6666666666666666,
             "#ed7953"
            ],
            [
             0.7777777777777778,
             "#fb9f3a"
            ],
            [
             0.8888888888888888,
             "#fdca26"
            ],
            [
             1,
             "#f0f921"
            ]
           ]
          },
          "colorway": [
           "#636efa",
           "#EF553B",
           "#00cc96",
           "#ab63fa",
           "#FFA15A",
           "#19d3f3",
           "#FF6692",
           "#B6E880",
           "#FF97FF",
           "#FECB52"
          ],
          "font": {
           "color": "#2a3f5f"
          },
          "geo": {
           "bgcolor": "white",
           "lakecolor": "white",
           "landcolor": "#E5ECF6",
           "showlakes": true,
           "showland": true,
           "subunitcolor": "white"
          },
          "hoverlabel": {
           "align": "left"
          },
          "hovermode": "closest",
          "mapbox": {
           "style": "light"
          },
          "paper_bgcolor": "white",
          "plot_bgcolor": "#E5ECF6",
          "polar": {
           "angularaxis": {
            "gridcolor": "white",
            "linecolor": "white",
            "ticks": ""
           },
           "bgcolor": "#E5ECF6",
           "radialaxis": {
            "gridcolor": "white",
            "linecolor": "white",
            "ticks": ""
           }
          },
          "scene": {
           "xaxis": {
            "backgroundcolor": "#E5ECF6",
            "gridcolor": "white",
            "gridwidth": 2,
            "linecolor": "white",
            "showbackground": true,
            "ticks": "",
            "zerolinecolor": "white"
           },
           "yaxis": {
            "backgroundcolor": "#E5ECF6",
            "gridcolor": "white",
            "gridwidth": 2,
            "linecolor": "white",
            "showbackground": true,
            "ticks": "",
            "zerolinecolor": "white"
           },
           "zaxis": {
            "backgroundcolor": "#E5ECF6",
            "gridcolor": "white",
            "gridwidth": 2,
            "linecolor": "white",
            "showbackground": true,
            "ticks": "",
            "zerolinecolor": "white"
           }
          },
          "shapedefaults": {
           "line": {
            "color": "#2a3f5f"
           }
          },
          "ternary": {
           "aaxis": {
            "gridcolor": "white",
            "linecolor": "white",
            "ticks": ""
           },
           "baxis": {
            "gridcolor": "white",
            "linecolor": "white",
            "ticks": ""
           },
           "bgcolor": "#E5ECF6",
           "caxis": {
            "gridcolor": "white",
            "linecolor": "white",
            "ticks": ""
           }
          },
          "title": {
           "x": 0.05
          },
          "xaxis": {
           "automargin": true,
           "gridcolor": "white",
           "linecolor": "white",
           "ticks": "",
           "title": {
            "standoff": 15
           },
           "zerolinecolor": "white",
           "zerolinewidth": 2
          },
          "yaxis": {
           "automargin": true,
           "gridcolor": "white",
           "linecolor": "white",
           "ticks": "",
           "title": {
            "standoff": 15
           },
           "zerolinecolor": "white",
           "zerolinewidth": 2
          }
         }
        },
        "title": {
         "text": "Work Type Distribution"
        },
        "width": 700,
        "xaxis": {
         "anchor": "y",
         "domain": [
          0,
          1
         ],
         "title": {
          "text": "Job Type - Remote"
         }
        },
        "yaxis": {
         "anchor": "x",
         "domain": [
          0,
          1
         ],
         "title": {
          "text": "Count"
         }
        }
       }
      }
     },
     "metadata": {},
     "output_type": "display_data"
    }
   ],
   "source": [
    "# group of remote_ratio\n",
    "remote = df_salary.groupby(['work_year','remote_ratio'])['company_size'].count().reset_index()\n",
    "\n",
    "# plot the graph\n",
    "remote = px.bar(\n",
    "    remote, \n",
    "    x=\"remote_ratio\", \n",
    "    y=\"company_size\",\n",
    "    color=\"work_year\",\n",
    "    text_auto=True, \n",
    "    title=\"Work Type Distribution\",\n",
    "    width=700,\n",
    "    height=500)\n",
    "\n",
    "# show the graph\n",
    "remote.update_layout(\n",
    "    xaxis_title=\"Job Type - Remote\",\n",
    "    yaxis_title=\"Count\")\n",
    "remote.show()"
   ]
  },
  {
   "attachments": {},
   "cell_type": "markdown",
   "metadata": {},
   "source": [
    "In `2020` and `2021` there was an increase for `Full-Remote` work due to the `Covid-19 Pandemic` while as the pandemic began to end there was an increase for `On-Site` work in `2022` and `2023`."
   ]
  },
  {
   "attachments": {},
   "cell_type": "markdown",
   "metadata": {},
   "source": [
    "## Distribution of Job Types and Experience Levels <a id='Cont11'></a>"
   ]
  },
  {
   "attachments": {},
   "cell_type": "markdown",
   "metadata": {},
   "source": [
    "Next, we will find out what `types of jobs` and `experience levels` are in `high demand` in 2020 to 2023."
   ]
  },
  {
   "cell_type": "code",
   "execution_count": 13,
   "metadata": {},
   "outputs": [
    {
     "data": {
      "application/vnd.plotly.v1+json": {
       "config": {
        "plotlyServerURL": "https://plot.ly"
       },
       "data": [
        {
         "domain": {
          "x": [
           0,
           1
          ],
          "y": [
           0,
           1
          ]
         },
         "hole": 0.5,
         "hovertemplate": "job_title=%{label}<br>work_year=%{value}<extra></extra>",
         "labels": [
          "Data Analyst",
          "Data Analyst",
          "Data Analyst",
          "Data Analyst",
          "Data Architecture",
          "Data Architecture",
          "Data Architecture",
          "Data Engineering",
          "Data Engineering",
          "Data Engineering",
          "Data Engineering",
          "Data Science",
          "Data Science",
          "Data Science",
          "Data Science",
          "Machine Learning",
          "Machine Learning",
          "Machine Learning",
          "Machine Learning",
          "Other",
          "Other",
          "Other",
          "Top Management",
          "Top Management",
          "Top Management",
          "Top Management"
         ],
         "legendgroup": "",
         "name": "",
         "showlegend": true,
         "type": "pie",
         "values": [
          85,
          12,
          213,
          481,
          2,
          7,
          97,
          72,
          52,
          226,
          751,
          94,
          14,
          205,
          765,
          62,
          3,
          118,
          291,
          5,
          9,
          33,
          2,
          31,
          27,
          98
         ]
        }
       ],
       "layout": {
        "height": 500,
        "legend": {
         "tracegroupgap": 0
        },
        "template": {
         "data": {
          "bar": [
           {
            "error_x": {
             "color": "#2a3f5f"
            },
            "error_y": {
             "color": "#2a3f5f"
            },
            "marker": {
             "line": {
              "color": "#E5ECF6",
              "width": 0.5
             },
             "pattern": {
              "fillmode": "overlay",
              "size": 10,
              "solidity": 0.2
             }
            },
            "type": "bar"
           }
          ],
          "barpolar": [
           {
            "marker": {
             "line": {
              "color": "#E5ECF6",
              "width": 0.5
             },
             "pattern": {
              "fillmode": "overlay",
              "size": 10,
              "solidity": 0.2
             }
            },
            "type": "barpolar"
           }
          ],
          "carpet": [
           {
            "aaxis": {
             "endlinecolor": "#2a3f5f",
             "gridcolor": "white",
             "linecolor": "white",
             "minorgridcolor": "white",
             "startlinecolor": "#2a3f5f"
            },
            "baxis": {
             "endlinecolor": "#2a3f5f",
             "gridcolor": "white",
             "linecolor": "white",
             "minorgridcolor": "white",
             "startlinecolor": "#2a3f5f"
            },
            "type": "carpet"
           }
          ],
          "choropleth": [
           {
            "colorbar": {
             "outlinewidth": 0,
             "ticks": ""
            },
            "type": "choropleth"
           }
          ],
          "contour": [
           {
            "colorbar": {
             "outlinewidth": 0,
             "ticks": ""
            },
            "colorscale": [
             [
              0,
              "#0d0887"
             ],
             [
              0.1111111111111111,
              "#46039f"
             ],
             [
              0.2222222222222222,
              "#7201a8"
             ],
             [
              0.3333333333333333,
              "#9c179e"
             ],
             [
              0.4444444444444444,
              "#bd3786"
             ],
             [
              0.5555555555555556,
              "#d8576b"
             ],
             [
              0.6666666666666666,
              "#ed7953"
             ],
             [
              0.7777777777777778,
              "#fb9f3a"
             ],
             [
              0.8888888888888888,
              "#fdca26"
             ],
             [
              1,
              "#f0f921"
             ]
            ],
            "type": "contour"
           }
          ],
          "contourcarpet": [
           {
            "colorbar": {
             "outlinewidth": 0,
             "ticks": ""
            },
            "type": "contourcarpet"
           }
          ],
          "heatmap": [
           {
            "colorbar": {
             "outlinewidth": 0,
             "ticks": ""
            },
            "colorscale": [
             [
              0,
              "#0d0887"
             ],
             [
              0.1111111111111111,
              "#46039f"
             ],
             [
              0.2222222222222222,
              "#7201a8"
             ],
             [
              0.3333333333333333,
              "#9c179e"
             ],
             [
              0.4444444444444444,
              "#bd3786"
             ],
             [
              0.5555555555555556,
              "#d8576b"
             ],
             [
              0.6666666666666666,
              "#ed7953"
             ],
             [
              0.7777777777777778,
              "#fb9f3a"
             ],
             [
              0.8888888888888888,
              "#fdca26"
             ],
             [
              1,
              "#f0f921"
             ]
            ],
            "type": "heatmap"
           }
          ],
          "heatmapgl": [
           {
            "colorbar": {
             "outlinewidth": 0,
             "ticks": ""
            },
            "colorscale": [
             [
              0,
              "#0d0887"
             ],
             [
              0.1111111111111111,
              "#46039f"
             ],
             [
              0.2222222222222222,
              "#7201a8"
             ],
             [
              0.3333333333333333,
              "#9c179e"
             ],
             [
              0.4444444444444444,
              "#bd3786"
             ],
             [
              0.5555555555555556,
              "#d8576b"
             ],
             [
              0.6666666666666666,
              "#ed7953"
             ],
             [
              0.7777777777777778,
              "#fb9f3a"
             ],
             [
              0.8888888888888888,
              "#fdca26"
             ],
             [
              1,
              "#f0f921"
             ]
            ],
            "type": "heatmapgl"
           }
          ],
          "histogram": [
           {
            "marker": {
             "pattern": {
              "fillmode": "overlay",
              "size": 10,
              "solidity": 0.2
             }
            },
            "type": "histogram"
           }
          ],
          "histogram2d": [
           {
            "colorbar": {
             "outlinewidth": 0,
             "ticks": ""
            },
            "colorscale": [
             [
              0,
              "#0d0887"
             ],
             [
              0.1111111111111111,
              "#46039f"
             ],
             [
              0.2222222222222222,
              "#7201a8"
             ],
             [
              0.3333333333333333,
              "#9c179e"
             ],
             [
              0.4444444444444444,
              "#bd3786"
             ],
             [
              0.5555555555555556,
              "#d8576b"
             ],
             [
              0.6666666666666666,
              "#ed7953"
             ],
             [
              0.7777777777777778,
              "#fb9f3a"
             ],
             [
              0.8888888888888888,
              "#fdca26"
             ],
             [
              1,
              "#f0f921"
             ]
            ],
            "type": "histogram2d"
           }
          ],
          "histogram2dcontour": [
           {
            "colorbar": {
             "outlinewidth": 0,
             "ticks": ""
            },
            "colorscale": [
             [
              0,
              "#0d0887"
             ],
             [
              0.1111111111111111,
              "#46039f"
             ],
             [
              0.2222222222222222,
              "#7201a8"
             ],
             [
              0.3333333333333333,
              "#9c179e"
             ],
             [
              0.4444444444444444,
              "#bd3786"
             ],
             [
              0.5555555555555556,
              "#d8576b"
             ],
             [
              0.6666666666666666,
              "#ed7953"
             ],
             [
              0.7777777777777778,
              "#fb9f3a"
             ],
             [
              0.8888888888888888,
              "#fdca26"
             ],
             [
              1,
              "#f0f921"
             ]
            ],
            "type": "histogram2dcontour"
           }
          ],
          "mesh3d": [
           {
            "colorbar": {
             "outlinewidth": 0,
             "ticks": ""
            },
            "type": "mesh3d"
           }
          ],
          "parcoords": [
           {
            "line": {
             "colorbar": {
              "outlinewidth": 0,
              "ticks": ""
             }
            },
            "type": "parcoords"
           }
          ],
          "pie": [
           {
            "automargin": true,
            "type": "pie"
           }
          ],
          "scatter": [
           {
            "fillpattern": {
             "fillmode": "overlay",
             "size": 10,
             "solidity": 0.2
            },
            "type": "scatter"
           }
          ],
          "scatter3d": [
           {
            "line": {
             "colorbar": {
              "outlinewidth": 0,
              "ticks": ""
             }
            },
            "marker": {
             "colorbar": {
              "outlinewidth": 0,
              "ticks": ""
             }
            },
            "type": "scatter3d"
           }
          ],
          "scattercarpet": [
           {
            "marker": {
             "colorbar": {
              "outlinewidth": 0,
              "ticks": ""
             }
            },
            "type": "scattercarpet"
           }
          ],
          "scattergeo": [
           {
            "marker": {
             "colorbar": {
              "outlinewidth": 0,
              "ticks": ""
             }
            },
            "type": "scattergeo"
           }
          ],
          "scattergl": [
           {
            "marker": {
             "colorbar": {
              "outlinewidth": 0,
              "ticks": ""
             }
            },
            "type": "scattergl"
           }
          ],
          "scattermapbox": [
           {
            "marker": {
             "colorbar": {
              "outlinewidth": 0,
              "ticks": ""
             }
            },
            "type": "scattermapbox"
           }
          ],
          "scatterpolar": [
           {
            "marker": {
             "colorbar": {
              "outlinewidth": 0,
              "ticks": ""
             }
            },
            "type": "scatterpolar"
           }
          ],
          "scatterpolargl": [
           {
            "marker": {
             "colorbar": {
              "outlinewidth": 0,
              "ticks": ""
             }
            },
            "type": "scatterpolargl"
           }
          ],
          "scatterternary": [
           {
            "marker": {
             "colorbar": {
              "outlinewidth": 0,
              "ticks": ""
             }
            },
            "type": "scatterternary"
           }
          ],
          "surface": [
           {
            "colorbar": {
             "outlinewidth": 0,
             "ticks": ""
            },
            "colorscale": [
             [
              0,
              "#0d0887"
             ],
             [
              0.1111111111111111,
              "#46039f"
             ],
             [
              0.2222222222222222,
              "#7201a8"
             ],
             [
              0.3333333333333333,
              "#9c179e"
             ],
             [
              0.4444444444444444,
              "#bd3786"
             ],
             [
              0.5555555555555556,
              "#d8576b"
             ],
             [
              0.6666666666666666,
              "#ed7953"
             ],
             [
              0.7777777777777778,
              "#fb9f3a"
             ],
             [
              0.8888888888888888,
              "#fdca26"
             ],
             [
              1,
              "#f0f921"
             ]
            ],
            "type": "surface"
           }
          ],
          "table": [
           {
            "cells": {
             "fill": {
              "color": "#EBF0F8"
             },
             "line": {
              "color": "white"
             }
            },
            "header": {
             "fill": {
              "color": "#C8D4E3"
             },
             "line": {
              "color": "white"
             }
            },
            "type": "table"
           }
          ]
         },
         "layout": {
          "annotationdefaults": {
           "arrowcolor": "#2a3f5f",
           "arrowhead": 0,
           "arrowwidth": 1
          },
          "autotypenumbers": "strict",
          "coloraxis": {
           "colorbar": {
            "outlinewidth": 0,
            "ticks": ""
           }
          },
          "colorscale": {
           "diverging": [
            [
             0,
             "#8e0152"
            ],
            [
             0.1,
             "#c51b7d"
            ],
            [
             0.2,
             "#de77ae"
            ],
            [
             0.3,
             "#f1b6da"
            ],
            [
             0.4,
             "#fde0ef"
            ],
            [
             0.5,
             "#f7f7f7"
            ],
            [
             0.6,
             "#e6f5d0"
            ],
            [
             0.7,
             "#b8e186"
            ],
            [
             0.8,
             "#7fbc41"
            ],
            [
             0.9,
             "#4d9221"
            ],
            [
             1,
             "#276419"
            ]
           ],
           "sequential": [
            [
             0,
             "#0d0887"
            ],
            [
             0.1111111111111111,
             "#46039f"
            ],
            [
             0.2222222222222222,
             "#7201a8"
            ],
            [
             0.3333333333333333,
             "#9c179e"
            ],
            [
             0.4444444444444444,
             "#bd3786"
            ],
            [
             0.5555555555555556,
             "#d8576b"
            ],
            [
             0.6666666666666666,
             "#ed7953"
            ],
            [
             0.7777777777777778,
             "#fb9f3a"
            ],
            [
             0.8888888888888888,
             "#fdca26"
            ],
            [
             1,
             "#f0f921"
            ]
           ],
           "sequentialminus": [
            [
             0,
             "#0d0887"
            ],
            [
             0.1111111111111111,
             "#46039f"
            ],
            [
             0.2222222222222222,
             "#7201a8"
            ],
            [
             0.3333333333333333,
             "#9c179e"
            ],
            [
             0.4444444444444444,
             "#bd3786"
            ],
            [
             0.5555555555555556,
             "#d8576b"
            ],
            [
             0.6666666666666666,
             "#ed7953"
            ],
            [
             0.7777777777777778,
             "#fb9f3a"
            ],
            [
             0.8888888888888888,
             "#fdca26"
            ],
            [
             1,
             "#f0f921"
            ]
           ]
          },
          "colorway": [
           "#636efa",
           "#EF553B",
           "#00cc96",
           "#ab63fa",
           "#FFA15A",
           "#19d3f3",
           "#FF6692",
           "#B6E880",
           "#FF97FF",
           "#FECB52"
          ],
          "font": {
           "color": "#2a3f5f"
          },
          "geo": {
           "bgcolor": "white",
           "lakecolor": "white",
           "landcolor": "#E5ECF6",
           "showlakes": true,
           "showland": true,
           "subunitcolor": "white"
          },
          "hoverlabel": {
           "align": "left"
          },
          "hovermode": "closest",
          "mapbox": {
           "style": "light"
          },
          "paper_bgcolor": "white",
          "plot_bgcolor": "#E5ECF6",
          "polar": {
           "angularaxis": {
            "gridcolor": "white",
            "linecolor": "white",
            "ticks": ""
           },
           "bgcolor": "#E5ECF6",
           "radialaxis": {
            "gridcolor": "white",
            "linecolor": "white",
            "ticks": ""
           }
          },
          "scene": {
           "xaxis": {
            "backgroundcolor": "#E5ECF6",
            "gridcolor": "white",
            "gridwidth": 2,
            "linecolor": "white",
            "showbackground": true,
            "ticks": "",
            "zerolinecolor": "white"
           },
           "yaxis": {
            "backgroundcolor": "#E5ECF6",
            "gridcolor": "white",
            "gridwidth": 2,
            "linecolor": "white",
            "showbackground": true,
            "ticks": "",
            "zerolinecolor": "white"
           },
           "zaxis": {
            "backgroundcolor": "#E5ECF6",
            "gridcolor": "white",
            "gridwidth": 2,
            "linecolor": "white",
            "showbackground": true,
            "ticks": "",
            "zerolinecolor": "white"
           }
          },
          "shapedefaults": {
           "line": {
            "color": "#2a3f5f"
           }
          },
          "ternary": {
           "aaxis": {
            "gridcolor": "white",
            "linecolor": "white",
            "ticks": ""
           },
           "baxis": {
            "gridcolor": "white",
            "linecolor": "white",
            "ticks": ""
           },
           "bgcolor": "#E5ECF6",
           "caxis": {
            "gridcolor": "white",
            "linecolor": "white",
            "ticks": ""
           }
          },
          "title": {
           "x": 0.05
          },
          "xaxis": {
           "automargin": true,
           "gridcolor": "white",
           "linecolor": "white",
           "ticks": "",
           "title": {
            "standoff": 15
           },
           "zerolinecolor": "white",
           "zerolinewidth": 2
          },
          "yaxis": {
           "automargin": true,
           "gridcolor": "white",
           "linecolor": "white",
           "ticks": "",
           "title": {
            "standoff": 15
           },
           "zerolinecolor": "white",
           "zerolinewidth": 2
          }
         }
        },
        "title": {
         "text": "Job Title Composition 2020-2023"
        },
        "width": 600
       }
      }
     },
     "metadata": {},
     "output_type": "display_data"
    },
    {
     "data": {
      "application/vnd.plotly.v1+json": {
       "config": {
        "plotlyServerURL": "https://plot.ly"
       },
       "data": [
        {
         "domain": {
          "x": [
           0,
           1
          ],
          "y": [
           0,
           1
          ]
         },
         "hole": 0.5,
         "hovertemplate": "experience_level=%{label}<br>work_year=%{value}<extra></extra>",
         "labels": [
          "Entry Level",
          "Executive Level",
          "Mid Level",
          "Senior Level",
          "Executive Level",
          "Mid Level",
          "Senior Level",
          "Entry Level",
          "Executive Level",
          "Mid Level",
          "Senior Level",
          "Entry Level",
          "Executive Level",
          "Mid Level",
          "Senior Level",
          "Entry Level",
          "Executive Level",
          "Mid Level",
          "Senior Level",
          "Entry Level",
          "Mid Level",
          "Senior Level",
          "Entry Level",
          "Executive Level",
          "Mid Level",
          "Senior Level"
         ],
         "legendgroup": "",
         "name": "",
         "showlegend": true,
         "type": "pie",
         "values": [
          85,
          12,
          213,
          481,
          2,
          7,
          97,
          72,
          52,
          226,
          751,
          94,
          14,
          205,
          765,
          62,
          3,
          118,
          291,
          5,
          9,
          33,
          2,
          31,
          27,
          98
         ]
        }
       ],
       "layout": {
        "height": 500,
        "legend": {
         "tracegroupgap": 0
        },
        "template": {
         "data": {
          "bar": [
           {
            "error_x": {
             "color": "#2a3f5f"
            },
            "error_y": {
             "color": "#2a3f5f"
            },
            "marker": {
             "line": {
              "color": "#E5ECF6",
              "width": 0.5
             },
             "pattern": {
              "fillmode": "overlay",
              "size": 10,
              "solidity": 0.2
             }
            },
            "type": "bar"
           }
          ],
          "barpolar": [
           {
            "marker": {
             "line": {
              "color": "#E5ECF6",
              "width": 0.5
             },
             "pattern": {
              "fillmode": "overlay",
              "size": 10,
              "solidity": 0.2
             }
            },
            "type": "barpolar"
           }
          ],
          "carpet": [
           {
            "aaxis": {
             "endlinecolor": "#2a3f5f",
             "gridcolor": "white",
             "linecolor": "white",
             "minorgridcolor": "white",
             "startlinecolor": "#2a3f5f"
            },
            "baxis": {
             "endlinecolor": "#2a3f5f",
             "gridcolor": "white",
             "linecolor": "white",
             "minorgridcolor": "white",
             "startlinecolor": "#2a3f5f"
            },
            "type": "carpet"
           }
          ],
          "choropleth": [
           {
            "colorbar": {
             "outlinewidth": 0,
             "ticks": ""
            },
            "type": "choropleth"
           }
          ],
          "contour": [
           {
            "colorbar": {
             "outlinewidth": 0,
             "ticks": ""
            },
            "colorscale": [
             [
              0,
              "#0d0887"
             ],
             [
              0.1111111111111111,
              "#46039f"
             ],
             [
              0.2222222222222222,
              "#7201a8"
             ],
             [
              0.3333333333333333,
              "#9c179e"
             ],
             [
              0.4444444444444444,
              "#bd3786"
             ],
             [
              0.5555555555555556,
              "#d8576b"
             ],
             [
              0.6666666666666666,
              "#ed7953"
             ],
             [
              0.7777777777777778,
              "#fb9f3a"
             ],
             [
              0.8888888888888888,
              "#fdca26"
             ],
             [
              1,
              "#f0f921"
             ]
            ],
            "type": "contour"
           }
          ],
          "contourcarpet": [
           {
            "colorbar": {
             "outlinewidth": 0,
             "ticks": ""
            },
            "type": "contourcarpet"
           }
          ],
          "heatmap": [
           {
            "colorbar": {
             "outlinewidth": 0,
             "ticks": ""
            },
            "colorscale": [
             [
              0,
              "#0d0887"
             ],
             [
              0.1111111111111111,
              "#46039f"
             ],
             [
              0.2222222222222222,
              "#7201a8"
             ],
             [
              0.3333333333333333,
              "#9c179e"
             ],
             [
              0.4444444444444444,
              "#bd3786"
             ],
             [
              0.5555555555555556,
              "#d8576b"
             ],
             [
              0.6666666666666666,
              "#ed7953"
             ],
             [
              0.7777777777777778,
              "#fb9f3a"
             ],
             [
              0.8888888888888888,
              "#fdca26"
             ],
             [
              1,
              "#f0f921"
             ]
            ],
            "type": "heatmap"
           }
          ],
          "heatmapgl": [
           {
            "colorbar": {
             "outlinewidth": 0,
             "ticks": ""
            },
            "colorscale": [
             [
              0,
              "#0d0887"
             ],
             [
              0.1111111111111111,
              "#46039f"
             ],
             [
              0.2222222222222222,
              "#7201a8"
             ],
             [
              0.3333333333333333,
              "#9c179e"
             ],
             [
              0.4444444444444444,
              "#bd3786"
             ],
             [
              0.5555555555555556,
              "#d8576b"
             ],
             [
              0.6666666666666666,
              "#ed7953"
             ],
             [
              0.7777777777777778,
              "#fb9f3a"
             ],
             [
              0.8888888888888888,
              "#fdca26"
             ],
             [
              1,
              "#f0f921"
             ]
            ],
            "type": "heatmapgl"
           }
          ],
          "histogram": [
           {
            "marker": {
             "pattern": {
              "fillmode": "overlay",
              "size": 10,
              "solidity": 0.2
             }
            },
            "type": "histogram"
           }
          ],
          "histogram2d": [
           {
            "colorbar": {
             "outlinewidth": 0,
             "ticks": ""
            },
            "colorscale": [
             [
              0,
              "#0d0887"
             ],
             [
              0.1111111111111111,
              "#46039f"
             ],
             [
              0.2222222222222222,
              "#7201a8"
             ],
             [
              0.3333333333333333,
              "#9c179e"
             ],
             [
              0.4444444444444444,
              "#bd3786"
             ],
             [
              0.5555555555555556,
              "#d8576b"
             ],
             [
              0.6666666666666666,
              "#ed7953"
             ],
             [
              0.7777777777777778,
              "#fb9f3a"
             ],
             [
              0.8888888888888888,
              "#fdca26"
             ],
             [
              1,
              "#f0f921"
             ]
            ],
            "type": "histogram2d"
           }
          ],
          "histogram2dcontour": [
           {
            "colorbar": {
             "outlinewidth": 0,
             "ticks": ""
            },
            "colorscale": [
             [
              0,
              "#0d0887"
             ],
             [
              0.1111111111111111,
              "#46039f"
             ],
             [
              0.2222222222222222,
              "#7201a8"
             ],
             [
              0.3333333333333333,
              "#9c179e"
             ],
             [
              0.4444444444444444,
              "#bd3786"
             ],
             [
              0.5555555555555556,
              "#d8576b"
             ],
             [
              0.6666666666666666,
              "#ed7953"
             ],
             [
              0.7777777777777778,
              "#fb9f3a"
             ],
             [
              0.8888888888888888,
              "#fdca26"
             ],
             [
              1,
              "#f0f921"
             ]
            ],
            "type": "histogram2dcontour"
           }
          ],
          "mesh3d": [
           {
            "colorbar": {
             "outlinewidth": 0,
             "ticks": ""
            },
            "type": "mesh3d"
           }
          ],
          "parcoords": [
           {
            "line": {
             "colorbar": {
              "outlinewidth": 0,
              "ticks": ""
             }
            },
            "type": "parcoords"
           }
          ],
          "pie": [
           {
            "automargin": true,
            "type": "pie"
           }
          ],
          "scatter": [
           {
            "fillpattern": {
             "fillmode": "overlay",
             "size": 10,
             "solidity": 0.2
            },
            "type": "scatter"
           }
          ],
          "scatter3d": [
           {
            "line": {
             "colorbar": {
              "outlinewidth": 0,
              "ticks": ""
             }
            },
            "marker": {
             "colorbar": {
              "outlinewidth": 0,
              "ticks": ""
             }
            },
            "type": "scatter3d"
           }
          ],
          "scattercarpet": [
           {
            "marker": {
             "colorbar": {
              "outlinewidth": 0,
              "ticks": ""
             }
            },
            "type": "scattercarpet"
           }
          ],
          "scattergeo": [
           {
            "marker": {
             "colorbar": {
              "outlinewidth": 0,
              "ticks": ""
             }
            },
            "type": "scattergeo"
           }
          ],
          "scattergl": [
           {
            "marker": {
             "colorbar": {
              "outlinewidth": 0,
              "ticks": ""
             }
            },
            "type": "scattergl"
           }
          ],
          "scattermapbox": [
           {
            "marker": {
             "colorbar": {
              "outlinewidth": 0,
              "ticks": ""
             }
            },
            "type": "scattermapbox"
           }
          ],
          "scatterpolar": [
           {
            "marker": {
             "colorbar": {
              "outlinewidth": 0,
              "ticks": ""
             }
            },
            "type": "scatterpolar"
           }
          ],
          "scatterpolargl": [
           {
            "marker": {
             "colorbar": {
              "outlinewidth": 0,
              "ticks": ""
             }
            },
            "type": "scatterpolargl"
           }
          ],
          "scatterternary": [
           {
            "marker": {
             "colorbar": {
              "outlinewidth": 0,
              "ticks": ""
             }
            },
            "type": "scatterternary"
           }
          ],
          "surface": [
           {
            "colorbar": {
             "outlinewidth": 0,
             "ticks": ""
            },
            "colorscale": [
             [
              0,
              "#0d0887"
             ],
             [
              0.1111111111111111,
              "#46039f"
             ],
             [
              0.2222222222222222,
              "#7201a8"
             ],
             [
              0.3333333333333333,
              "#9c179e"
             ],
             [
              0.4444444444444444,
              "#bd3786"
             ],
             [
              0.5555555555555556,
              "#d8576b"
             ],
             [
              0.6666666666666666,
              "#ed7953"
             ],
             [
              0.7777777777777778,
              "#fb9f3a"
             ],
             [
              0.8888888888888888,
              "#fdca26"
             ],
             [
              1,
              "#f0f921"
             ]
            ],
            "type": "surface"
           }
          ],
          "table": [
           {
            "cells": {
             "fill": {
              "color": "#EBF0F8"
             },
             "line": {
              "color": "white"
             }
            },
            "header": {
             "fill": {
              "color": "#C8D4E3"
             },
             "line": {
              "color": "white"
             }
            },
            "type": "table"
           }
          ]
         },
         "layout": {
          "annotationdefaults": {
           "arrowcolor": "#2a3f5f",
           "arrowhead": 0,
           "arrowwidth": 1
          },
          "autotypenumbers": "strict",
          "coloraxis": {
           "colorbar": {
            "outlinewidth": 0,
            "ticks": ""
           }
          },
          "colorscale": {
           "diverging": [
            [
             0,
             "#8e0152"
            ],
            [
             0.1,
             "#c51b7d"
            ],
            [
             0.2,
             "#de77ae"
            ],
            [
             0.3,
             "#f1b6da"
            ],
            [
             0.4,
             "#fde0ef"
            ],
            [
             0.5,
             "#f7f7f7"
            ],
            [
             0.6,
             "#e6f5d0"
            ],
            [
             0.7,
             "#b8e186"
            ],
            [
             0.8,
             "#7fbc41"
            ],
            [
             0.9,
             "#4d9221"
            ],
            [
             1,
             "#276419"
            ]
           ],
           "sequential": [
            [
             0,
             "#0d0887"
            ],
            [
             0.1111111111111111,
             "#46039f"
            ],
            [
             0.2222222222222222,
             "#7201a8"
            ],
            [
             0.3333333333333333,
             "#9c179e"
            ],
            [
             0.4444444444444444,
             "#bd3786"
            ],
            [
             0.5555555555555556,
             "#d8576b"
            ],
            [
             0.6666666666666666,
             "#ed7953"
            ],
            [
             0.7777777777777778,
             "#fb9f3a"
            ],
            [
             0.8888888888888888,
             "#fdca26"
            ],
            [
             1,
             "#f0f921"
            ]
           ],
           "sequentialminus": [
            [
             0,
             "#0d0887"
            ],
            [
             0.1111111111111111,
             "#46039f"
            ],
            [
             0.2222222222222222,
             "#7201a8"
            ],
            [
             0.3333333333333333,
             "#9c179e"
            ],
            [
             0.4444444444444444,
             "#bd3786"
            ],
            [
             0.5555555555555556,
             "#d8576b"
            ],
            [
             0.6666666666666666,
             "#ed7953"
            ],
            [
             0.7777777777777778,
             "#fb9f3a"
            ],
            [
             0.8888888888888888,
             "#fdca26"
            ],
            [
             1,
             "#f0f921"
            ]
           ]
          },
          "colorway": [
           "#636efa",
           "#EF553B",
           "#00cc96",
           "#ab63fa",
           "#FFA15A",
           "#19d3f3",
           "#FF6692",
           "#B6E880",
           "#FF97FF",
           "#FECB52"
          ],
          "font": {
           "color": "#2a3f5f"
          },
          "geo": {
           "bgcolor": "white",
           "lakecolor": "white",
           "landcolor": "#E5ECF6",
           "showlakes": true,
           "showland": true,
           "subunitcolor": "white"
          },
          "hoverlabel": {
           "align": "left"
          },
          "hovermode": "closest",
          "mapbox": {
           "style": "light"
          },
          "paper_bgcolor": "white",
          "plot_bgcolor": "#E5ECF6",
          "polar": {
           "angularaxis": {
            "gridcolor": "white",
            "linecolor": "white",
            "ticks": ""
           },
           "bgcolor": "#E5ECF6",
           "radialaxis": {
            "gridcolor": "white",
            "linecolor": "white",
            "ticks": ""
           }
          },
          "scene": {
           "xaxis": {
            "backgroundcolor": "#E5ECF6",
            "gridcolor": "white",
            "gridwidth": 2,
            "linecolor": "white",
            "showbackground": true,
            "ticks": "",
            "zerolinecolor": "white"
           },
           "yaxis": {
            "backgroundcolor": "#E5ECF6",
            "gridcolor": "white",
            "gridwidth": 2,
            "linecolor": "white",
            "showbackground": true,
            "ticks": "",
            "zerolinecolor": "white"
           },
           "zaxis": {
            "backgroundcolor": "#E5ECF6",
            "gridcolor": "white",
            "gridwidth": 2,
            "linecolor": "white",
            "showbackground": true,
            "ticks": "",
            "zerolinecolor": "white"
           }
          },
          "shapedefaults": {
           "line": {
            "color": "#2a3f5f"
           }
          },
          "ternary": {
           "aaxis": {
            "gridcolor": "white",
            "linecolor": "white",
            "ticks": ""
           },
           "baxis": {
            "gridcolor": "white",
            "linecolor": "white",
            "ticks": ""
           },
           "bgcolor": "#E5ECF6",
           "caxis": {
            "gridcolor": "white",
            "linecolor": "white",
            "ticks": ""
           }
          },
          "title": {
           "x": 0.05
          },
          "xaxis": {
           "automargin": true,
           "gridcolor": "white",
           "linecolor": "white",
           "ticks": "",
           "title": {
            "standoff": 15
           },
           "zerolinecolor": "white",
           "zerolinewidth": 2
          },
          "yaxis": {
           "automargin": true,
           "gridcolor": "white",
           "linecolor": "white",
           "ticks": "",
           "title": {
            "standoff": 15
           },
           "zerolinecolor": "white",
           "zerolinewidth": 2
          }
         }
        },
        "title": {
         "text": "Experience Level Composition 2020-2023"
        },
        "width": 600
       }
      }
     },
     "metadata": {},
     "output_type": "display_data"
    }
   ],
   "source": [
    "# create pie for compositioning job_title and experience_level\n",
    "pie = df_salary.groupby(['job_title','experience_level'])['work_year'].count().reset_index()\n",
    "\n",
    "# plot the graph job title distribution\n",
    "pie_job = px.pie(\n",
    "    pie,\n",
    "    names='job_title',\n",
    "    values='work_year',\n",
    "    hole=0.5,\n",
    "    width=600,\n",
    "    height=500,\n",
    "    title=\"Job Title Composition 2020-2023\",\n",
    ")\n",
    "pie_job.show()\n",
    "\n",
    "# plot the graph job title distribution\n",
    "pie_exp = px.pie(\n",
    "    pie,\n",
    "    names='experience_level',\n",
    "    values='work_year',\n",
    "    hole=0.5,\n",
    "    width=600,\n",
    "    height=500,\n",
    "    title=\"Experience Level Composition 2020-2023\",\n",
    ")\n",
    "pie_exp.show()"
   ]
  },
  {
   "attachments": {},
   "cell_type": "markdown",
   "metadata": {},
   "source": [
    "The `type of work` that is most in demand is the field of `Data Science` then `Data Engineering` and after. While many job level positions are filled by `Senior Level`, then `Mid Level` and after."
   ]
  },
  {
   "attachments": {},
   "cell_type": "markdown",
   "metadata": {},
   "source": [
    "## Salary Distribution Based on Currency <a id='Cont12'></a>"
   ]
  },
  {
   "attachments": {},
   "cell_type": "markdown",
   "metadata": {},
   "source": [
    "Here we will find out the `popular` `currencies` and `unpopular` `currencies` for payments for data work."
   ]
  },
  {
   "cell_type": "code",
   "execution_count": 14,
   "metadata": {},
   "outputs": [
    {
     "data": {
      "image/png": "[encoded data removed]",
      "text/plain": [
       "<Figure size 640x480 with 1 Axes>"
      ]
     },
     "metadata": {},
     "output_type": "display_data"
    },
    {
     "data": {
      "image/png": "[encoded data removed]",
      "text/plain": [
       "<Figure size 640x480 with 1 Axes>"
      ]
     },
     "metadata": {},
     "output_type": "display_data"
    }
   ],
   "source": [
    "# grouping currency\n",
    "currency = df_salary.groupby('salary_currency')['salary'].sum().sort_values(ascending=False).reset_index()\n",
    "currency['salary'] = currency['salary']/1000000\n",
    "\n",
    "# top up 10 currencies\n",
    "sns.barplot(currency.head(10),x='salary_currency',y='salary')\n",
    "plt.title('Top Currencies 2020 - 2023')\n",
    "plt.xlabel('Currency')\n",
    "plt.ylabel('Salary in Millions')\n",
    "plt.show()\n",
    "\n",
    "# low 10 currencies\n",
    "sns.barplot(currency.tail(10),x='salary_currency',y='salary')\n",
    "plt.title('Low Currencies 2020 - 2023')\n",
    "plt.xlabel('Currency')\n",
    "plt.ylabel('Salary in Millions')\n",
    "plt.ylim(0,5)\n",
    "plt.show()"
   ]
  },
  {
   "attachments": {},
   "cell_type": "markdown",
   "metadata": {},
   "source": [
    "It can be seen that the popular currency is `USD` with total salary of almost `500M USD` while the unpopular currency is `CZK` whose value is below `1M CZK`."
   ]
  },
  {
   "attachments": {},
   "cell_type": "markdown",
   "metadata": {},
   "source": [
    "## Salary Distribution in USD Using a Histogram <a id='Cont13'></a>"
   ]
  },
  {
   "attachments": {},
   "cell_type": "markdown",
   "metadata": {},
   "source": [
    "Next we will find out the salary distribution based on `USD conversion` for our dataset using `histogram plot`."
   ]
  },
  {
   "cell_type": "code",
   "execution_count": 15,
   "metadata": {},
   "outputs": [
    {
     "data": {
      "image/png": "[encoded data removed]",
      "text/plain": [
       "<Figure size 640x480 with 1 Axes>"
      ]
     },
     "metadata": {},
     "output_type": "display_data"
    }
   ],
   "source": [
    "# distribution salary by histogram\n",
    "hisplot = sns.histplot(df_salary['salary_in_usd'],kde=True,color='green')\n",
    "plt.title('USD Salary Distribution by Histogram')\n",
    "\n",
    "# show the graph\n",
    "plt.show()"
   ]
  },
  {
   "attachments": {},
   "cell_type": "markdown",
   "metadata": {},
   "source": [
    "Based on the above chart it can be seen that the `average salary` is at `150000 USD` and rarely exceeds `400000 USD`."
   ]
  },
  {
   "attachments": {},
   "cell_type": "markdown",
   "metadata": {},
   "source": [
    "## Boxplot Analysis of Salary Against Type of Work <a id='Cont14'></a>"
   ]
  },
  {
   "attachments": {},
   "cell_type": "markdown",
   "metadata": {},
   "source": [
    "Here we will do a boxplot analysis to see the distribution of `salary` based on the `type of work` in more detail."
   ]
  },
  {
   "cell_type": "code",
   "execution_count": 16,
   "metadata": {},
   "outputs": [
    {
     "data": {
      "application/vnd.plotly.v1+json": {
       "config": {
        "plotlyServerURL": "https://plot.ly"
       },
       "data": [
        {
         "alignmentgroup": "True",
         "hovertemplate": "job_title=%{y}<br>salary_in_usd=%{x}<extra></extra>",
         "legendgroup": "Top Management",
         "marker": {
          "color": "#636efa"
         },
         "name": "Top Management",
         "notched": false,
         "offsetgroup": "Top Management",
         "orientation": "h",
         "showlegend": true,
         "type": "box",
         "x": [
          85847,
          155000,
          140000,
          329500,
          269600,
          191765,
          134236,
          198800,
          105200,
          115000,
          86000,
          160000,
          120000,
          135000,
          120000,
          353200,
          249300,
          65000,
          48000,
          299500,
          245100,
          299500,
          245100,
          155000,
          140000,
          104500,
          70000,
          155000,
          140000,
          155000,
          140000,
          75116,
          106000,
          150000,
          90000,
          72946,
          54365,
          160288,
          127467,
          175000,
          120000,
          140000,
          120000,
          169000,
          100000,
          299500,
          245100,
          140000,
          120000,
          231250,
          138750,
          125686,
          155000,
          140000,
          204500,
          138900,
          314100,
          195800,
          199000,
          112000,
          60795,
          220000,
          195000,
          168400,
          105200,
          299500,
          245100,
          297300,
          198200,
          133000,
          125000,
          175000,
          120000,
          190000,
          155000,
          140000,
          299500,
          245100,
          247500,
          172200,
          77300,
          45600,
          205000,
          160000,
          134000,
          98000,
          38154,
          200000,
          150000,
          125976,
          243225,
          179775,
          222640,
          182160,
          134000,
          98000,
          57786,
          158000,
          134000,
          206000,
          175100,
          189500,
          140100,
          260500,
          175100,
          249260,
          185400,
          133766,
          300000,
          200000,
          145000,
          105400,
          76309,
          241000,
          159000,
          161342,
          137141,
          224000,
          167875,
          150260,
          109280,
          117104,
          192037,
          102839,
          200000,
          31520,
          75000,
          152500,
          240000,
          220000,
          155499,
          200000,
          250000,
          130026,
          85000,
          230000,
          120000,
          144000,
          153667,
          235000,
          170000,
          110000,
          141846,
          54094,
          174000,
          416000,
          120000,
          325000,
          185000,
          140000,
          152000,
          173762,
          148261,
          235000,
          190200,
          168000,
          151000,
          94665
         ],
         "x0": " ",
         "xaxis": "x",
         "y": [
          "Top Management",
          "Top Management",
          "Top Management",
          "Top Management",
          "Top Management",
          "Top Management",
          "Top Management",
          "Top Management",
          "Top Management",
          "Top Management",
          "Top Management",
          "Top Management",
          "Top Management",
          "Top Management",
          "Top Management",
          "Top Management",
          "Top Management",
          "Top Management",
          "Top Management",
          "Top Management",
          "Top Management",
          "Top Management",
          "Top Management",
          "Top Management",
          "Top Management",
          "Top Management",
          "Top Management",
          "Top Management",
          "Top Management",
          "Top Management",
          "Top Management",
          "Top Management",
          "Top Management",
          "Top Management",
          "Top Management",
          "Top Management",
          "Top Management",
          "Top Management",
          "Top Management",
          "Top Management",
          "Top Management",
          "Top Management",
          "Top Management",
          "Top Management",
          "Top Management",
          "Top Management",
          "Top Management",
          "Top Management",
          "Top Management",
          "Top Management",
          "Top Management",
          "Top Management",
          "Top Management",
          "Top Management",
          "Top Management",
          "Top Management",
          "Top Management",
          "Top Management",
          "Top Management",
          "Top Management",
          "Top Management",
          "Top Management",
          "Top Management",
          "Top Management",
          "Top Management",
          "Top Management",
          "Top Management",
          "Top Management",
          "Top Management",
          "Top Management",
          "Top Management",
          "Top Management",
          "Top Management",
          "Top Management",
          "Top Management",
          "Top Management",
          "Top Management",
          "Top Management",
          "Top Management",
          "Top Management",
          "Top Management",
          "Top Management",
          "Top Management",
          "Top Management",
          "Top Management",
          "Top Management",
          "Top Management",
          "Top Management",
          "Top Management",
          "Top Management",
          "Top Management",
          "Top Management",
          "Top Management",
          "Top Management",
          "Top Management",
          "Top Management",
          "Top Management",
          "Top Management",
          "Top Management",
          "Top Management",
          "Top Management",
          "Top Management",
          "Top Management",
          "Top Management",
          "Top Management",
          "Top Management",
          "Top Management",
          "Top Management",
          "Top Management",
          "Top Management",
          "Top Management",
          "Top Management",
          "Top Management",
          "Top Management",
          "Top Management",
          "Top Management",
          "Top Management",
          "Top Management",
          "Top Management",
          "Top Management",
          "Top Management",
          "Top Management",
          "Top Management",
          "Top Management",
          "Top Management",
          "Top Management",
          "Top Management",
          "Top Management",
          "Top Management",
          "Top Management",
          "Top Management",
          "Top Management",
          "Top Management",
          "Top Management",
          "Top Management",
          "Top Management",
          "Top Management",
          "Top Management",
          "Top Management",
          "Top Management",
          "Top Management",
          "Top Management",
          "Top Management",
          "Top Management",
          "Top Management",
          "Top Management",
          "Top Management",
          "Top Management",
          "Top Management",
          "Top Management",
          "Top Management",
          "Top Management",
          "Top Management",
          "Top Management",
          "Top Management",
          "Top Management",
          "Top Management",
          "Top Management"
         ],
         "y0": " ",
         "yaxis": "y"
        },
        {
         "alignmentgroup": "True",
         "hovertemplate": "job_title=%{y}<br>salary_in_usd=%{x}<extra></extra>",
         "legendgroup": "Machine Learning",
         "marker": {
          "color": "#EF553B"
         },
         "name": "Machine Learning",
         "notched": false,
         "offsetgroup": "Machine Learning",
         "orientation": "h",
         "showlegend": true,
         "type": "box",
         "x": [
          30000,
          25500,
          200000,
          130000,
          342810,
          184590,
          20984,
          280000,
          210000,
          150000,
          69751,
          300000,
          96578,
          163196,
          145885,
          56536,
          283200,
          188800,
          342300,
          176100,
          318300,
          212200,
          190000,
          150000,
          300000,
          250000,
          215000,
          170000,
          247500,
          172200,
          75020,
          200000,
          275000,
          50000,
          280700,
          150450,
          257000,
          147000,
          304000,
          199000,
          289076,
          202353,
          241000,
          181000,
          170000,
          130000,
          125000,
          100000,
          115000,
          95000,
          230000,
          220000,
          108000,
          60000,
          247500,
          172200,
          135000,
          423834,
          216000,
          184000,
          130000,
          90000,
          220000,
          170000,
          42923,
          90000,
          150000,
          120000,
          160000,
          147000,
          70000,
          80000,
          250000,
          150000,
          139500,
          109400,
          195652,
          101228,
          260000,
          110000,
          247500,
          172200,
          163800,
          126000,
          123405,
          214618,
          153400,
          122700,
          153400,
          122700,
          247500,
          172200,
          139500,
          109400,
          200000,
          125000,
          204500,
          142200,
          205920,
          171600,
          163800,
          126000,
          204500,
          142200,
          220000,
          64385,
          204500,
          142200,
          200000,
          175000,
          204500,
          142200,
          153400,
          122700,
          247500,
          172200,
          128280,
          106900,
          275000,
          174000,
          139500,
          109400,
          205920,
          171600,
          130000,
          38631,
          163800,
          126000,
          269000,
          158000,
          150000,
          100000,
          323300,
          184700,
          30000,
          186000,
          153088,
          200000,
          150000,
          240000,
          180000,
          200000,
          150000,
          148500,
          126277,
          180000,
          90000,
          272000,
          170000,
          107309,
          75116,
          139500,
          109400,
          288000,
          140000,
          288000,
          140000,
          204500,
          142200,
          48609,
          147100,
          90700,
          375000,
          220000,
          170000,
          284310,
          153090,
          318300,
          188800,
          36000,
          121523,
          97218,
          145828,
          121523,
          53654,
          204500,
          142200,
          163800,
          126000,
          220000,
          150000,
          150000,
          125000,
          110000,
          220000,
          150000,
          276000,
          184000,
          180000,
          150000,
          84053,
          50000,
          200000,
          135000,
          120000,
          200000,
          6304,
          15897,
          77262,
          38631,
          204500,
          142200,
          145000,
          87000,
          234100,
          203500,
          145000,
          135000,
          219000,
          175000,
          140000,
          72914,
          225000,
          165750,
          109006,
          67141,
          275000,
          175000,
          235000,
          135000,
          289076,
          202353,
          150000,
          120000,
          204500,
          142200,
          204500,
          142200,
          235000,
          185000,
          75344,
          63192,
          58331,
          46178,
          261500,
          134500,
          150000,
          40000,
          210000,
          160000,
          248400,
          183600,
          40000,
          246000,
          201000,
          235000,
          185000,
          204500,
          142200,
          192000,
          164000,
          10000,
          44365,
          145000,
          135000,
          125000,
          58837,
          210000,
          150000,
          246000,
          201000,
          255000,
          185000,
          10000,
          200000,
          12000,
          192000,
          120000,
          130000,
          90000,
          150000,
          100000,
          230000,
          150000,
          130000,
          100000,
          165000,
          135000,
          204500,
          142200,
          227200,
          168000,
          20000,
          243000,
          183000,
          105236,
          189750,
          140250,
          115573,
          73546,
          66192,
          50000,
          86193,
          49253,
          100000,
          204500,
          142200,
          204500,
          142200,
          247500,
          172200,
          204500,
          142200,
          104663,
          80036,
          104697,
          33000,
          34672,
          201000,
          119000,
          130000,
          90000,
          187200,
          116100,
          204500,
          142200,
          180000,
          100000,
          210000,
          180000,
          108000,
          148500,
          98200,
          69344,
          5132,
          210000,
          180000,
          140000,
          110000,
          50000,
          210000,
          180000,
          195400,
          131300,
          200000,
          135000,
          130000,
          84000,
          31520,
          195400,
          131300,
          60000,
          63040,
          108000,
          20000,
          193900,
          129300,
          15000,
          200000,
          180000,
          200000,
          19073,
          75000,
          186000,
          148800,
          95386,
          128058,
          173000,
          186000,
          148800,
          135000,
          85000,
          189650,
          164996,
          200000,
          150000,
          193900,
          129300,
          55410,
          248700,
          167100,
          202900,
          131300,
          115000,
          193900,
          129300,
          216000,
          144000,
          12171,
          77119,
          30523,
          30000,
          180000,
          100000,
          200000,
          180000,
          22800,
          202900,
          131300,
          83000,
          240000,
          160000,
          200000,
          116976,
          92350,
          120000,
          84053,
          189650,
          164996,
          35093,
          189650,
          164996,
          51064,
          160000,
          112300,
          214000,
          192600,
          220000,
          120000,
          120000,
          65000,
          76814,
          120000,
          55685,
          75000,
          68293,
          10000,
          83864,
          59888,
          153000,
          76814,
          30469,
          77364,
          63711,
          150000,
          24000,
          38400,
          84053,
          20000,
          125000,
          120000,
          21013,
          100000,
          82744,
          125000,
          12000,
          5409,
          270000,
          47282,
          250000,
          138000,
          225000,
          50180,
          94564,
          15966,
          95746,
          70000,
          260000,
          256000,
          185000,
          150000,
          55000,
          85000,
          66265,
          24823,
          24342,
          21844,
          81000,
          195000,
          225000,
          46597,
          88654,
          28609,
          24823,
          200000,
          45896,
          12000,
          74000,
          60000,
          18907,
          18053,
          12000,
          45618,
          423000
         ],
         "x0": " ",
         "xaxis": "x",
         "y": [
          "Machine Learning",
          "Machine Learning",
          "Machine Learning",
          "Machine Learning",
          "Machine Learning",
          "Machine Learning",
          "Machine Learning",
          "Machine Learning",
          "Machine Learning",
          "Machine Learning",
          "Machine Learning",
          "Machine Learning",
          "Machine Learning",
          "Machine Learning",
          "Machine Learning",
          "Machine Learning",
          "Machine Learning",
          "Machine Learning",
          "Machine Learning",
          "Machine Learning",
          "Machine Learning",
          "Machine Learning",
          "Machine Learning",
          "Machine Learning",
          "Machine Learning",
          "Machine Learning",
          "Machine Learning",
          "Machine Learning",
          "Machine Learning",
          "Machine Learning",
          "Machine Learning",
          "Machine Learning",
          "Machine Learning",
          "Machine Learning",
          "Machine Learning",
          "Machine Learning",
          "Machine Learning",
          "Machine Learning",
          "Machine Learning",
          "Machine Learning",
          "Machine Learning",
          "Machine Learning",
          "Machine Learning",
          "Machine Learning",
          "Machine Learning",
          "Machine Learning",
          "Machine Learning",
          "Machine Learning",
          "Machine Learning",
          "Machine Learning",
          "Machine Learning",
          "Machine Learning",
          "Machine Learning",
          "Machine Learning",
          "Machine Learning",
          "Machine Learning",
          "Machine Learning",
          "Machine Learning",
          "Machine Learning",
          "Machine Learning",
          "Machine Learning",
          "Machine Learning",
          "Machine Learning",
          "Machine Learning",
          "Machine Learning",
          "Machine Learning",
          "Machine Learning",
          "Machine Learning",
          "Machine Learning",
          "Machine Learning",
          "Machine Learning",
          "Machine Learning",
          "Machine Learning",
          "Machine Learning",
          "Machine Learning",
          "Machine Learning",
          "Machine Learning",
          "Machine Learning",
          "Machine Learning",
          "Machine Learning",
          "Machine Learning",
          "Machine Learning",
          "Machine Learning",
          "Machine Learning",
          "Machine Learning",
          "Machine Learning",
          "Machine Learning",
          "Machine Learning",
          "Machine Learning",
          "Machine Learning",
          "Machine Learning",
          "Machine Learning",
          "Machine Learning",
          "Machine Learning",
          "Machine Learning",
          "Machine Learning",
          "Machine Learning",
          "Machine Learning",
          "Machine Learning",
          "Machine Learning",
          "Machine Learning",
          "Machine Learning",
          "Machine Learning",
          "Machine Learning",
          "Machine Learning",
          "Machine Learning",
          "Machine Learning",
          "Machine Learning",
          "Machine Learning",
          "Machine Learning",
          "Machine Learning",
          "Machine Learning",
          "Machine Learning",
          "Machine Learning",
          "Machine Learning",
          "Machine Learning",
          "Machine Learning",
          "Machine Learning",
          "Machine Learning",
          "Machine Learning",
          "Machine Learning",
          "Machine Learning",
          "Machine Learning",
          "Machine Learning",
          "Machine Learning",
          "Machine Learning",
          "Machine Learning",
          "Machine Learning",
          "Machine Learning",
          "Machine Learning",
          "Machine Learning",
          "Machine Learning",
          "Machine Learning",
          "Machine Learning",
          "Machine Learning",
          "Machine Learning",
          "Machine Learning",
          "Machine Learning",
          "Machine Learning",
          "Machine Learning",
          "Machine Learning",
          "Machine Learning",
          "Machine Learning",
          "Machine Learning",
          "Machine Learning",
          "Machine Learning",
          "Machine Learning",
          "Machine Learning",
          "Machine Learning",
          "Machine Learning",
          "Machine Learning",
          "Machine Learning",
          "Machine Learning",
          "Machine Learning",
          "Machine Learning",
          "Machine Learning",
          "Machine Learning",
          "Machine Learning",
          "Machine Learning",
          "Machine Learning",
          "Machine Learning",
          "Machine Learning",
          "Machine Learning",
          "Machine Learning",
          "Machine Learning",
          "Machine Learning",
          "Machine Learning",
          "Machine Learning",
          "Machine Learning",
          "Machine Learning",
          "Machine Learning",
          "Machine Learning",
          "Machine Learning",
          "Machine Learning",
          "Machine Learning",
          "Machine Learning",
          "Machine Learning",
          "Machine Learning",
          "Machine Learning",
          "Machine Learning",
          "Machine Learning",
          "Machine Learning",
          "Machine Learning",
          "Machine Learning",
          "Machine Learning",
          "Machine Learning",
          "Machine Learning",
          "Machine Learning",
          "Machine Learning",
          "Machine Learning",
          "Machine Learning",
          "Machine Learning",
          "Machine Learning",
          "Machine Learning",
          "Machine Learning",
          "Machine Learning",
          "Machine Learning",
          "Machine Learning",
          "Machine Learning",
          "Machine Learning",
          "Machine Learning",
          "Machine Learning",
          "Machine Learning",
          "Machine Learning",
          "Machine Learning",
          "Machine Learning",
          "Machine Learning",
          "Machine Learning",
          "Machine Learning",
          "Machine Learning",
          "Machine Learning",
          "Machine Learning",
          "Machine Learning",
          "Machine Learning",
          "Machine Learning",
          "Machine Learning",
          "Machine Learning",
          "Machine Learning",
          "Machine Learning",
          "Machine Learning",
          "Machine Learning",
          "Machine Learning",
          "Machine Learning",
          "Machine Learning",
          "Machine Learning",
          "Machine Learning",
          "Machine Learning",
          "Machine Learning",
          "Machine Learning",
          "Machine Learning",
          "Machine Learning",
          "Machine Learning",
          "Machine Learning",
          "Machine Learning",
          "Machine Learning",
          "Machine Learning",
          "Machine Learning",
          "Machine Learning",
          "Machine Learning",
          "Machine Learning",
          "Machine Learning",
          "Machine Learning",
          "Machine Learning",
          "Machine Learning",
          "Machine Learning",
          "Machine Learning",
          "Machine Learning",
          "Machine Learning",
          "Machine Learning",
          "Machine Learning",
          "Machine Learning",
          "Machine Learning",
          "Machine Learning",
          "Machine Learning",
          "Machine Learning",
          "Machine Learning",
          "Machine Learning",
          "Machine Learning",
          "Machine Learning",
          "Machine Learning",
          "Machine Learning",
          "Machine Learning",
          "Machine Learning",
          "Machine Learning",
          "Machine Learning",
          "Machine Learning",
          "Machine Learning",
          "Machine Learning",
          "Machine Learning",
          "Machine Learning",
          "Machine Learning",
          "Machine Learning",
          "Machine Learning",
          "Machine Learning",
          "Machine Learning",
          "Machine Learning",
          "Machine Learning",
          "Machine Learning",
          "Machine Learning",
          "Machine Learning",
          "Machine Learning",
          "Machine Learning",
          "Machine Learning",
          "Machine Learning",
          "Machine Learning",
          "Machine Learning",
          "Machine Learning",
          "Machine Learning",
          "Machine Learning",
          "Machine Learning",
          "Machine Learning",
          "Machine Learning",
          "Machine Learning",
          "Machine Learning",
          "Machine Learning",
          "Machine Learning",
          "Machine Learning",
          "Machine Learning",
          "Machine Learning",
          "Machine Learning",
          "Machine Learning",
          "Machine Learning",
          "Machine Learning",
          "Machine Learning",
          "Machine Learning",
          "Machine Learning",
          "Machine Learning",
          "Machine Learning",
          "Machine Learning",
          "Machine Learning",
          "Machine Learning",
          "Machine Learning",
          "Machine Learning",
          "Machine Learning",
          "Machine Learning",
          "Machine Learning",
          "Machine Learning",
          "Machine Learning",
          "Machine Learning",
          "Machine Learning",
          "Machine Learning",
          "Machine Learning",
          "Machine Learning",
          "Machine Learning",
          "Machine Learning",
          "Machine Learning",
          "Machine Learning",
          "Machine Learning",
          "Machine Learning",
          "Machine Learning",
          "Machine Learning",
          "Machine Learning",
          "Machine Learning",
          "Machine Learning",
          "Machine Learning",
          "Machine Learning",
          "Machine Learning",
          "Machine Learning",
          "Machine Learning",
          "Machine Learning",
          "Machine Learning",
          "Machine Learning",
          "Machine Learning",
          "Machine Learning",
          "Machine Learning",
          "Machine Learning",
          "Machine Learning",
          "Machine Learning",
          "Machine Learning",
          "Machine Learning",
          "Machine Learning",
          "Machine Learning",
          "Machine Learning",
          "Machine Learning",
          "Machine Learning",
          "Machine Learning",
          "Machine Learning",
          "Machine Learning",
          "Machine Learning",
          "Machine Learning",
          "Machine Learning",
          "Machine Learning",
          "Machine Learning",
          "Machine Learning",
          "Machine Learning",
          "Machine Learning",
          "Machine Learning",
          "Machine Learning",
          "Machine Learning",
          "Machine Learning",
          "Machine Learning",
          "Machine Learning",
          "Machine Learning",
          "Machine Learning",
          "Machine Learning",
          "Machine Learning",
          "Machine Learning",
          "Machine Learning",
          "Machine Learning",
          "Machine Learning",
          "Machine Learning",
          "Machine Learning",
          "Machine Learning",
          "Machine Learning",
          "Machine Learning",
          "Machine Learning",
          "Machine Learning",
          "Machine Learning",
          "Machine Learning",
          "Machine Learning",
          "Machine Learning",
          "Machine Learning",
          "Machine Learning",
          "Machine Learning",
          "Machine Learning",
          "Machine Learning",
          "Machine Learning",
          "Machine Learning",
          "Machine Learning",
          "Machine Learning",
          "Machine Learning",
          "Machine Learning",
          "Machine Learning",
          "Machine Learning",
          "Machine Learning",
          "Machine Learning",
          "Machine Learning",
          "Machine Learning",
          "Machine Learning",
          "Machine Learning",
          "Machine Learning",
          "Machine Learning",
          "Machine Learning",
          "Machine Learning",
          "Machine Learning",
          "Machine Learning",
          "Machine Learning",
          "Machine Learning",
          "Machine Learning",
          "Machine Learning",
          "Machine Learning",
          "Machine Learning",
          "Machine Learning",
          "Machine Learning",
          "Machine Learning",
          "Machine Learning",
          "Machine Learning",
          "Machine Learning",
          "Machine Learning",
          "Machine Learning",
          "Machine Learning",
          "Machine Learning",
          "Machine Learning",
          "Machine Learning",
          "Machine Learning",
          "Machine Learning",
          "Machine Learning",
          "Machine Learning",
          "Machine Learning",
          "Machine Learning",
          "Machine Learning",
          "Machine Learning",
          "Machine Learning",
          "Machine Learning",
          "Machine Learning",
          "Machine Learning",
          "Machine Learning",
          "Machine Learning",
          "Machine Learning",
          "Machine Learning",
          "Machine Learning",
          "Machine Learning",
          "Machine Learning",
          "Machine Learning",
          "Machine Learning",
          "Machine Learning",
          "Machine Learning",
          "Machine Learning",
          "Machine Learning",
          "Machine Learning",
          "Machine Learning",
          "Machine Learning",
          "Machine Learning",
          "Machine Learning",
          "Machine Learning",
          "Machine Learning",
          "Machine Learning",
          "Machine Learning",
          "Machine Learning",
          "Machine Learning",
          "Machine Learning",
          "Machine Learning",
          "Machine Learning",
          "Machine Learning"
         ],
         "y0": " ",
         "yaxis": "y"
        },
        {
         "alignmentgroup": "True",
         "hovertemplate": "job_title=%{y}<br>salary_in_usd=%{x}<extra></extra>",
         "legendgroup": "Data Science",
         "marker": {
          "color": "#00cc96"
         },
         "name": "Data Science",
         "notched": false,
         "offsetgroup": "Data Science",
         "orientation": "h",
         "showlegend": true,
         "type": "box",
         "x": [
          175000,
          120000,
          222200,
          136000,
          219000,
          141000,
          147100,
          90700,
          213660,
          130760,
          170000,
          150000,
          275000,
          174000,
          204620,
          110680,
          212750,
          185000,
          262000,
          245000,
          275300,
          183500,
          218500,
          199098,
          189110,
          139000,
          258750,
          185000,
          172500,
          110500,
          309400,
          159100,
          237000,
          201450,
          65062,
          48289,
          38631,
          105000,
          70000,
          203000,
          133000,
          220000,
          150000,
          120000,
          138784,
          83270,
          195000,
          160000,
          20670,
          309400,
          159100,
          222200,
          136000,
          66837,
          54685,
          228000,
          186000,
          190000,
          170000,
          230000,
          200000,
          224000,
          176000,
          68318,
          250000,
          162500,
          203500,
          152000,
          239000,
          122900,
          237000,
          145000,
          88256,
          293000,
          185000,
          175000,
          145000,
          48289,
          38631,
          260000,
          136000,
          260000,
          136000,
          130000,
          110000,
          205000,
          184000,
          195000,
          160000,
          170000,
          135000,
          175000,
          145000,
          199000,
          162000,
          222200,
          136000,
          210000,
          136000,
          175000,
          100000,
          245000,
          180000,
          210000,
          155000,
          165000,
          140000,
          51753,
          130001,
          71907,
          93918,
          51962,
          203000,
          133200,
          213660,
          130760,
          185900,
          129300,
          238000,
          156000,
          140000,
          110000,
          195895,
          102772,
          157750,
          104650,
          180000,
          140000,
          200000,
          145000,
          48289,
          38631,
          155000,
          125000,
          252000,
          154000,
          191765,
          134236,
          175000,
          145000,
          237000,
          145000,
          155000,
          125000,
          200000,
          170000,
          171250,
          113750,
          222200,
          136000,
          260000,
          136000,
          205000,
          184000,
          258000,
          190000,
          170000,
          135000,
          195000,
          160000,
          297300,
          198200,
          210000,
          151800,
          200000,
          170000,
          317070,
          170730,
          225000,
          175000,
          200000,
          150000,
          160000,
          120000,
          275300,
          183000,
          250000,
          200000,
          185900,
          129300,
          173000,
          132000,
          275300,
          183500,
          145000,
          100000,
          96578,
          80481,
          275300,
          183500,
          78990,
          51039,
          190000,
          120000,
          85066,
          51039,
          109371,
          72914,
          121093,
          73546,
          172309,
          60093,
          201036,
          134024,
          172000,
          115000,
          237000,
          145000,
          258000,
          190000,
          239748,
          159832,
          186300,
          102500,
          190000,
          126000,
          175000,
          120000,
          200000,
          175000,
          145000,
          100000,
          210000,
          160000,
          145000,
          100000,
          222200,
          136000,
          200000,
          145000,
          205000,
          140000,
          297300,
          198200,
          141288,
          94192,
          17022,
          105000,
          70000,
          150000,
          100000,
          59020,
          48289,
          150000,
          239748,
          159832,
          128750,
          106250,
          90000,
          70000,
          185000,
          125000,
          210550,
          153300,
          200000,
          150000,
          175000,
          148750,
          215000,
          146300,
          186300,
          123900,
          340000,
          150000,
          64385,
          149076,
          82365,
          150000,
          100000,
          150000,
          97750,
          201000,
          122000,
          116990,
          82920,
          185900,
          129300,
          201000,
          122000,
          190000,
          136000,
          275300,
          183000,
          175000,
          160000,
          225000,
          156400,
          250000,
          200000,
          260000,
          186000,
          200000,
          150000,
          48289,
          38631,
          150000,
          120000,
          185000,
          125000,
          40000,
          29453,
          136000,
          104000,
          185900,
          129300,
          192000,
          107309,
          85847,
          149076,
          82365,
          168000,
          147100,
          90700,
          230000,
          148000,
          300240,
          200160,
          300240,
          200160,
          370000,
          245000,
          126500,
          78000,
          155000,
          139500,
          19522,
          247500,
          172200,
          225000,
          156400,
          185900,
          129300,
          72914,
          60761,
          215050,
          156400,
          209300,
          182200,
          85000,
          120000,
          60000,
          9727,
          253750,
          169200,
          253750,
          169200,
          170000,
          120000,
          225900,
          156400,
          145000,
          135000,
          170000,
          90000,
          149076,
          82365,
          175000,
          148750,
          370000,
          200000,
          235000,
          185000,
          216100,
          140800,
          110000,
          248100,
          145900,
          155850,
          102544,
          151410,
          115360,
          12767,
          250000,
          162500,
          185000,
          120250,
          180000,
          85000,
          70000,
          225000,
          156400,
          225000,
          156400,
          23000,
          205000,
          180000,
          165000,
          144000,
          105000,
          70000,
          183000,
          134000,
          350000,
          262500,
          225000,
          156400,
          228000,
          152000,
          209450,
          158677,
          155000,
          63312,
          237000,
          145000,
          240000,
          139000,
          285800,
          154600,
          124234,
          74540,
          275300,
          183500,
          275300,
          183500,
          150000,
          120000,
          12888,
          136000,
          104000,
          110000,
          84000,
          190000,
          165000,
          225000,
          156400,
          80000,
          257000,
          134000,
          77262,
          38631,
          210000,
          151800,
          53654,
          237000,
          145000,
          130000,
          90000,
          183310,
          183310,
          210000,
          185000,
          122000,
          94000,
          220000,
          146000,
          24740,
          145000,
          128000,
          182000,
          140000,
          300000,
          200000,
          110000,
          136000,
          104000,
          168000,
          130000,
          153400,
          122700,
          185000,
          160000,
          205000,
          185000,
          50000,
          223800,
          172100,
          180000,
          150000,
          180000,
          145000,
          168400,
          105200,
          140000,
          100000,
          150000,
          120000,
          297300,
          198200,
          110000,
          84000,
          230000,
          196000,
          185900,
          129300,
          126100,
          72000,
          187500,
          165000,
          210000,
          165750,
          135000,
          115000,
          170000,
          140000,
          120000,
          100000,
          54094,
          100000,
          200000,
          150000,
          160000,
          120000,
          250000,
          200000,
          150000,
          100000,
          272550,
          198200,
          182000,
          140000,
          120000,
          105000,
          143100,
          113000,
          184000,
          142000,
          140000,
          120000,
          180560,
          115440,
          140000,
          120000,
          248100,
          145900,
          120000,
          110000,
          130000,
          13989,
          130000,
          90000,
          150000,
          140000,
          122000,
          94500,
          145000,
          128000,
          150000,
          127500,
          126500,
          51000,
          40000,
          272550,
          198200,
          94560,
          52533,
          220000,
          146000,
          56723,
          24165,
          140000,
          120000,
          150000,
          110000,
          190000,
          155000,
          92350,
          67723,
          184000,
          142000,
          145000,
          100000,
          31795,
          192000,
          164000,
          190000,
          150000,
          47280,
          37824,
          175000,
          140000,
          249500,
          149850,
          249500,
          149850,
          249500,
          149850,
          210000,
          150000,
          182750,
          161500,
          210000,
          150000,
          136000,
          104000,
          159000,
          130000,
          124234,
          74540,
          47280,
          37824,
          128000,
          81500,
          173000,
          110000,
          165000,
          125000,
          230000,
          196000,
          180000,
          120000,
          63040,
          52533,
          130000,
          95000,
          203500,
          152000,
          120000,
          70186,
          51716,
          185900,
          129300,
          47280,
          37824,
          140000,
          120000,
          110000,
          70000,
          64090,
          60938,
          130000,
          90000,
          250000,
          150000,
          140000,
          120000,
          180000,
          120000,
          185900,
          129300,
          175000,
          145000,
          27317,
          47280,
          37824,
          198800,
          122600,
          148000,
          107000,
          168000,
          130000,
          136000,
          104000,
          205000,
          184000,
          185900,
          129300,
          205000,
          184000,
          230000,
          196000,
          80000,
          208000,
          127000,
          300000,
          196000,
          47280,
          37824,
          205000,
          185000,
          185900,
          129300,
          185900,
          129300,
          205000,
          184000,
          17684,
          375000,
          225000,
          156400,
          185900,
          129300,
          140700,
          93800,
          350000,
          135000,
          247500,
          172200,
          177500,
          134000,
          185900,
          129300,
          243900,
          156600,
          89306,
          120000,
          100000,
          85000,
          78000,
          136000,
          104000,
          47280,
          37824,
          245000,
          180000,
          198440,
          144000,
          198440,
          144000,
          57872,
          39925,
          159699,
          138938,
          180000,
          140000,
          225000,
          156400,
          240000,
          180000,
          100000,
          175000,
          122500,
          202800,
          104300,
          185900,
          129300,
          30000,
          84000,
          54000,
          80000,
          73742,
          165000,
          33246,
          185900,
          129300,
          225000,
          156400,
          185900,
          129300,
          8000,
          155000,
          38000,
          155000,
          38000,
          153600,
          106800,
          185000,
          50000,
          155000,
          38000,
          168000,
          130000,
          123400,
          88100,
          120000,
          55000,
          185900,
          129300,
          139000,
          122000,
          185900,
          129300,
          225000,
          156400,
          200000,
          175000,
          185000,
          50000,
          47280,
          37824,
          144200,
          115360,
          83171,
          108000,
          198440,
          144000,
          191475,
          141525,
          75648,
          156868,
          198440,
          144000,
          126080,
          84053,
          10000,
          215000,
          159000,
          183000,
          236900,
          159200,
          148000,
          128000,
          191475,
          141525,
          218000,
          145300,
          191475,
          141525,
          207000,
          153000,
          191475,
          141525,
          191475,
          141525,
          191475,
          141525,
          191475,
          141525,
          207000,
          153000,
          191475,
          141525,
          191475,
          141525,
          191475,
          141525,
          102200,
          22892,
          180000,
          165000,
          179400,
          154000,
          93000,
          73000,
          136994,
          101570,
          191475,
          141525,
          172000,
          140000,
          191475,
          141525,
          212800,
          142800,
          73546,
          50000,
          151800,
          130240,
          179400,
          154000,
          191475,
          141525,
          191475,
          141525,
          191475,
          141525,
          191475,
          141525,
          191475,
          141525,
          191475,
          141525,
          191475,
          141525,
          191475,
          141525,
          31520,
          204100,
          136100,
          118208,
          110820,
          191475,
          141525,
          191475,
          141525,
          191475,
          141525,
          170000,
          130000,
          175000,
          140000,
          29944,
          160000,
          119300,
          145000,
          225000,
          160000,
          54634,
          82000,
          110000,
          203500,
          152000,
          170000,
          120000,
          115573,
          89306,
          123400,
          88100,
          245000,
          205000,
          84053,
          61566,
          180000,
          140000,
          53416,
          50000,
          84053,
          131752,
          52008,
          160000,
          100000,
          60938,
          80036,
          160000,
          92000,
          160000,
          119300,
          25000,
          153000,
          160000,
          92000,
          186000,
          148800,
          49268,
          215300,
          158200,
          170000,
          123000,
          215300,
          140400,
          260000,
          180000,
          67723,
          43096,
          60000,
          180000,
          80000,
          61566,
          36940,
          165220,
          120160,
          180000,
          120000,
          130000,
          90000,
          136620,
          99360,
          110820,
          98506,
          146000,
          123000,
          167000,
          123000,
          211500,
          138600,
          150000,
          95550,
          205300,
          140400,
          176000,
          144000,
          205300,
          140400,
          141300,
          102100,
          230000,
          150000,
          160000,
          130000,
          210000,
          140000,
          210000,
          140000,
          210000,
          140000,
          210000,
          140000,
          230000,
          140000,
          220000,
          140000,
          172386,
          86193,
          200000,
          120000,
          185100,
          104890,
          30523,
          17805,
          157000,
          109000,
          67597,
          51081,
          78000,
          40000,
          89306,
          83171,
          165000,
          100000,
          33609,
          69999,
          61989,
          120000,
          135000,
          80000,
          380000,
          120402,
          177000,
          48000,
          100000,
          100000,
          100000,
          144000,
          82500,
          49646,
          40570,
          9466,
          110037,
          62649,
          63831,
          68428,
          450000,
          127221,
          13400,
          75774,
          150000,
          103000,
          50000,
          54238,
          82528,
          45760,
          53192,
          76833,
          187442,
          76958,
          29751,
          105000,
          28399,
          60757,
          90000,
          36643,
          165000,
          103691,
          42000,
          115000,
          63810,
          79833,
          100000,
          20171,
          58000,
          100000,
          77684,
          76833,
          105000,
          25532,
          16904,
          190000,
          35735,
          135000,
          147000,
          96113,
          51321,
          40481,
          69741,
          39916,
          90734,
          5679,
          40038,
          90000,
          61467,
          37825,
          56256,
          33808,
          116914,
          5707,
          88654,
          56738,
          160000,
          50000,
          40189,
          12901,
          42197,
          62726,
          90734,
          21669,
          120000,
          87738,
          130000,
          38776,
          46809,
          91237,
          62726,
          115000,
          73000,
          118000,
          138350,
          119059,
          412000,
          105000
         ],
         "x0": " ",
         "xaxis": "x",
         "y": [
          "Data Science",
          "Data Science",
          "Data Science",
          "Data Science",
          "Data Science",
          "Data Science",
          "Data Science",
          "Data Science",
          "Data Science",
          "Data Science",
          "Data Science",
          "Data Science",
          "Data Science",
          "Data Science",
          "Data Science",
          "Data Science",
          "Data Science",
          "Data Science",
          "Data Science",
          "Data Science",
          "Data Science",
          "Data Science",
          "Data Science",
          "Data Science",
          "Data Science",
          "Data Science",
          "Data Science",
          "Data Science",
          "Data Science",
          "Data Science",
          "Data Science",
          "Data Science",
          "Data Science",
          "Data Science",
          "Data Science",
          "Data Science",
          "Data Science",
          "Data Science",
          "Data Science",
          "Data Science",
          "Data Science",
          "Data Science",
          "Data Science",
          "Data Science",
          "Data Science",
          "Data Science",
          "Data Science",
          "Data Science",
          "Data Science",
          "Data Science",
          "Data Science",
          "Data Science",
          "Data Science",
          "Data Science",
          "Data Science",
          "Data Science",
          "Data Science",
          "Data Science",
          "Data Science",
          "Data Science",
          "Data Science",
          "Data Science",
          "Data Science",
          "Data Science",
          "Data Science",
          "Data Science",
          "Data Science",
          "Data Science",
          "Data Science",
          "Data Science",
          "Data Science",
          "Data Science",
          "Data Science",
          "Data Science",
          "Data Science",
          "Data Science",
          "Data Science",
          "Data Science",
          "Data Science",
          "Data Science",
          "Data Science",
          "Data Science",
          "Data Science",
          "Data Science",
          "Data Science",
          "Data Science",
          "Data Science",
          "Data Science",
          "Data Science",
          "Data Science",
          "Data Science",
          "Data Science",
          "Data Science",
          "Data Science",
          "Data Science",
          "Data Science",
          "Data Science",
          "Data Science",
          "Data Science",
          "Data Science",
          "Data Science",
          "Data Science",
          "Data Science",
          "Data Science",
          "Data Science",
          "Data Science",
          "Data Science",
          "Data Science",
          "Data Science",
          "Data Science",
          "Data Science",
          "Data Science",
          "Data Science",
          "Data Science",
          "Data Science",
          "Data Science",
          "Data Science",
          "Data Science",
          "Data Science",
          "Data Science",
          "Data Science",
          "Data Science",
          "Data Science",
          "Data Science",
          "Data Science",
          "Data Science",
          "Data Science",
          "Data Science",
          "Data Science",
          "Data Science",
          "Data Science",
          "Data Science",
          "Data Science",
          "Data Science",
          "Data Science",
          "Data Science",
          "Data Science",
          "Data Science",
          "Data Science",
          "Data Science",
          "Data Science",
          "Data Science",
          "Data Science",
          "Data Science",
          "Data Science",
          "Data Science",
          "Data Science",
          "Data Science",
          "Data Science",
          "Data Science",
          "Data Science",
          "Data Science",
          "Data Science",
          "Data Science",
          "Data Science",
          "Data Science",
          "Data Science",
          "Data Science",
          "Data Science",
          "Data Science",
          "Data Science",
          "Data Science",
          "Data Science",
          "Data Science",
          "Data Science",
          "Data Science",
          "Data Science",
          "Data Science",
          "Data Science",
          "Data Science",
          "Data Science",
          "Data Science",
          "Data Science",
          "Data Science",
          "Data Science",
          "Data Science",
          "Data Science",
          "Data Science",
          "Data Science",
          "Data Science",
          "Data Science",
          "Data Science",
          "Data Science",
          "Data Science",
          "Data Science",
          "Data Science",
          "Data Science",
          "Data Science",
          "Data Science",
          "Data Science",
          "Data Science",
          "Data Science",
          "Data Science",
          "Data Science",
          "Data Science",
          "Data Science",
          "Data Science",
          "Data Science",
          "Data Science",
          "Data Science",
          "Data Science",
          "Data Science",
          "Data Science",
          "Data Science",
          "Data Science",
          "Data Science",
          "Data Science",
          "Data Science",
          "Data Science",
          "Data Science",
          "Data Science",
          "Data Science",
          "Data Science",
          "Data Science",
          "Data Science",
          "Data Science",
          "Data Science",
          "Data Science",
          "Data Science",
          "Data Science",
          "Data Science",
          "Data Science",
          "Data Science",
          "Data Science",
          "Data Science",
          "Data Science",
          "Data Science",
          "Data Science",
          "Data Science",
          "Data Science",
          "Data Science",
          "Data Science",
          "Data Science",
          "Data Science",
          "Data Science",
          "Data Science",
          "Data Science",
          "Data Science",
          "Data Science",
          "Data Science",
          "Data Science",
          "Data Science",
          "Data Science",
          "Data Science",
          "Data Science",
          "Data Science",
          "Data Science",
          "Data Science",
          "Data Science",
          "Data Science",
          "Data Science",
          "Data Science",
          "Data Science",
          "Data Science",
          "Data Science",
          "Data Science",
          "Data Science",
          "Data Science",
          "Data Science",
          "Data Science",
          "Data Science",
          "Data Science",
          "Data Science",
          "Data Science",
          "Data Science",
          "Data Science",
          "Data Science",
          "Data Science",
          "Data Science",
          "Data Science",
          "Data Science",
          "Data Science",
          "Data Science",
          "Data Science",
          "Data Science",
          "Data Science",
          "Data Science",
          "Data Science",
          "Data Science",
          "Data Science",
          "Data Science",
          "Data Science",
          "Data Science",
          "Data Science",
          "Data Science",
          "Data Science",
          "Data Science",
          "Data Science",
          "Data Science",
          "Data Science",
          "Data Science",
          "Data Science",
          "Data Science",
          "Data Science",
          "Data Science",
          "Data Science",
          "Data Science",
          "Data Science",
          "Data Science",
          "Data Science",
          "Data Science",
          "Data Science",
          "Data Science",
          "Data Science",
          "Data Science",
          "Data Science",
          "Data Science",
          "Data Science",
          "Data Science",
          "Data Science",
          "Data Science",
          "Data Science",
          "Data Science",
          "Data Science",
          "Data Science",
          "Data Science",
          "Data Science",
          "Data Science",
          "Data Science",
          "Data Science",
          "Data Science",
          "Data Science",
          "Data Science",
          "Data Science",
          "Data Science",
          "Data Science",
          "Data Science",
          "Data Science",
          "Data Science",
          "Data Science",
          "Data Science",
          "Data Science",
          "Data Science",
          "Data Science",
          "Data Science",
          "Data Science",
          "Data Science",
          "Data Science",
          "Data Science",
          "Data Science",
          "Data Science",
          "Data Science",
          "Data Science",
          "Data Science",
          "Data Science",
          "Data Science",
          "Data Science",
          "Data Science",
          "Data Science",
          "Data Science",
          "Data Science",
          "Data Science",
          "Data Science",
          "Data Science",
          "Data Science",
          "Data Science",
          "Data Science",
          "Data Science",
          "Data Science",
          "Data Science",
          "Data Science",
          "Data Science",
          "Data Science",
          "Data Science",
          "Data Science",
          "Data Science",
          "Data Science",
          "Data Science",
          "Data Science",
          "Data Science",
          "Data Science",
          "Data Science",
          "Data Science",
          "Data Science",
          "Data Science",
          "Data Science",
          "Data Science",
          "Data Science",
          "Data Science",
          "Data Science",
          "Data Science",
          "Data Science",
          "Data Science",
          "Data Science",
          "Data Science",
          "Data Science",
          "Data Science",
          "Data Science",
          "Data Science",
          "Data Science",
          "Data Science",
          "Data Science",
          "Data Science",
          "Data Science",
          "Data Science",
          "Data Science",
          "Data Science",
          "Data Science",
          "Data Science",
          "Data Science",
          "Data Science",
          "Data Science",
          "Data Science",
          "Data Science",
          "Data Science",
          "Data Science",
          "Data Science",
          "Data Science",
          "Data Science",
          "Data Science",
          "Data Science",
          "Data Science",
          "Data Science",
          "Data Science",
          "Data Science",
          "Data Science",
          "Data Science",
          "Data Science",
          "Data Science",
          "Data Science",
          "Data Science",
          "Data Science",
          "Data Science",
          "Data Science",
          "Data Science",
          "Data Science",
          "Data Science",
          "Data Science",
          "Data Science",
          "Data Science",
          "Data Science",
          "Data Science",
          "Data Science",
          "Data Science",
          "Data Science",
          "Data Science",
          "Data Science",
          "Data Science",
          "Data Science",
          "Data Science",
          "Data Science",
          "Data Science",
          "Data Science",
          "Data Science",
          "Data Science",
          "Data Science",
          "Data Science",
          "Data Science",
          "Data Science",
          "Data Science",
          "Data Science",
          "Data Science",
          "Data Science",
          "Data Science",
          "Data Science",
          "Data Science",
          "Data Science",
          "Data Science",
          "Data Science",
          "Data Science",
          "Data Science",
          "Data Science",
          "Data Science",
          "Data Science",
          "Data Science",
          "Data Science",
          "Data Science",
          "Data Science",
          "Data Science",
          "Data Science",
          "Data Science",
          "Data Science",
          "Data Science",
          "Data Science",
          "Data Science",
          "Data Science",
          "Data Science",
          "Data Science",
          "Data Science",
          "Data Science",
          "Data Science",
          "Data Science",
          "Data Science",
          "Data Science",
          "Data Science",
          "Data Science",
          "Data Science",
          "Data Science",
          "Data Science",
          "Data Science",
          "Data Science",
          "Data Science",
          "Data Science",
          "Data Science",
          "Data Science",
          "Data Science",
          "Data Science",
          "Data Science",
          "Data Science",
          "Data Science",
          "Data Science",
          "Data Science",
          "Data Science",
          "Data Science",
          "Data Science",
          "Data Science",
          "Data Science",
          "Data Science",
          "Data Science",
          "Data Science",
          "Data Science",
          "Data Science",
          "Data Science",
          "Data Science",
          "Data Science",
          "Data Science",
          "Data Science",
          "Data Science",
          "Data Science",
          "Data Science",
          "Data Science",
          "Data Science",
          "Data Science",
          "Data Science",
          "Data Science",
          "Data Science",
          "Data Science",
          "Data Science",
          "Data Science",
          "Data Science",
          "Data Science",
          "Data Science",
          "Data Science",
          "Data Science",
          "Data Science",
          "Data Science",
          "Data Science",
          "Data Science",
          "Data Science",
          "Data Science",
          "Data Science",
          "Data Science",
          "Data Science",
          "Data Science",
          "Data Science",
          "Data Science",
          "Data Science",
          "Data Science",
          "Data Science",
          "Data Science",
          "Data Science",
          "Data Science",
          "Data Science",
          "Data Science",
          "Data Science",
          "Data Science",
          "Data Science",
          "Data Science",
          "Data Science",
          "Data Science",
          "Data Science",
          "Data Science",
          "Data Science",
          "Data Science",
          "Data Science",
          "Data Science",
          "Data Science",
          "Data Science",
          "Data Science",
          "Data Science",
          "Data Science",
          "Data Science",
          "Data Science",
          "Data Science",
          "Data Science",
          "Data Science",
          "Data Science",
          "Data Science",
          "Data Science",
          "Data Science",
          "Data Science",
          "Data Science",
          "Data Science",
          "Data Science",
          "Data Science",
          "Data Science",
          "Data Science",
          "Data Science",
          "Data Science",
          "Data Science",
          "Data Science",
          "Data Science",
          "Data Science",
          "Data Science",
          "Data Science",
          "Data Science",
          "Data Science",
          "Data Science",
          "Data Science",
          "Data Science",
          "Data Science",
          "Data Science",
          "Data Science",
          "Data Science",
          "Data Science",
          "Data Science",
          "Data Science",
          "Data Science",
          "Data Science",
          "Data Science",
          "Data Science",
          "Data Science",
          "Data Science",
          "Data Science",
          "Data Science",
          "Data Science",
          "Data Science",
          "Data Science",
          "Data Science",
          "Data Science",
          "Data Science",
          "Data Science",
          "Data Science",
          "Data Science",
          "Data Science",
          "Data Science",
          "Data Science",
          "Data Science",
          "Data Science",
          "Data Science",
          "Data Science",
          "Data Science",
          "Data Science",
          "Data Science",
          "Data Science",
          "Data Science",
          "Data Science",
          "Data Science",
          "Data Science",
          "Data Science",
          "Data Science",
          "Data Science",
          "Data Science",
          "Data Science",
          "Data Science",
          "Data Science",
          "Data Science",
          "Data Science",
          "Data Science",
          "Data Science",
          "Data Science",
          "Data Science",
          "Data Science",
          "Data Science",
          "Data Science",
          "Data Science",
          "Data Science",
          "Data Science",
          "Data Science",
          "Data Science",
          "Data Science",
          "Data Science",
          "Data Science",
          "Data Science",
          "Data Science",
          "Data Science",
          "Data Science",
          "Data Science",
          "Data Science",
          "Data Science",
          "Data Science",
          "Data Science",
          "Data Science",
          "Data Science",
          "Data Science",
          "Data Science",
          "Data Science",
          "Data Science",
          "Data Science",
          "Data Science",
          "Data Science",
          "Data Science",
          "Data Science",
          "Data Science",
          "Data Science",
          "Data Science",
          "Data Science",
          "Data Science",
          "Data Science",
          "Data Science",
          "Data Science",
          "Data Science",
          "Data Science",
          "Data Science",
          "Data Science",
          "Data Science",
          "Data Science",
          "Data Science",
          "Data Science",
          "Data Science",
          "Data Science",
          "Data Science",
          "Data Science",
          "Data Science",
          "Data Science",
          "Data Science",
          "Data Science",
          "Data Science",
          "Data Science",
          "Data Science",
          "Data Science",
          "Data Science",
          "Data Science",
          "Data Science",
          "Data Science",
          "Data Science",
          "Data Science",
          "Data Science",
          "Data Science",
          "Data Science",
          "Data Science",
          "Data Science",
          "Data Science",
          "Data Science",
          "Data Science",
          "Data Science",
          "Data Science",
          "Data Science",
          "Data Science",
          "Data Science",
          "Data Science",
          "Data Science",
          "Data Science",
          "Data Science",
          "Data Science",
          "Data Science",
          "Data Science",
          "Data Science",
          "Data Science",
          "Data Science",
          "Data Science",
          "Data Science",
          "Data Science",
          "Data Science",
          "Data Science",
          "Data Science",
          "Data Science",
          "Data Science",
          "Data Science",
          "Data Science",
          "Data Science",
          "Data Science",
          "Data Science",
          "Data Science",
          "Data Science",
          "Data Science",
          "Data Science",
          "Data Science",
          "Data Science",
          "Data Science",
          "Data Science",
          "Data Science",
          "Data Science",
          "Data Science",
          "Data Science",
          "Data Science",
          "Data Science",
          "Data Science",
          "Data Science",
          "Data Science",
          "Data Science",
          "Data Science",
          "Data Science",
          "Data Science",
          "Data Science",
          "Data Science",
          "Data Science",
          "Data Science",
          "Data Science",
          "Data Science",
          "Data Science",
          "Data Science",
          "Data Science",
          "Data Science",
          "Data Science",
          "Data Science",
          "Data Science",
          "Data Science",
          "Data Science",
          "Data Science",
          "Data Science",
          "Data Science",
          "Data Science",
          "Data Science",
          "Data Science",
          "Data Science",
          "Data Science",
          "Data Science",
          "Data Science",
          "Data Science",
          "Data Science",
          "Data Science",
          "Data Science",
          "Data Science",
          "Data Science",
          "Data Science",
          "Data Science",
          "Data Science",
          "Data Science",
          "Data Science",
          "Data Science",
          "Data Science",
          "Data Science",
          "Data Science",
          "Data Science",
          "Data Science",
          "Data Science",
          "Data Science",
          "Data Science",
          "Data Science",
          "Data Science",
          "Data Science",
          "Data Science",
          "Data Science",
          "Data Science",
          "Data Science",
          "Data Science",
          "Data Science",
          "Data Science",
          "Data Science",
          "Data Science",
          "Data Science",
          "Data Science",
          "Data Science",
          "Data Science",
          "Data Science",
          "Data Science",
          "Data Science",
          "Data Science",
          "Data Science",
          "Data Science",
          "Data Science",
          "Data Science",
          "Data Science",
          "Data Science",
          "Data Science",
          "Data Science",
          "Data Science",
          "Data Science",
          "Data Science",
          "Data Science",
          "Data Science",
          "Data Science",
          "Data Science",
          "Data Science",
          "Data Science",
          "Data Science",
          "Data Science",
          "Data Science",
          "Data Science",
          "Data Science",
          "Data Science",
          "Data Science",
          "Data Science",
          "Data Science",
          "Data Science",
          "Data Science",
          "Data Science",
          "Data Science",
          "Data Science",
          "Data Science",
          "Data Science",
          "Data Science",
          "Data Science",
          "Data Science",
          "Data Science",
          "Data Science",
          "Data Science",
          "Data Science",
          "Data Science",
          "Data Science",
          "Data Science",
          "Data Science",
          "Data Science",
          "Data Science",
          "Data Science",
          "Data Science",
          "Data Science",
          "Data Science",
          "Data Science",
          "Data Science",
          "Data Science",
          "Data Science",
          "Data Science",
          "Data Science",
          "Data Science",
          "Data Science",
          "Data Science",
          "Data Science",
          "Data Science",
          "Data Science",
          "Data Science",
          "Data Science",
          "Data Science",
          "Data Science",
          "Data Science",
          "Data Science",
          "Data Science",
          "Data Science",
          "Data Science",
          "Data Science",
          "Data Science",
          "Data Science",
          "Data Science",
          "Data Science",
          "Data Science",
          "Data Science",
          "Data Science",
          "Data Science",
          "Data Science",
          "Data Science",
          "Data Science",
          "Data Science",
          "Data Science",
          "Data Science",
          "Data Science",
          "Data Science",
          "Data Science",
          "Data Science",
          "Data Science",
          "Data Science",
          "Data Science",
          "Data Science",
          "Data Science",
          "Data Science",
          "Data Science",
          "Data Science",
          "Data Science",
          "Data Science",
          "Data Science",
          "Data Science",
          "Data Science",
          "Data Science",
          "Data Science",
          "Data Science",
          "Data Science",
          "Data Science",
          "Data Science",
          "Data Science",
          "Data Science",
          "Data Science",
          "Data Science",
          "Data Science",
          "Data Science",
          "Data Science",
          "Data Science",
          "Data Science",
          "Data Science",
          "Data Science",
          "Data Science",
          "Data Science",
          "Data Science",
          "Data Science",
          "Data Science",
          "Data Science",
          "Data Science",
          "Data Science",
          "Data Science",
          "Data Science",
          "Data Science",
          "Data Science",
          "Data Science",
          "Data Science",
          "Data Science",
          "Data Science",
          "Data Science",
          "Data Science",
          "Data Science",
          "Data Science",
          "Data Science",
          "Data Science",
          "Data Science",
          "Data Science",
          "Data Science",
          "Data Science",
          "Data Science",
          "Data Science",
          "Data Science",
          "Data Science",
          "Data Science",
          "Data Science",
          "Data Science",
          "Data Science",
          "Data Science",
          "Data Science",
          "Data Science",
          "Data Science",
          "Data Science",
          "Data Science",
          "Data Science",
          "Data Science",
          "Data Science",
          "Data Science",
          "Data Science",
          "Data Science",
          "Data Science",
          "Data Science",
          "Data Science",
          "Data Science",
          "Data Science",
          "Data Science",
          "Data Science",
          "Data Science",
          "Data Science",
          "Data Science",
          "Data Science",
          "Data Science",
          "Data Science",
          "Data Science",
          "Data Science",
          "Data Science",
          "Data Science",
          "Data Science",
          "Data Science",
          "Data Science",
          "Data Science",
          "Data Science",
          "Data Science",
          "Data Science",
          "Data Science",
          "Data Science",
          "Data Science",
          "Data Science",
          "Data Science",
          "Data Science",
          "Data Science",
          "Data Science",
          "Data Science",
          "Data Science",
          "Data Science",
          "Data Science",
          "Data Science",
          "Data Science",
          "Data Science",
          "Data Science",
          "Data Science",
          "Data Science",
          "Data Science",
          "Data Science",
          "Data Science",
          "Data Science",
          "Data Science",
          "Data Science",
          "Data Science",
          "Data Science",
          "Data Science",
          "Data Science",
          "Data Science",
          "Data Science",
          "Data Science",
          "Data Science",
          "Data Science",
          "Data Science",
          "Data Science",
          "Data Science",
          "Data Science",
          "Data Science",
          "Data Science",
          "Data Science",
          "Data Science",
          "Data Science",
          "Data Science",
          "Data Science",
          "Data Science",
          "Data Science",
          "Data Science",
          "Data Science",
          "Data Science"
         ],
         "y0": " ",
         "yaxis": "y"
        },
        {
         "alignmentgroup": "True",
         "hovertemplate": "job_title=%{y}<br>salary_in_usd=%{x}<extra></extra>",
         "legendgroup": "Data Analyst",
         "marker": {
          "color": "#ab63fa"
         },
         "name": "Data Analyst",
         "notched": false,
         "offsetgroup": "Data Analyst",
         "orientation": "h",
         "showlegend": true,
         "type": "box",
         "x": [
          130000,
          100000,
          150000,
          110000,
          230000,
          143200,
          225000,
          156400,
          105380,
          64500,
          30000,
          185900,
          129300,
          202800,
          104300,
          145000,
          65000,
          152500,
          116450,
          289800,
          214000,
          179820,
          143860,
          289800,
          214200,
          75000,
          70000,
          204500,
          138900,
          230000,
          143200,
          105000,
          46178,
          42533,
          168400,
          105200,
          150000,
          120000,
          54685,
          42533,
          15000,
          85000,
          75000,
          120000,
          75000,
          140000,
          120000,
          190000,
          112000,
          135000,
          105500,
          80000,
          70000,
          200000,
          148500,
          152900,
          117100,
          173000,
          113000,
          149500,
          127075,
          221000,
          153000,
          187000,
          128000,
          142000,
          75000,
          125000,
          112000,
          139000,
          106000,
          40663,
          140000,
          120000,
          175000,
          135000,
          90000,
          75000,
          155000,
          106000,
          68000,
          105000,
          90000,
          179820,
          143860,
          135000,
          105500,
          80000,
          70000,
          64200,
          56100,
          208450,
          170550,
          153600,
          100500,
          182500,
          121500,
          72914,
          54685,
          100000,
          80000,
          21461,
          175000,
          145000,
          148700,
          125600,
          185000,
          120250,
          208049,
          128500,
          179820,
          143860,
          190000,
          95000,
          153600,
          106800,
          128000,
          85000,
          135000,
          105500,
          100000,
          80000,
          154000,
          143000,
          85000,
          75000,
          83500,
          52500,
          165000,
          140000,
          180180,
          106020,
          153600,
          100500,
          206500,
          121600,
          95000,
          70000,
          115934,
          81666,
          206000,
          130000,
          110000,
          75000,
          130000,
          87000,
          160000,
          112000,
          100000,
          85000,
          185000,
          120250,
          130000,
          70000,
          55000,
          275300,
          183500,
          75000,
          65000,
          180180,
          106020,
          18238,
          75000,
          60000,
          185700,
          165000,
          169000,
          110600,
          170000,
          130000,
          250000,
          138000,
          130000,
          100000,
          160000,
          135000,
          127000,
          94000,
          161500,
          119500,
          175000,
          145000,
          105000,
          85000,
          185900,
          121700,
          153600,
          106800,
          100000,
          125000,
          110000,
          150000,
          100000,
          97218,
          48609,
          95000,
          85500,
          185900,
          121700,
          120000,
          75000,
          78990,
          43809,
          180000,
          110000,
          85000,
          75000,
          150000,
          120000,
          145000,
          90000,
          95000,
          85500,
          30000,
          34320,
          9289,
          175000,
          130000,
          122000,
          93800,
          165000,
          112000,
          71897,
          15806,
          185900,
          121700,
          180180,
          106020,
          125000,
          110000,
          152380,
          121904,
          170500,
          85000,
          179975,
          86466,
          51039,
          42533,
          169000,
          110600,
          230000,
          180000,
          153600,
          106800,
          165000,
          125000,
          95000,
          85500,
          197000,
          106000,
          175000,
          140000,
          110000,
          80000,
          55000,
          48000,
          95000,
          85000,
          80000,
          60000,
          142000,
          95000,
          109371,
          72914,
          17779,
          120000,
          75000,
          169000,
          110600,
          75000,
          60000,
          227000,
          108000,
          55800,
          51508,
          60000,
          50000,
          80000,
          52500,
          85000,
          75000,
          153600,
          106800,
          165000,
          124000,
          115934,
          81666,
          16414,
          125000,
          105000,
          109371,
          85066,
          55000,
          48000,
          100000,
          385000,
          60000,
          110000,
          95000,
          180180,
          106020,
          93919,
          51962,
          192500,
          140000,
          60761,
          54685,
          130000,
          100000,
          153600,
          106800,
          150000,
          100000,
          180180,
          106020,
          122000,
          94000,
          175000,
          145000,
          103200,
          61200,
          130000,
          87000,
          160000,
          108000,
          30000,
          206000,
          160000,
          200000,
          175000,
          231250,
          138750,
          109000,
          79000,
          160000,
          125600,
          141290,
          74178,
          80000,
          52500,
          125000,
          110000,
          90000,
          80000,
          48000,
          150000,
          100000,
          12877,
          17509,
          51508,
          40777,
          51508,
          40777,
          120000,
          100000,
          145000,
          102500,
          135000,
          105500,
          78990,
          43809,
          116000,
          72000,
          207000,
          167000,
          120000,
          80000,
          150000,
          100000,
          240500,
          137500,
          25216,
          125000,
          85000,
          130000,
          80000,
          18314,
          155000,
          64000,
          14307,
          150000,
          100000,
          150000,
          100000,
          150000,
          100000,
          149000,
          119000,
          100000,
          75000,
          60000,
          120000,
          95000,
          150000,
          100000,
          115934,
          81666,
          122500,
          100000,
          55000,
          48000,
          127000,
          104000,
          102640,
          66100,
          150000,
          100000,
          115934,
          81666,
          430967,
          55410,
          50432,
          39925,
          169000,
          110600,
          60938,
          75000,
          60000,
          50000,
          166700,
          119000,
          100000,
          65000,
          16904,
          50000,
          150000,
          100000,
          115934,
          81666,
          120000,
          95000,
          201000,
          89200,
          192500,
          140000,
          65000,
          55000,
          170000,
          125000,
          95000,
          115000,
          171000,
          13000,
          50000,
          150000,
          100000,
          165000,
          124000,
          169000,
          110600,
          116000,
          96000,
          92350,
          70186,
          105000,
          70000,
          100000,
          70000,
          130000,
          100000,
          160000,
          109000,
          206000,
          160000,
          150000,
          100000,
          169000,
          110600,
          80000,
          135000,
          110000,
          105066,
          130000,
          100000,
          104663,
          73880,
          165000,
          124000,
          150000,
          100000,
          100000,
          65000,
          177000,
          131000,
          169000,
          110600,
          193750,
          116250,
          231250,
          138750,
          231250,
          138750,
          150000,
          100000,
          110000,
          95000,
          169000,
          110600,
          115934,
          81666,
          12000,
          154560,
          123648,
          130000,
          100000,
          130000,
          105000,
          206000,
          160000,
          109000,
          79000,
          160000,
          109000,
          127000,
          110000,
          169000,
          110600,
          150000,
          100000,
          120000,
          95000,
          64000,
          150000,
          127000,
          76000,
          166700,
          119000,
          130000,
          100000,
          103432,
          92350,
          80000,
          52500,
          135000,
          100000,
          125404,
          210000,
          157000,
          80000,
          52500,
          50432,
          36773,
          78000,
          48000,
          150000,
          95000,
          78000,
          48000,
          175950,
          130050,
          236600,
          89200,
          200000,
          169000,
          110600,
          5409,
          85000,
          65000,
          169000,
          110600,
          150000,
          120000,
          139600,
          85700,
          115000,
          95000,
          105000,
          62000,
          57000,
          115934,
          81666,
          50432,
          36773,
          200000,
          90000,
          108000,
          85000,
          130000,
          110000,
          45050,
          42028,
          135000,
          20000,
          99750,
          68400,
          130000,
          110000,
          110000,
          99000,
          50432,
          36773,
          150000,
          144000,
          113000,
          8050,
          50000,
          190000,
          140000,
          122500,
          100000,
          7799,
          136000,
          112000,
          97500,
          6359,
          165000,
          140250,
          75000,
          102663,
          80041,
          115000,
          46000,
          250000,
          63000,
          7500,
          113000,
          113000,
          140000,
          50000,
          53368,
          250000,
          63000,
          245000,
          180000,
          203500,
          152000,
          6270,
          200000,
          150000,
          216200,
          144100,
          170000,
          135000,
          117000,
          99450,
          86193,
          61566,
          175000,
          130000,
          5723,
          50432,
          50000,
          216200,
          144100,
          150000,
          48000,
          55000,
          130000,
          200000,
          54000,
          130000,
          28368,
          128875,
          93700,
          136260,
          109280,
          117000,
          99450,
          100000,
          65257,
          150075,
          110925,
          22809,
          15000,
          112900,
          90320,
          112900,
          90320,
          115934,
          81666,
          164000,
          132000,
          128875,
          93700,
          49253,
          36940,
          42026,
          31520,
          42026,
          31520,
          58000,
          58000,
          124190,
          90320,
          126500,
          106260,
          116000,
          99000,
          155000,
          120600,
          102100,
          84900,
          130000,
          110000,
          170000,
          135000,
          130000,
          61300,
          130000,
          61300,
          167000,
          115500,
          112900,
          90320,
          112900,
          90320,
          136600,
          109280,
          175000,
          135000,
          205300,
          184700,
          116150,
          99050,
          112900,
          90320,
          85000,
          75000,
          115934,
          81666,
          61566,
          43096,
          80000,
          60000,
          170000,
          150000,
          67000,
          52000,
          129000,
          99000,
          100000,
          69000,
          150075,
          110925,
          126500,
          106260,
          105000,
          100000,
          170000,
          135000,
          135000,
          50000,
          17805,
          69133,
          20000,
          20000,
          405000,
          135000,
          20000,
          90000,
          100000,
          10354,
          50000,
          55000,
          46759,
          90000,
          60000,
          110000,
          59102,
          80000,
          10000,
          79197,
          170000,
          80000,
          100000,
          150000,
          88654,
          51519,
          36259,
          93000,
          6072,
          91000,
          80000,
          200000,
          72000,
          63831,
          71786,
          9272,
          135000,
          50000,
          87000,
          85000,
          8000,
          6072,
          98000,
          61896,
          59102,
          19609,
          75000,
          62000,
          100000
         ],
         "x0": " ",
         "xaxis": "x",
         "y": [
          "Data Analyst",
          "Data Analyst",
          "Data Analyst",
          "Data Analyst",
          "Data Analyst",
          "Data Analyst",
          "Data Analyst",
          "Data Analyst",
          "Data Analyst",
          "Data Analyst",
          "Data Analyst",
          "Data Analyst",
          "Data Analyst",
          "Data Analyst",
          "Data Analyst",
          "Data Analyst",
          "Data Analyst",
          "Data Analyst",
          "Data Analyst",
          "Data Analyst",
          "Data Analyst",
          "Data Analyst",
          "Data Analyst",
          "Data Analyst",
          "Data Analyst",
          "Data Analyst",
          "Data Analyst",
          "Data Analyst",
          "Data Analyst",
          "Data Analyst",
          "Data Analyst",
          "Data Analyst",
          "Data Analyst",
          "Data Analyst",
          "Data Analyst",
          "Data Analyst",
          "Data Analyst",
          "Data Analyst",
          "Data Analyst",
          "Data Analyst",
          "Data Analyst",
          "Data Analyst",
          "Data Analyst",
          "Data Analyst",
          "Data Analyst",
          "Data Analyst",
          "Data Analyst",
          "Data Analyst",
          "Data Analyst",
          "Data Analyst",
          "Data Analyst",
          "Data Analyst",
          "Data Analyst",
          "Data Analyst",
          "Data Analyst",
          "Data Analyst",
          "Data Analyst",
          "Data Analyst",
          "Data Analyst",
          "Data Analyst",
          "Data Analyst",
          "Data Analyst",
          "Data Analyst",
          "Data Analyst",
          "Data Analyst",
          "Data Analyst",
          "Data Analyst",
          "Data Analyst",
          "Data Analyst",
          "Data Analyst",
          "Data Analyst",
          "Data Analyst",
          "Data Analyst",
          "Data Analyst",
          "Data Analyst",
          "Data Analyst",
          "Data Analyst",
          "Data Analyst",
          "Data Analyst",
          "Data Analyst",
          "Data Analyst",
          "Data Analyst",
          "Data Analyst",
          "Data Analyst",
          "Data Analyst",
          "Data Analyst",
          "Data Analyst",
          "Data Analyst",
          "Data Analyst",
          "Data Analyst",
          "Data Analyst",
          "Data Analyst",
          "Data Analyst",
          "Data Analyst",
          "Data Analyst",
          "Data Analyst",
          "Data Analyst",
          "Data Analyst",
          "Data Analyst",
          "Data Analyst",
          "Data Analyst",
          "Data Analyst",
          "Data Analyst",
          "Data Analyst",
          "Data Analyst",
          "Data Analyst",
          "Data Analyst",
          "Data Analyst",
          "Data Analyst",
          "Data Analyst",
          "Data Analyst",
          "Data Analyst",
          "Data Analyst",
          "Data Analyst",
          "Data Analyst",
          "Data Analyst",
          "Data Analyst",
          "Data Analyst",
          "Data Analyst",
          "Data Analyst",
          "Data Analyst",
          "Data Analyst",
          "Data Analyst",
          "Data Analyst",
          "Data Analyst",
          "Data Analyst",
          "Data Analyst",
          "Data Analyst",
          "Data Analyst",
          "Data Analyst",
          "Data Analyst",
          "Data Analyst",
          "Data Analyst",
          "Data Analyst",
          "Data Analyst",
          "Data Analyst",
          "Data Analyst",
          "Data Analyst",
          "Data Analyst",
          "Data Analyst",
          "Data Analyst",
          "Data Analyst",
          "Data Analyst",
          "Data Analyst",
          "Data Analyst",
          "Data Analyst",
          "Data Analyst",
          "Data Analyst",
          "Data Analyst",
          "Data Analyst",
          "Data Analyst",
          "Data Analyst",
          "Data Analyst",
          "Data Analyst",
          "Data Analyst",
          "Data Analyst",
          "Data Analyst",
          "Data Analyst",
          "Data Analyst",
          "Data Analyst",
          "Data Analyst",
          "Data Analyst",
          "Data Analyst",
          "Data Analyst",
          "Data Analyst",
          "Data Analyst",
          "Data Analyst",
          "Data Analyst",
          "Data Analyst",
          "Data Analyst",
          "Data Analyst",
          "Data Analyst",
          "Data Analyst",
          "Data Analyst",
          "Data Analyst",
          "Data Analyst",
          "Data Analyst",
          "Data Analyst",
          "Data Analyst",
          "Data Analyst",
          "Data Analyst",
          "Data Analyst",
          "Data Analyst",
          "Data Analyst",
          "Data Analyst",
          "Data Analyst",
          "Data Analyst",
          "Data Analyst",
          "Data Analyst",
          "Data Analyst",
          "Data Analyst",
          "Data Analyst",
          "Data Analyst",
          "Data Analyst",
          "Data Analyst",
          "Data Analyst",
          "Data Analyst",
          "Data Analyst",
          "Data Analyst",
          "Data Analyst",
          "Data Analyst",
          "Data Analyst",
          "Data Analyst",
          "Data Analyst",
          "Data Analyst",
          "Data Analyst",
          "Data Analyst",
          "Data Analyst",
          "Data Analyst",
          "Data Analyst",
          "Data Analyst",
          "Data Analyst",
          "Data Analyst",
          "Data Analyst",
          "Data Analyst",
          "Data Analyst",
          "Data Analyst",
          "Data Analyst",
          "Data Analyst",
          "Data Analyst",
          "Data Analyst",
          "Data Analyst",
          "Data Analyst",
          "Data Analyst",
          "Data Analyst",
          "Data Analyst",
          "Data Analyst",
          "Data Analyst",
          "Data Analyst",
          "Data Analyst",
          "Data Analyst",
          "Data Analyst",
          "Data Analyst",
          "Data Analyst",
          "Data Analyst",
          "Data Analyst",
          "Data Analyst",
          "Data Analyst",
          "Data Analyst",
          "Data Analyst",
          "Data Analyst",
          "Data Analyst",
          "Data Analyst",
          "Data Analyst",
          "Data Analyst",
          "Data Analyst",
          "Data Analyst",
          "Data Analyst",
          "Data Analyst",
          "Data Analyst",
          "Data Analyst",
          "Data Analyst",
          "Data Analyst",
          "Data Analyst",
          "Data Analyst",
          "Data Analyst",
          "Data Analyst",
          "Data Analyst",
          "Data Analyst",
          "Data Analyst",
          "Data Analyst",
          "Data Analyst",
          "Data Analyst",
          "Data Analyst",
          "Data Analyst",
          "Data Analyst",
          "Data Analyst",
          "Data Analyst",
          "Data Analyst",
          "Data Analyst",
          "Data Analyst",
          "Data Analyst",
          "Data Analyst",
          "Data Analyst",
          "Data Analyst",
          "Data Analyst",
          "Data Analyst",
          "Data Analyst",
          "Data Analyst",
          "Data Analyst",
          "Data Analyst",
          "Data Analyst",
          "Data Analyst",
          "Data Analyst",
          "Data Analyst",
          "Data Analyst",
          "Data Analyst",
          "Data Analyst",
          "Data Analyst",
          "Data Analyst",
          "Data Analyst",
          "Data Analyst",
          "Data Analyst",
          "Data Analyst",
          "Data Analyst",
          "Data Analyst",
          "Data Analyst",
          "Data Analyst",
          "Data Analyst",
          "Data Analyst",
          "Data Analyst",
          "Data Analyst",
          "Data Analyst",
          "Data Analyst",
          "Data Analyst",
          "Data Analyst",
          "Data Analyst",
          "Data Analyst",
          "Data Analyst",
          "Data Analyst",
          "Data Analyst",
          "Data Analyst",
          "Data Analyst",
          "Data Analyst",
          "Data Analyst",
          "Data Analyst",
          "Data Analyst",
          "Data Analyst",
          "Data Analyst",
          "Data Analyst",
          "Data Analyst",
          "Data Analyst",
          "Data Analyst",
          "Data Analyst",
          "Data Analyst",
          "Data Analyst",
          "Data Analyst",
          "Data Analyst",
          "Data Analyst",
          "Data Analyst",
          "Data Analyst",
          "Data Analyst",
          "Data Analyst",
          "Data Analyst",
          "Data Analyst",
          "Data Analyst",
          "Data Analyst",
          "Data Analyst",
          "Data Analyst",
          "Data Analyst",
          "Data Analyst",
          "Data Analyst",
          "Data Analyst",
          "Data Analyst",
          "Data Analyst",
          "Data Analyst",
          "Data Analyst",
          "Data Analyst",
          "Data Analyst",
          "Data Analyst",
          "Data Analyst",
          "Data Analyst",
          "Data Analyst",
          "Data Analyst",
          "Data Analyst",
          "Data Analyst",
          "Data Analyst",
          "Data Analyst",
          "Data Analyst",
          "Data Analyst",
          "Data Analyst",
          "Data Analyst",
          "Data Analyst",
          "Data Analyst",
          "Data Analyst",
          "Data Analyst",
          "Data Analyst",
          "Data Analyst",
          "Data Analyst",
          "Data Analyst",
          "Data Analyst",
          "Data Analyst",
          "Data Analyst",
          "Data Analyst",
          "Data Analyst",
          "Data Analyst",
          "Data Analyst",
          "Data Analyst",
          "Data Analyst",
          "Data Analyst",
          "Data Analyst",
          "Data Analyst",
          "Data Analyst",
          "Data Analyst",
          "Data Analyst",
          "Data Analyst",
          "Data Analyst",
          "Data Analyst",
          "Data Analyst",
          "Data Analyst",
          "Data Analyst",
          "Data Analyst",
          "Data Analyst",
          "Data Analyst",
          "Data Analyst",
          "Data Analyst",
          "Data Analyst",
          "Data Analyst",
          "Data Analyst",
          "Data Analyst",
          "Data Analyst",
          "Data Analyst",
          "Data Analyst",
          "Data Analyst",
          "Data Analyst",
          "Data Analyst",
          "Data Analyst",
          "Data Analyst",
          "Data Analyst",
          "Data Analyst",
          "Data Analyst",
          "Data Analyst",
          "Data Analyst",
          "Data Analyst",
          "Data Analyst",
          "Data Analyst",
          "Data Analyst",
          "Data Analyst",
          "Data Analyst",
          "Data Analyst",
          "Data Analyst",
          "Data Analyst",
          "Data Analyst",
          "Data Analyst",
          "Data Analyst",
          "Data Analyst",
          "Data Analyst",
          "Data Analyst",
          "Data Analyst",
          "Data Analyst",
          "Data Analyst",
          "Data Analyst",
          "Data Analyst",
          "Data Analyst",
          "Data Analyst",
          "Data Analyst",
          "Data Analyst",
          "Data Analyst",
          "Data Analyst",
          "Data Analyst",
          "Data Analyst",
          "Data Analyst",
          "Data Analyst",
          "Data Analyst",
          "Data Analyst",
          "Data Analyst",
          "Data Analyst",
          "Data Analyst",
          "Data Analyst",
          "Data Analyst",
          "Data Analyst",
          "Data Analyst",
          "Data Analyst",
          "Data Analyst",
          "Data Analyst",
          "Data Analyst",
          "Data Analyst",
          "Data Analyst",
          "Data Analyst",
          "Data Analyst",
          "Data Analyst",
          "Data Analyst",
          "Data Analyst",
          "Data Analyst",
          "Data Analyst",
          "Data Analyst",
          "Data Analyst",
          "Data Analyst",
          "Data Analyst",
          "Data Analyst",
          "Data Analyst",
          "Data Analyst",
          "Data Analyst",
          "Data Analyst",
          "Data Analyst",
          "Data Analyst",
          "Data Analyst",
          "Data Analyst",
          "Data Analyst",
          "Data Analyst",
          "Data Analyst",
          "Data Analyst",
          "Data Analyst",
          "Data Analyst",
          "Data Analyst",
          "Data Analyst",
          "Data Analyst",
          "Data Analyst",
          "Data Analyst",
          "Data Analyst",
          "Data Analyst",
          "Data Analyst",
          "Data Analyst",
          "Data Analyst",
          "Data Analyst",
          "Data Analyst",
          "Data Analyst",
          "Data Analyst",
          "Data Analyst",
          "Data Analyst",
          "Data Analyst",
          "Data Analyst",
          "Data Analyst",
          "Data Analyst",
          "Data Analyst",
          "Data Analyst",
          "Data Analyst",
          "Data Analyst",
          "Data Analyst",
          "Data Analyst",
          "Data Analyst",
          "Data Analyst",
          "Data Analyst",
          "Data Analyst",
          "Data Analyst",
          "Data Analyst",
          "Data Analyst",
          "Data Analyst",
          "Data Analyst",
          "Data Analyst",
          "Data Analyst",
          "Data Analyst",
          "Data Analyst",
          "Data Analyst",
          "Data Analyst",
          "Data Analyst",
          "Data Analyst",
          "Data Analyst",
          "Data Analyst",
          "Data Analyst",
          "Data Analyst",
          "Data Analyst",
          "Data Analyst",
          "Data Analyst",
          "Data Analyst",
          "Data Analyst",
          "Data Analyst",
          "Data Analyst",
          "Data Analyst",
          "Data Analyst",
          "Data Analyst",
          "Data Analyst",
          "Data Analyst",
          "Data Analyst",
          "Data Analyst",
          "Data Analyst",
          "Data Analyst",
          "Data Analyst",
          "Data Analyst",
          "Data Analyst",
          "Data Analyst",
          "Data Analyst",
          "Data Analyst",
          "Data Analyst",
          "Data Analyst",
          "Data Analyst",
          "Data Analyst",
          "Data Analyst",
          "Data Analyst",
          "Data Analyst",
          "Data Analyst",
          "Data Analyst",
          "Data Analyst",
          "Data Analyst",
          "Data Analyst",
          "Data Analyst",
          "Data Analyst",
          "Data Analyst",
          "Data Analyst",
          "Data Analyst",
          "Data Analyst",
          "Data Analyst",
          "Data Analyst",
          "Data Analyst",
          "Data Analyst",
          "Data Analyst",
          "Data Analyst",
          "Data Analyst",
          "Data Analyst",
          "Data Analyst",
          "Data Analyst",
          "Data Analyst",
          "Data Analyst",
          "Data Analyst",
          "Data Analyst",
          "Data Analyst",
          "Data Analyst",
          "Data Analyst",
          "Data Analyst",
          "Data Analyst",
          "Data Analyst",
          "Data Analyst",
          "Data Analyst",
          "Data Analyst",
          "Data Analyst",
          "Data Analyst",
          "Data Analyst",
          "Data Analyst",
          "Data Analyst",
          "Data Analyst",
          "Data Analyst",
          "Data Analyst",
          "Data Analyst",
          "Data Analyst",
          "Data Analyst",
          "Data Analyst",
          "Data Analyst",
          "Data Analyst",
          "Data Analyst",
          "Data Analyst",
          "Data Analyst",
          "Data Analyst",
          "Data Analyst",
          "Data Analyst",
          "Data Analyst",
          "Data Analyst",
          "Data Analyst",
          "Data Analyst",
          "Data Analyst",
          "Data Analyst",
          "Data Analyst",
          "Data Analyst",
          "Data Analyst",
          "Data Analyst",
          "Data Analyst",
          "Data Analyst",
          "Data Analyst",
          "Data Analyst",
          "Data Analyst",
          "Data Analyst",
          "Data Analyst",
          "Data Analyst",
          "Data Analyst",
          "Data Analyst",
          "Data Analyst",
          "Data Analyst",
          "Data Analyst",
          "Data Analyst",
          "Data Analyst",
          "Data Analyst",
          "Data Analyst",
          "Data Analyst",
          "Data Analyst",
          "Data Analyst",
          "Data Analyst",
          "Data Analyst",
          "Data Analyst",
          "Data Analyst",
          "Data Analyst",
          "Data Analyst",
          "Data Analyst",
          "Data Analyst",
          "Data Analyst",
          "Data Analyst",
          "Data Analyst",
          "Data Analyst",
          "Data Analyst",
          "Data Analyst",
          "Data Analyst",
          "Data Analyst",
          "Data Analyst",
          "Data Analyst",
          "Data Analyst",
          "Data Analyst",
          "Data Analyst",
          "Data Analyst",
          "Data Analyst",
          "Data Analyst",
          "Data Analyst",
          "Data Analyst",
          "Data Analyst",
          "Data Analyst",
          "Data Analyst",
          "Data Analyst",
          "Data Analyst",
          "Data Analyst",
          "Data Analyst",
          "Data Analyst",
          "Data Analyst",
          "Data Analyst",
          "Data Analyst",
          "Data Analyst",
          "Data Analyst",
          "Data Analyst",
          "Data Analyst",
          "Data Analyst",
          "Data Analyst",
          "Data Analyst",
          "Data Analyst",
          "Data Analyst",
          "Data Analyst",
          "Data Analyst",
          "Data Analyst",
          "Data Analyst",
          "Data Analyst",
          "Data Analyst",
          "Data Analyst",
          "Data Analyst",
          "Data Analyst",
          "Data Analyst",
          "Data Analyst",
          "Data Analyst",
          "Data Analyst",
          "Data Analyst",
          "Data Analyst",
          "Data Analyst",
          "Data Analyst",
          "Data Analyst",
          "Data Analyst",
          "Data Analyst",
          "Data Analyst",
          "Data Analyst",
          "Data Analyst",
          "Data Analyst",
          "Data Analyst",
          "Data Analyst",
          "Data Analyst",
          "Data Analyst",
          "Data Analyst",
          "Data Analyst",
          "Data Analyst",
          "Data Analyst",
          "Data Analyst",
          "Data Analyst",
          "Data Analyst",
          "Data Analyst",
          "Data Analyst",
          "Data Analyst",
          "Data Analyst",
          "Data Analyst",
          "Data Analyst",
          "Data Analyst",
          "Data Analyst",
          "Data Analyst",
          "Data Analyst",
          "Data Analyst",
          "Data Analyst",
          "Data Analyst",
          "Data Analyst",
          "Data Analyst",
          "Data Analyst",
          "Data Analyst",
          "Data Analyst",
          "Data Analyst",
          "Data Analyst",
          "Data Analyst",
          "Data Analyst",
          "Data Analyst",
          "Data Analyst",
          "Data Analyst",
          "Data Analyst",
          "Data Analyst",
          "Data Analyst",
          "Data Analyst",
          "Data Analyst",
          "Data Analyst",
          "Data Analyst",
          "Data Analyst",
          "Data Analyst",
          "Data Analyst",
          "Data Analyst",
          "Data Analyst",
          "Data Analyst",
          "Data Analyst",
          "Data Analyst",
          "Data Analyst",
          "Data Analyst",
          "Data Analyst",
          "Data Analyst",
          "Data Analyst",
          "Data Analyst",
          "Data Analyst",
          "Data Analyst",
          "Data Analyst",
          "Data Analyst",
          "Data Analyst",
          "Data Analyst",
          "Data Analyst",
          "Data Analyst",
          "Data Analyst",
          "Data Analyst",
          "Data Analyst",
          "Data Analyst",
          "Data Analyst",
          "Data Analyst",
          "Data Analyst",
          "Data Analyst",
          "Data Analyst",
          "Data Analyst",
          "Data Analyst",
          "Data Analyst"
         ],
         "y0": " ",
         "yaxis": "y"
        },
        {
         "alignmentgroup": "True",
         "hovertemplate": "job_title=%{y}<br>salary_in_usd=%{x}<extra></extra>",
         "legendgroup": "Data Architecture",
         "marker": {
          "color": "#FFA15A"
         },
         "name": "Data Architecture",
         "notched": false,
         "offsetgroup": "Data Architecture",
         "orientation": "h",
         "showlegend": true,
         "type": "box",
         "x": [
          147100,
          90700,
          280100,
          168100,
          180000,
          115000,
          200000,
          115000,
          250500,
          159500,
          180000,
          155000,
          167500,
          106500,
          170000,
          125000,
          167500,
          106500,
          149040,
          113900,
          376080,
          213120,
          138000,
          92000,
          149040,
          113900,
          188500,
          117000,
          168400,
          105200,
          228000,
          120000,
          198000,
          114000,
          180000,
          160000,
          151902,
          180000,
          115000,
          200000,
          115000,
          174500,
          113000,
          174500,
          113000,
          174500,
          113000,
          180000,
          115000,
          174500,
          113000,
          174500,
          113000,
          170000,
          110000,
          190000,
          135000,
          149040,
          113900,
          190000,
          135000,
          235000,
          175000,
          192564,
          144854,
          210000,
          136000,
          128000,
          81500,
          345600,
          230400,
          225000,
          66000,
          180000,
          160000,
          190000,
          135000,
          195400,
          131300,
          195400,
          131300,
          190000,
          135000,
          190000,
          135000,
          149040,
          113900,
          141300,
          102100,
          250000,
          63000,
          250000,
          250000,
          63000,
          208775,
          147800,
          192400,
          90700,
          266400,
          213120,
          192564,
          144854,
          170000,
          150000,
          99703,
          180000
         ],
         "x0": " ",
         "xaxis": "x",
         "y": [
          "Data Architecture",
          "Data Architecture",
          "Data Architecture",
          "Data Architecture",
          "Data Architecture",
          "Data Architecture",
          "Data Architecture",
          "Data Architecture",
          "Data Architecture",
          "Data Architecture",
          "Data Architecture",
          "Data Architecture",
          "Data Architecture",
          "Data Architecture",
          "Data Architecture",
          "Data Architecture",
          "Data Architecture",
          "Data Architecture",
          "Data Architecture",
          "Data Architecture",
          "Data Architecture",
          "Data Architecture",
          "Data Architecture",
          "Data Architecture",
          "Data Architecture",
          "Data Architecture",
          "Data Architecture",
          "Data Architecture",
          "Data Architecture",
          "Data Architecture",
          "Data Architecture",
          "Data Architecture",
          "Data Architecture",
          "Data Architecture",
          "Data Architecture",
          "Data Architecture",
          "Data Architecture",
          "Data Architecture",
          "Data Architecture",
          "Data Architecture",
          "Data Architecture",
          "Data Architecture",
          "Data Architecture",
          "Data Architecture",
          "Data Architecture",
          "Data Architecture",
          "Data Architecture",
          "Data Architecture",
          "Data Architecture",
          "Data Architecture",
          "Data Architecture",
          "Data Architecture",
          "Data Architecture",
          "Data Architecture",
          "Data Architecture",
          "Data Architecture",
          "Data Architecture",
          "Data Architecture",
          "Data Architecture",
          "Data Architecture",
          "Data Architecture",
          "Data Architecture",
          "Data Architecture",
          "Data Architecture",
          "Data Architecture",
          "Data Architecture",
          "Data Architecture",
          "Data Architecture",
          "Data Architecture",
          "Data Architecture",
          "Data Architecture",
          "Data Architecture",
          "Data Architecture",
          "Data Architecture",
          "Data Architecture",
          "Data Architecture",
          "Data Architecture",
          "Data Architecture",
          "Data Architecture",
          "Data Architecture",
          "Data Architecture",
          "Data Architecture",
          "Data Architecture",
          "Data Architecture",
          "Data Architecture",
          "Data Architecture",
          "Data Architecture",
          "Data Architecture",
          "Data Architecture",
          "Data Architecture",
          "Data Architecture",
          "Data Architecture",
          "Data Architecture",
          "Data Architecture",
          "Data Architecture",
          "Data Architecture",
          "Data Architecture",
          "Data Architecture",
          "Data Architecture",
          "Data Architecture",
          "Data Architecture",
          "Data Architecture",
          "Data Architecture",
          "Data Architecture",
          "Data Architecture",
          "Data Architecture"
         ],
         "y0": " ",
         "yaxis": "y"
        },
        {
         "alignmentgroup": "True",
         "hovertemplate": "job_title=%{y}<br>salary_in_usd=%{x}<extra></extra>",
         "legendgroup": "Data Engineering",
         "marker": {
          "color": "#19d3f3"
         },
         "name": "Data Engineering",
         "notched": false,
         "offsetgroup": "Data Engineering",
         "orientation": "h",
         "showlegend": true,
         "type": "box",
         "x": [
          90000,
          72000,
          253200,
          90700,
          162500,
          130000,
          270703,
          221484,
          203300,
          123600,
          231500,
          166000,
          238000,
          176000,
          237000,
          201450,
          115000,
          81500,
          193500,
          139000,
          225000,
          175000,
          185000,
          140000,
          217000,
          185000,
          165000,
          132300,
          179170,
          94300,
          247300,
          133800,
          185900,
          129300,
          252000,
          129000,
          161800,
          141600,
          100000,
          70000,
          85000,
          65000,
          95000,
          75000,
          100000,
          70000,
          145000,
          115000,
          162500,
          130000,
          145000,
          120000,
          241000,
          155000,
          220000,
          190000,
          85066,
          57723,
          160000,
          140000,
          220000,
          205000,
          180000,
          130000,
          200000,
          150000,
          17022,
          128000,
          81500,
          145000,
          115000,
          185000,
          140000,
          145000,
          100000,
          145000,
          115000,
          85000,
          65000,
          220000,
          160000,
          240500,
          123700,
          175000,
          110000,
          219535,
          146115,
          179000,
          109000,
          145000,
          115000,
          85000,
          65000,
          222000,
          175000,
          221000,
          147000,
          48289,
          150000,
          130000,
          240000,
          183600,
          250000,
          150000,
          145000,
          120000,
          200000,
          160000,
          60000,
          85000,
          65000,
          125000,
          90000,
          146000,
          75000,
          203100,
          114500,
          252000,
          129000,
          92700,
          61800,
          160000,
          130000,
          146000,
          75000,
          59888,
          286000,
          207000,
          223250,
          178600,
          128000,
          81500,
          171250,
          113750,
          165000,
          132300,
          230000,
          124500,
          145000,
          115000,
          180000,
          165000,
          145000,
          120000,
          143865,
          115092,
          167500,
          106500,
          149600,
          102000,
          151000,
          140000,
          160000,
          145000,
          150000,
          111000,
          265000,
          235000,
          160000,
          130000,
          75000,
          60400,
          252000,
          129000,
          92700,
          61800,
          62000,
          58000,
          125000,
          90000,
          163800,
          126000,
          90000,
          90000,
          139500,
          109400,
          145000,
          120000,
          205600,
          105700,
          252000,
          129000,
          165000,
          132300,
          153600,
          106800,
          172600,
          107900,
          260000,
          225000,
          194500,
          115500,
          170000,
          275000,
          160000,
          162500,
          130000,
          147100,
          90700,
          115100,
          73900,
          168400,
          105200,
          85066,
          57723,
          140000,
          95000,
          184000,
          143000,
          75020,
          139500,
          109400,
          210914,
          116704,
          146000,
          75000,
          160000,
          130000,
          193000,
          136850,
          276000,
          178500,
          75116,
          48289,
          136956,
          101228,
          252000,
          129000,
          163800,
          126000,
          252000,
          129000,
          167500,
          106500,
          140000,
          120000,
          153600,
          106800,
          125000,
          90000,
          72000,
          60000,
          260000,
          175000,
          250000,
          175000,
          50000,
          310000,
          239000,
          146000,
          75000,
          139500,
          109400,
          149600,
          102000,
          252000,
          129000,
          145000,
          125000,
          252000,
          129000,
          121500,
          78000,
          154000,
          116000,
          170000,
          140000,
          154000,
          116000,
          160000,
          130000,
          200000,
          120000,
          127599,
          103294,
          153600,
          106800,
          167500,
          106500,
          163800,
          126000,
          160000,
          130000,
          185900,
          129300,
          310000,
          239000,
          140000,
          100000,
          139500,
          109400,
          80000,
          65000,
          124740,
          65488,
          153600,
          106800,
          120000,
          90000,
          265000,
          185000,
          167580,
          87980,
          202000,
          135000,
          163800,
          126000,
          104000,
          65000,
          290000,
          210000,
          192000,
          172800,
          115447,
          137500,
          81500,
          190000,
          160000,
          190000,
          183310,
          144000,
          66000,
          180000,
          160000,
          259000,
          146000,
          200000,
          160000,
          310000,
          239000,
          140000,
          120000,
          259000,
          146000,
          139500,
          109400,
          125000,
          90000,
          120000,
          90000,
          230000,
          170000,
          180000,
          160000,
          180000,
          130000,
          226700,
          133300,
          252000,
          129000,
          250000,
          162500,
          167580,
          87980,
          250000,
          63000,
          124740,
          65488,
          213580,
          163625,
          12000,
          101943,
          235000,
          210000,
          160000,
          75000,
          250000,
          162500,
          241871,
          133832,
          210914,
          116704,
          128000,
          81500,
          66837,
          63192,
          284000,
          236000,
          66531,
          59020,
          100000,
          26827,
          226700,
          133300,
          163800,
          126000,
          145000,
          115000,
          162500,
          130000,
          150000,
          107000,
          175000,
          110000,
          226700,
          133300,
          252000,
          129000,
          252000,
          129000,
          265000,
          182750,
          137500,
          81500,
          200000,
          145000,
          130000,
          160000,
          135000,
          310000,
          239000,
          240000,
          170000,
          66970,
          165000,
          107250,
          300000,
          119000,
          153000,
          94000,
          240500,
          123700,
          160000,
          90000,
          170000,
          120000,
          225000,
          140000,
          85000,
          75000,
          220000,
          160000,
          205600,
          107500,
          120000,
          95000,
          185900,
          129300,
          160000,
          130000,
          250000,
          175000,
          130000,
          75000,
          252000,
          129000,
          226700,
          133300,
          170000,
          150000,
          150000,
          130000,
          205600,
          105700,
          160000,
          135000,
          120000,
          95000,
          250000,
          63000,
          300000,
          130000,
          122000,
          94000,
          252000,
          129000,
          120000,
          95000,
          232200,
          167200,
          170000,
          114000,
          291500,
          180000,
          196200,
          150900,
          95000,
          80000,
          105000,
          70000,
          133800,
          96100,
          140000,
          115000,
          202000,
          135000,
          160000,
          110000,
          170000,
          150000,
          175308,
          100706,
          310000,
          229000,
          69751,
          37558,
          226700,
          133300,
          120000,
          100000,
          231250,
          138750,
          199000,
          162000,
          160000,
          135000,
          200000,
          160000,
          187500,
          175000,
          291500,
          180000,
          161800,
          141600,
          166000,
          128000,
          160000,
          75000,
          236000,
          182000,
          160000,
          135000,
          175000,
          155000,
          153600,
          106800,
          170000,
          130000,
          145000,
          100000,
          175000,
          120000,
          145000,
          115000,
          260000,
          175000,
          250000,
          63000,
          150000,
          150000,
          120000,
          95000,
          160000,
          135000,
          216000,
          144000,
          85000,
          65000,
          190000,
          160000,
          130000,
          115000,
          105000,
          70000,
          185900,
          129300,
          130000,
          75000,
          167500,
          106500,
          175000,
          120000,
          175000,
          120000,
          200000,
          145000,
          92350,
          73880,
          145000,
          100000,
          310000,
          239000,
          100000,
          78000,
          73546,
          36773,
          160000,
          120000,
          35610,
          120000,
          95000,
          120000,
          95000,
          190000,
          120000,
          210000,
          130000,
          198800,
          122600,
          130000,
          80000,
          160000,
          135000,
          216000,
          144000,
          215000,
          150000,
          187000,
          153000,
          220000,
          146000,
          68293,
          36773,
          120000,
          95000,
          194000,
          129400,
          153600,
          106800,
          216000,
          144000,
          160000,
          135000,
          152500,
          130000,
          178750,
          160000,
          105000,
          70000,
          197430,
          134760,
          197000,
          99000,
          220000,
          162000,
          110446,
          79178,
          100000,
          78000,
          120000,
          95000,
          230000,
          154600,
          160000,
          75000,
          213000,
          152000,
          175000,
          150000,
          178000,
          132000,
          300000,
          130000,
          194000,
          129400,
          135000,
          120000,
          160000,
          135000,
          120000,
          95000,
          68293,
          42026,
          191200,
          130000,
          191200,
          130000,
          230000,
          154600,
          120000,
          95000,
          185900,
          129300,
          205000,
          150000,
          179500,
          134000,
          160000,
          90000,
          68293,
          36773,
          145000,
          115000,
          168400,
          105200,
          200000,
          160000,
          125000,
          110000,
          160000,
          135000,
          120000,
          95000,
          153600,
          106800,
          120000,
          95000,
          63040,
          36773,
          310000,
          239000,
          161000,
          118000,
          68293,
          146000,
          102000,
          135000,
          100000,
          80000,
          65000,
          135000,
          100000,
          61566,
          43096,
          175000,
          135000,
          231250,
          138750,
          231250,
          138750,
          193750,
          116250,
          185900,
          129300,
          160000,
          135000,
          191200,
          130000,
          175000,
          150000,
          170000,
          145000,
          135000,
          100000,
          179305,
          142127,
          315000,
          225000,
          182500,
          128500,
          160000,
          90000,
          12608,
          170000,
          140000,
          247500,
          172200,
          225000,
          184100,
          161000,
          110000,
          61566,
          49253,
          160000,
          130000,
          135000,
          100000,
          220000,
          150000,
          240000,
          170000,
          275000,
          166000,
          236000,
          182000,
          300000,
          130000,
          195000,
          175000,
          155000,
          110000,
          170000,
          150000,
          97000,
          90000,
          200000,
          160000,
          260000,
          180000,
          105000,
          70000,
          171000,
          117000,
          197000,
          99000,
          160000,
          110000,
          170000,
          130000,
          78000,
          42000,
          145000,
          115000,
          205600,
          105700,
          185900,
          129300,
          75050,
          225000,
          184100,
          110820,
          92350,
          185900,
          129300,
          191200,
          130000,
          185000,
          50000,
          185900,
          129300,
          185900,
          129300,
          161311,
          73546,
          42026,
          170000,
          150000,
          188700,
          160395,
          300000,
          225000,
          200000,
          180000,
          165000,
          132000,
          178800,
          132100,
          160000,
          85000,
          250000,
          63000,
          187200,
          116100,
          200000,
          145000,
          229998,
          154545,
          229998,
          154545,
          175000,
          150000,
          160000,
          85000,
          195700,
          130500,
          100000,
          60000,
          80036,
          67723,
          141300,
          102100,
          135000,
          80000,
          160000,
          85000,
          178800,
          132100,
          140000,
          105000,
          80036,
          67723,
          100000,
          60000,
          150000,
          100000,
          297500,
          260000,
          193000,
          100000,
          60000,
          250000,
          63000,
          215000,
          164000,
          300000,
          130000,
          250000,
          63000,
          180000,
          150000,
          45390,
          250000,
          63000,
          135000,
          115000,
          84053,
          73546,
          98506,
          86193,
          84053,
          73546,
          104611,
          82280,
          80000,
          105000,
          90000,
          146200,
          124270,
          185800,
          137400,
          250000,
          63000,
          250000,
          63000,
          135000,
          85000,
          154000,
          126000,
          195700,
          130500,
          98506,
          73880,
          200000,
          135000,
          188100,
          139860,
          141300,
          102100,
          177600,
          131300,
          24000,
          24000,
          250000,
          63000,
          145000,
          115000,
          210000,
          100000,
          206699,
          99100,
          250000,
          63000,
          250000,
          63000,
          100000,
          80000,
          91118,
          61566,
          170000,
          130000,
          200000,
          160000,
          135446,
          104663,
          129000,
          86000,
          13493,
          13493,
          210000,
          100000,
          175000,
          135000,
          92350,
          67723,
          65666,
          110820,
          92350,
          209100,
          154600,
          175000,
          155000,
          52533,
          52533,
          115222,
          165400,
          132320,
          136994,
          101570,
          183600,
          100800,
          84053,
          73546,
          98506,
          86193,
          84053,
          73546,
          92350,
          73880,
          63040,
          47280,
          63040,
          47280,
          73880,
          55410,
          82900,
          63900,
          136000,
          108800,
          242000,
          200000,
          73880,
          49253,
          181940,
          132320,
          220110,
          160080,
          170000,
          150000,
          49253,
          43096,
          73880,
          61566,
          160000,
          113000,
          165400,
          132320,
          243900,
          156600,
          128875,
          93700,
          209100,
          154600,
          180000,
          160000,
          200100,
          160000,
          70500,
          54000,
          175100,
          140250,
          145000,
          130000,
          155000,
          115000,
          206699,
          99100,
          130000,
          110500,
          154000,
          126000,
          100000,
          25000,
          220110,
          160080,
          324000,
          216000,
          210000,
          100000,
          105000,
          80000,
          52533,
          65000,
          135000,
          115000,
          54742,
          55475,
          150000,
          65141,
          120000,
          60000,
          200000,
          100000,
          59303,
          82528,
          80000,
          70000,
          74130,
          153000,
          90000,
          28476,
          140000,
          79833,
          103160,
          113476,
          30428,
          150000,
          115000,
          106000,
          112872,
          150000,
          89294,
          276000,
          188000,
          160000,
          200000,
          174000,
          70139,
          33511,
          96282,
          12103,
          72212,
          21637,
          109024,
          200000,
          110000,
          72500,
          69741,
          112000,
          65013,
          28016,
          111775,
          93150,
          160000,
          16228,
          125000,
          26005,
          22611,
          41689,
          114047,
          56000,
          47899,
          66022,
          20000,
          165000,
          5882,
          110000,
          76833,
          18000,
          45391,
          130800,
          28369
         ],
         "x0": " ",
         "xaxis": "x",
         "y": [
          "Data Engineering",
          "Data Engineering",
          "Data Engineering",
          "Data Engineering",
          "Data Engineering",
          "Data Engineering",
          "Data Engineering",
          "Data Engineering",
          "Data Engineering",
          "Data Engineering",
          "Data Engineering",
          "Data Engineering",
          "Data Engineering",
          "Data Engineering",
          "Data Engineering",
          "Data Engineering",
          "Data Engineering",
          "Data Engineering",
          "Data Engineering",
          "Data Engineering",
          "Data Engineering",
          "Data Engineering",
          "Data Engineering",
          "Data Engineering",
          "Data Engineering",
          "Data Engineering",
          "Data Engineering",
          "Data Engineering",
          "Data Engineering",
          "Data Engineering",
          "Data Engineering",
          "Data Engineering",
          "Data Engineering",
          "Data Engineering",
          "Data Engineering",
          "Data Engineering",
          "Data Engineering",
          "Data Engineering",
          "Data Engineering",
          "Data Engineering",
          "Data Engineering",
          "Data Engineering",
          "Data Engineering",
          "Data Engineering",
          "Data Engineering",
          "Data Engineering",
          "Data Engineering",
          "Data Engineering",
          "Data Engineering",
          "Data Engineering",
          "Data Engineering",
          "Data Engineering",
          "Data Engineering",
          "Data Engineering",
          "Data Engineering",
          "Data Engineering",
          "Data Engineering",
          "Data Engineering",
          "Data Engineering",
          "Data Engineering",
          "Data Engineering",
          "Data Engineering",
          "Data Engineering",
          "Data Engineering",
          "Data Engineering",
          "Data Engineering",
          "Data Engineering",
          "Data Engineering",
          "Data Engineering",
          "Data Engineering",
          "Data Engineering",
          "Data Engineering",
          "Data Engineering",
          "Data Engineering",
          "Data Engineering",
          "Data Engineering",
          "Data Engineering",
          "Data Engineering",
          "Data Engineering",
          "Data Engineering",
          "Data Engineering",
          "Data Engineering",
          "Data Engineering",
          "Data Engineering",
          "Data Engineering",
          "Data Engineering",
          "Data Engineering",
          "Data Engineering",
          "Data Engineering",
          "Data Engineering",
          "Data Engineering",
          "Data Engineering",
          "Data Engineering",
          "Data Engineering",
          "Data Engineering",
          "Data Engineering",
          "Data Engineering",
          "Data Engineering",
          "Data Engineering",
          "Data Engineering",
          "Data Engineering",
          "Data Engineering",
          "Data Engineering",
          "Data Engineering",
          "Data Engineering",
          "Data Engineering",
          "Data Engineering",
          "Data Engineering",
          "Data Engineering",
          "Data Engineering",
          "Data Engineering",
          "Data Engineering",
          "Data Engineering",
          "Data Engineering",
          "Data Engineering",
          "Data Engineering",
          "Data Engineering",
          "Data Engineering",
          "Data Engineering",
          "Data Engineering",
          "Data Engineering",
          "Data Engineering",
          "Data Engineering",
          "Data Engineering",
          "Data Engineering",
          "Data Engineering",
          "Data Engineering",
          "Data Engineering",
          "Data Engineering",
          "Data Engineering",
          "Data Engineering",
          "Data Engineering",
          "Data Engineering",
          "Data Engineering",
          "Data Engineering",
          "Data Engineering",
          "Data Engineering",
          "Data Engineering",
          "Data Engineering",
          "Data Engineering",
          "Data Engineering",
          "Data Engineering",
          "Data Engineering",
          "Data Engineering",
          "Data Engineering",
          "Data Engineering",
          "Data Engineering",
          "Data Engineering",
          "Data Engineering",
          "Data Engineering",
          "Data Engineering",
          "Data Engineering",
          "Data Engineering",
          "Data Engineering",
          "Data Engineering",
          "Data Engineering",
          "Data Engineering",
          "Data Engineering",
          "Data Engineering",
          "Data Engineering",
          "Data Engineering",
          "Data Engineering",
          "Data Engineering",
          "Data Engineering",
          "Data Engineering",
          "Data Engineering",
          "Data Engineering",
          "Data Engineering",
          "Data Engineering",
          "Data Engineering",
          "Data Engineering",
          "Data Engineering",
          "Data Engineering",
          "Data Engineering",
          "Data Engineering",
          "Data Engineering",
          "Data Engineering",
          "Data Engineering",
          "Data Engineering",
          "Data Engineering",
          "Data Engineering",
          "Data Engineering",
          "Data Engineering",
          "Data Engineering",
          "Data Engineering",
          "Data Engineering",
          "Data Engineering",
          "Data Engineering",
          "Data Engineering",
          "Data Engineering",
          "Data Engineering",
          "Data Engineering",
          "Data Engineering",
          "Data Engineering",
          "Data Engineering",
          "Data Engineering",
          "Data Engineering",
          "Data Engineering",
          "Data Engineering",
          "Data Engineering",
          "Data Engineering",
          "Data Engineering",
          "Data Engineering",
          "Data Engineering",
          "Data Engineering",
          "Data Engineering",
          "Data Engineering",
          "Data Engineering",
          "Data Engineering",
          "Data Engineering",
          "Data Engineering",
          "Data Engineering",
          "Data Engineering",
          "Data Engineering",
          "Data Engineering",
          "Data Engineering",
          "Data Engineering",
          "Data Engineering",
          "Data Engineering",
          "Data Engineering",
          "Data Engineering",
          "Data Engineering",
          "Data Engineering",
          "Data Engineering",
          "Data Engineering",
          "Data Engineering",
          "Data Engineering",
          "Data Engineering",
          "Data Engineering",
          "Data Engineering",
          "Data Engineering",
          "Data Engineering",
          "Data Engineering",
          "Data Engineering",
          "Data Engineering",
          "Data Engineering",
          "Data Engineering",
          "Data Engineering",
          "Data Engineering",
          "Data Engineering",
          "Data Engineering",
          "Data Engineering",
          "Data Engineering",
          "Data Engineering",
          "Data Engineering",
          "Data Engineering",
          "Data Engineering",
          "Data Engineering",
          "Data Engineering",
          "Data Engineering",
          "Data Engineering",
          "Data Engineering",
          "Data Engineering",
          "Data Engineering",
          "Data Engineering",
          "Data Engineering",
          "Data Engineering",
          "Data Engineering",
          "Data Engineering",
          "Data Engineering",
          "Data Engineering",
          "Data Engineering",
          "Data Engineering",
          "Data Engineering",
          "Data Engineering",
          "Data Engineering",
          "Data Engineering",
          "Data Engineering",
          "Data Engineering",
          "Data Engineering",
          "Data Engineering",
          "Data Engineering",
          "Data Engineering",
          "Data Engineering",
          "Data Engineering",
          "Data Engineering",
          "Data Engineering",
          "Data Engineering",
          "Data Engineering",
          "Data Engineering",
          "Data Engineering",
          "Data Engineering",
          "Data Engineering",
          "Data Engineering",
          "Data Engineering",
          "Data Engineering",
          "Data Engineering",
          "Data Engineering",
          "Data Engineering",
          "Data Engineering",
          "Data Engineering",
          "Data Engineering",
          "Data Engineering",
          "Data Engineering",
          "Data Engineering",
          "Data Engineering",
          "Data Engineering",
          "Data Engineering",
          "Data Engineering",
          "Data Engineering",
          "Data Engineering",
          "Data Engineering",
          "Data Engineering",
          "Data Engineering",
          "Data Engineering",
          "Data Engineering",
          "Data Engineering",
          "Data Engineering",
          "Data Engineering",
          "Data Engineering",
          "Data Engineering",
          "Data Engineering",
          "Data Engineering",
          "Data Engineering",
          "Data Engineering",
          "Data Engineering",
          "Data Engineering",
          "Data Engineering",
          "Data Engineering",
          "Data Engineering",
          "Data Engineering",
          "Data Engineering",
          "Data Engineering",
          "Data Engineering",
          "Data Engineering",
          "Data Engineering",
          "Data Engineering",
          "Data Engineering",
          "Data Engineering",
          "Data Engineering",
          "Data Engineering",
          "Data Engineering",
          "Data Engineering",
          "Data Engineering",
          "Data Engineering",
          "Data Engineering",
          "Data Engineering",
          "Data Engineering",
          "Data Engineering",
          "Data Engineering",
          "Data Engineering",
          "Data Engineering",
          "Data Engineering",
          "Data Engineering",
          "Data Engineering",
          "Data Engineering",
          "Data Engineering",
          "Data Engineering",
          "Data Engineering",
          "Data Engineering",
          "Data Engineering",
          "Data Engineering",
          "Data Engineering",
          "Data Engineering",
          "Data Engineering",
          "Data Engineering",
          "Data Engineering",
          "Data Engineering",
          "Data Engineering",
          "Data Engineering",
          "Data Engineering",
          "Data Engineering",
          "Data Engineering",
          "Data Engineering",
          "Data Engineering",
          "Data Engineering",
          "Data Engineering",
          "Data Engineering",
          "Data Engineering",
          "Data Engineering",
          "Data Engineering",
          "Data Engineering",
          "Data Engineering",
          "Data Engineering",
          "Data Engineering",
          "Data Engineering",
          "Data Engineering",
          "Data Engineering",
          "Data Engineering",
          "Data Engineering",
          "Data Engineering",
          "Data Engineering",
          "Data Engineering",
          "Data Engineering",
          "Data Engineering",
          "Data Engineering",
          "Data Engineering",
          "Data Engineering",
          "Data Engineering",
          "Data Engineering",
          "Data Engineering",
          "Data Engineering",
          "Data Engineering",
          "Data Engineering",
          "Data Engineering",
          "Data Engineering",
          "Data Engineering",
          "Data Engineering",
          "Data Engineering",
          "Data Engineering",
          "Data Engineering",
          "Data Engineering",
          "Data Engineering",
          "Data Engineering",
          "Data Engineering",
          "Data Engineering",
          "Data Engineering",
          "Data Engineering",
          "Data Engineering",
          "Data Engineering",
          "Data Engineering",
          "Data Engineering",
          "Data Engineering",
          "Data Engineering",
          "Data Engineering",
          "Data Engineering",
          "Data Engineering",
          "Data Engineering",
          "Data Engineering",
          "Data Engineering",
          "Data Engineering",
          "Data Engineering",
          "Data Engineering",
          "Data Engineering",
          "Data Engineering",
          "Data Engineering",
          "Data Engineering",
          "Data Engineering",
          "Data Engineering",
          "Data Engineering",
          "Data Engineering",
          "Data Engineering",
          "Data Engineering",
          "Data Engineering",
          "Data Engineering",
          "Data Engineering",
          "Data Engineering",
          "Data Engineering",
          "Data Engineering",
          "Data Engineering",
          "Data Engineering",
          "Data Engineering",
          "Data Engineering",
          "Data Engineering",
          "Data Engineering",
          "Data Engineering",
          "Data Engineering",
          "Data Engineering",
          "Data Engineering",
          "Data Engineering",
          "Data Engineering",
          "Data Engineering",
          "Data Engineering",
          "Data Engineering",
          "Data Engineering",
          "Data Engineering",
          "Data Engineering",
          "Data Engineering",
          "Data Engineering",
          "Data Engineering",
          "Data Engineering",
          "Data Engineering",
          "Data Engineering",
          "Data Engineering",
          "Data Engineering",
          "Data Engineering",
          "Data Engineering",
          "Data Engineering",
          "Data Engineering",
          "Data Engineering",
          "Data Engineering",
          "Data Engineering",
          "Data Engineering",
          "Data Engineering",
          "Data Engineering",
          "Data Engineering",
          "Data Engineering",
          "Data Engineering",
          "Data Engineering",
          "Data Engineering",
          "Data Engineering",
          "Data Engineering",
          "Data Engineering",
          "Data Engineering",
          "Data Engineering",
          "Data Engineering",
          "Data Engineering",
          "Data Engineering",
          "Data Engineering",
          "Data Engineering",
          "Data Engineering",
          "Data Engineering",
          "Data Engineering",
          "Data Engineering",
          "Data Engineering",
          "Data Engineering",
          "Data Engineering",
          "Data Engineering",
          "Data Engineering",
          "Data Engineering",
          "Data Engineering",
          "Data Engineering",
          "Data Engineering",
          "Data Engineering",
          "Data Engineering",
          "Data Engineering",
          "Data Engineering",
          "Data Engineering",
          "Data Engineering",
          "Data Engineering",
          "Data Engineering",
          "Data Engineering",
          "Data Engineering",
          "Data Engineering",
          "Data Engineering",
          "Data Engineering",
          "Data Engineering",
          "Data Engineering",
          "Data Engineering",
          "Data Engineering",
          "Data Engineering",
          "Data Engineering",
          "Data Engineering",
          "Data Engineering",
          "Data Engineering",
          "Data Engineering",
          "Data Engineering",
          "Data Engineering",
          "Data Engineering",
          "Data Engineering",
          "Data Engineering",
          "Data Engineering",
          "Data Engineering",
          "Data Engineering",
          "Data Engineering",
          "Data Engineering",
          "Data Engineering",
          "Data Engineering",
          "Data Engineering",
          "Data Engineering",
          "Data Engineering",
          "Data Engineering",
          "Data Engineering",
          "Data Engineering",
          "Data Engineering",
          "Data Engineering",
          "Data Engineering",
          "Data Engineering",
          "Data Engineering",
          "Data Engineering",
          "Data Engineering",
          "Data Engineering",
          "Data Engineering",
          "Data Engineering",
          "Data Engineering",
          "Data Engineering",
          "Data Engineering",
          "Data Engineering",
          "Data Engineering",
          "Data Engineering",
          "Data Engineering",
          "Data Engineering",
          "Data Engineering",
          "Data Engineering",
          "Data Engineering",
          "Data Engineering",
          "Data Engineering",
          "Data Engineering",
          "Data Engineering",
          "Data Engineering",
          "Data Engineering",
          "Data Engineering",
          "Data Engineering",
          "Data Engineering",
          "Data Engineering",
          "Data Engineering",
          "Data Engineering",
          "Data Engineering",
          "Data Engineering",
          "Data Engineering",
          "Data Engineering",
          "Data Engineering",
          "Data Engineering",
          "Data Engineering",
          "Data Engineering",
          "Data Engineering",
          "Data Engineering",
          "Data Engineering",
          "Data Engineering",
          "Data Engineering",
          "Data Engineering",
          "Data Engineering",
          "Data Engineering",
          "Data Engineering",
          "Data Engineering",
          "Data Engineering",
          "Data Engineering",
          "Data Engineering",
          "Data Engineering",
          "Data Engineering",
          "Data Engineering",
          "Data Engineering",
          "Data Engineering",
          "Data Engineering",
          "Data Engineering",
          "Data Engineering",
          "Data Engineering",
          "Data Engineering",
          "Data Engineering",
          "Data Engineering",
          "Data Engineering",
          "Data Engineering",
          "Data Engineering",
          "Data Engineering",
          "Data Engineering",
          "Data Engineering",
          "Data Engineering",
          "Data Engineering",
          "Data Engineering",
          "Data Engineering",
          "Data Engineering",
          "Data Engineering",
          "Data Engineering",
          "Data Engineering",
          "Data Engineering",
          "Data Engineering",
          "Data Engineering",
          "Data Engineering",
          "Data Engineering",
          "Data Engineering",
          "Data Engineering",
          "Data Engineering",
          "Data Engineering",
          "Data Engineering",
          "Data Engineering",
          "Data Engineering",
          "Data Engineering",
          "Data Engineering",
          "Data Engineering",
          "Data Engineering",
          "Data Engineering",
          "Data Engineering",
          "Data Engineering",
          "Data Engineering",
          "Data Engineering",
          "Data Engineering",
          "Data Engineering",
          "Data Engineering",
          "Data Engineering",
          "Data Engineering",
          "Data Engineering",
          "Data Engineering",
          "Data Engineering",
          "Data Engineering",
          "Data Engineering",
          "Data Engineering",
          "Data Engineering",
          "Data Engineering",
          "Data Engineering",
          "Data Engineering",
          "Data Engineering",
          "Data Engineering",
          "Data Engineering",
          "Data Engineering",
          "Data Engineering",
          "Data Engineering",
          "Data Engineering",
          "Data Engineering",
          "Data Engineering",
          "Data Engineering",
          "Data Engineering",
          "Data Engineering",
          "Data Engineering",
          "Data Engineering",
          "Data Engineering",
          "Data Engineering",
          "Data Engineering",
          "Data Engineering",
          "Data Engineering",
          "Data Engineering",
          "Data Engineering",
          "Data Engineering",
          "Data Engineering",
          "Data Engineering",
          "Data Engineering",
          "Data Engineering",
          "Data Engineering",
          "Data Engineering",
          "Data Engineering",
          "Data Engineering",
          "Data Engineering",
          "Data Engineering",
          "Data Engineering",
          "Data Engineering",
          "Data Engineering",
          "Data Engineering",
          "Data Engineering",
          "Data Engineering",
          "Data Engineering",
          "Data Engineering",
          "Data Engineering",
          "Data Engineering",
          "Data Engineering",
          "Data Engineering",
          "Data Engineering",
          "Data Engineering",
          "Data Engineering",
          "Data Engineering",
          "Data Engineering",
          "Data Engineering",
          "Data Engineering",
          "Data Engineering",
          "Data Engineering",
          "Data Engineering",
          "Data Engineering",
          "Data Engineering",
          "Data Engineering",
          "Data Engineering",
          "Data Engineering",
          "Data Engineering",
          "Data Engineering",
          "Data Engineering",
          "Data Engineering",
          "Data Engineering",
          "Data Engineering",
          "Data Engineering",
          "Data Engineering",
          "Data Engineering",
          "Data Engineering",
          "Data Engineering",
          "Data Engineering",
          "Data Engineering",
          "Data Engineering",
          "Data Engineering",
          "Data Engineering",
          "Data Engineering",
          "Data Engineering",
          "Data Engineering",
          "Data Engineering",
          "Data Engineering",
          "Data Engineering",
          "Data Engineering",
          "Data Engineering",
          "Data Engineering",
          "Data Engineering",
          "Data Engineering",
          "Data Engineering",
          "Data Engineering",
          "Data Engineering",
          "Data Engineering",
          "Data Engineering",
          "Data Engineering",
          "Data Engineering",
          "Data Engineering",
          "Data Engineering",
          "Data Engineering",
          "Data Engineering",
          "Data Engineering",
          "Data Engineering",
          "Data Engineering",
          "Data Engineering",
          "Data Engineering",
          "Data Engineering",
          "Data Engineering",
          "Data Engineering",
          "Data Engineering",
          "Data Engineering",
          "Data Engineering",
          "Data Engineering",
          "Data Engineering",
          "Data Engineering",
          "Data Engineering",
          "Data Engineering",
          "Data Engineering",
          "Data Engineering",
          "Data Engineering",
          "Data Engineering",
          "Data Engineering",
          "Data Engineering",
          "Data Engineering",
          "Data Engineering",
          "Data Engineering",
          "Data Engineering",
          "Data Engineering",
          "Data Engineering",
          "Data Engineering",
          "Data Engineering",
          "Data Engineering",
          "Data Engineering",
          "Data Engineering",
          "Data Engineering",
          "Data Engineering",
          "Data Engineering",
          "Data Engineering",
          "Data Engineering",
          "Data Engineering",
          "Data Engineering",
          "Data Engineering",
          "Data Engineering",
          "Data Engineering",
          "Data Engineering",
          "Data Engineering",
          "Data Engineering",
          "Data Engineering",
          "Data Engineering",
          "Data Engineering",
          "Data Engineering",
          "Data Engineering",
          "Data Engineering",
          "Data Engineering",
          "Data Engineering",
          "Data Engineering",
          "Data Engineering",
          "Data Engineering",
          "Data Engineering",
          "Data Engineering",
          "Data Engineering",
          "Data Engineering",
          "Data Engineering",
          "Data Engineering",
          "Data Engineering",
          "Data Engineering",
          "Data Engineering",
          "Data Engineering",
          "Data Engineering",
          "Data Engineering",
          "Data Engineering",
          "Data Engineering",
          "Data Engineering",
          "Data Engineering",
          "Data Engineering",
          "Data Engineering",
          "Data Engineering",
          "Data Engineering",
          "Data Engineering",
          "Data Engineering",
          "Data Engineering",
          "Data Engineering",
          "Data Engineering",
          "Data Engineering",
          "Data Engineering",
          "Data Engineering",
          "Data Engineering",
          "Data Engineering",
          "Data Engineering",
          "Data Engineering",
          "Data Engineering",
          "Data Engineering",
          "Data Engineering",
          "Data Engineering",
          "Data Engineering",
          "Data Engineering",
          "Data Engineering",
          "Data Engineering",
          "Data Engineering",
          "Data Engineering",
          "Data Engineering",
          "Data Engineering",
          "Data Engineering",
          "Data Engineering",
          "Data Engineering",
          "Data Engineering",
          "Data Engineering",
          "Data Engineering",
          "Data Engineering",
          "Data Engineering",
          "Data Engineering",
          "Data Engineering",
          "Data Engineering",
          "Data Engineering",
          "Data Engineering",
          "Data Engineering",
          "Data Engineering",
          "Data Engineering",
          "Data Engineering",
          "Data Engineering",
          "Data Engineering",
          "Data Engineering",
          "Data Engineering",
          "Data Engineering",
          "Data Engineering",
          "Data Engineering",
          "Data Engineering",
          "Data Engineering",
          "Data Engineering",
          "Data Engineering",
          "Data Engineering",
          "Data Engineering",
          "Data Engineering",
          "Data Engineering",
          "Data Engineering",
          "Data Engineering",
          "Data Engineering",
          "Data Engineering",
          "Data Engineering",
          "Data Engineering",
          "Data Engineering",
          "Data Engineering",
          "Data Engineering",
          "Data Engineering",
          "Data Engineering",
          "Data Engineering",
          "Data Engineering",
          "Data Engineering",
          "Data Engineering",
          "Data Engineering",
          "Data Engineering",
          "Data Engineering",
          "Data Engineering",
          "Data Engineering",
          "Data Engineering",
          "Data Engineering",
          "Data Engineering",
          "Data Engineering",
          "Data Engineering",
          "Data Engineering",
          "Data Engineering",
          "Data Engineering",
          "Data Engineering",
          "Data Engineering",
          "Data Engineering",
          "Data Engineering",
          "Data Engineering",
          "Data Engineering",
          "Data Engineering",
          "Data Engineering",
          "Data Engineering",
          "Data Engineering",
          "Data Engineering",
          "Data Engineering",
          "Data Engineering",
          "Data Engineering",
          "Data Engineering",
          "Data Engineering",
          "Data Engineering",
          "Data Engineering",
          "Data Engineering",
          "Data Engineering",
          "Data Engineering",
          "Data Engineering",
          "Data Engineering",
          "Data Engineering",
          "Data Engineering",
          "Data Engineering",
          "Data Engineering",
          "Data Engineering",
          "Data Engineering",
          "Data Engineering",
          "Data Engineering",
          "Data Engineering",
          "Data Engineering",
          "Data Engineering",
          "Data Engineering",
          "Data Engineering",
          "Data Engineering",
          "Data Engineering",
          "Data Engineering",
          "Data Engineering",
          "Data Engineering",
          "Data Engineering",
          "Data Engineering",
          "Data Engineering",
          "Data Engineering",
          "Data Engineering",
          "Data Engineering",
          "Data Engineering",
          "Data Engineering",
          "Data Engineering",
          "Data Engineering",
          "Data Engineering",
          "Data Engineering",
          "Data Engineering",
          "Data Engineering",
          "Data Engineering",
          "Data Engineering",
          "Data Engineering",
          "Data Engineering",
          "Data Engineering",
          "Data Engineering",
          "Data Engineering",
          "Data Engineering",
          "Data Engineering",
          "Data Engineering",
          "Data Engineering",
          "Data Engineering",
          "Data Engineering",
          "Data Engineering",
          "Data Engineering",
          "Data Engineering",
          "Data Engineering",
          "Data Engineering",
          "Data Engineering",
          "Data Engineering",
          "Data Engineering",
          "Data Engineering",
          "Data Engineering",
          "Data Engineering",
          "Data Engineering",
          "Data Engineering",
          "Data Engineering",
          "Data Engineering",
          "Data Engineering",
          "Data Engineering",
          "Data Engineering",
          "Data Engineering",
          "Data Engineering",
          "Data Engineering",
          "Data Engineering",
          "Data Engineering",
          "Data Engineering",
          "Data Engineering",
          "Data Engineering",
          "Data Engineering",
          "Data Engineering",
          "Data Engineering",
          "Data Engineering",
          "Data Engineering",
          "Data Engineering",
          "Data Engineering",
          "Data Engineering",
          "Data Engineering",
          "Data Engineering",
          "Data Engineering",
          "Data Engineering",
          "Data Engineering",
          "Data Engineering",
          "Data Engineering",
          "Data Engineering",
          "Data Engineering",
          "Data Engineering",
          "Data Engineering",
          "Data Engineering",
          "Data Engineering",
          "Data Engineering",
          "Data Engineering",
          "Data Engineering",
          "Data Engineering",
          "Data Engineering",
          "Data Engineering",
          "Data Engineering",
          "Data Engineering",
          "Data Engineering",
          "Data Engineering",
          "Data Engineering",
          "Data Engineering",
          "Data Engineering",
          "Data Engineering",
          "Data Engineering",
          "Data Engineering",
          "Data Engineering",
          "Data Engineering",
          "Data Engineering",
          "Data Engineering",
          "Data Engineering",
          "Data Engineering",
          "Data Engineering",
          "Data Engineering",
          "Data Engineering",
          "Data Engineering",
          "Data Engineering",
          "Data Engineering",
          "Data Engineering",
          "Data Engineering",
          "Data Engineering",
          "Data Engineering",
          "Data Engineering",
          "Data Engineering",
          "Data Engineering",
          "Data Engineering",
          "Data Engineering",
          "Data Engineering",
          "Data Engineering",
          "Data Engineering",
          "Data Engineering",
          "Data Engineering",
          "Data Engineering",
          "Data Engineering",
          "Data Engineering",
          "Data Engineering",
          "Data Engineering",
          "Data Engineering",
          "Data Engineering",
          "Data Engineering",
          "Data Engineering",
          "Data Engineering",
          "Data Engineering",
          "Data Engineering",
          "Data Engineering",
          "Data Engineering",
          "Data Engineering",
          "Data Engineering",
          "Data Engineering",
          "Data Engineering",
          "Data Engineering",
          "Data Engineering",
          "Data Engineering",
          "Data Engineering",
          "Data Engineering",
          "Data Engineering",
          "Data Engineering",
          "Data Engineering"
         ],
         "y0": " ",
         "yaxis": "y"
        },
        {
         "alignmentgroup": "True",
         "hovertemplate": "job_title=%{y}<br>salary_in_usd=%{x}<extra></extra>",
         "legendgroup": "Other",
         "marker": {
          "color": "#FF6692"
         },
         "name": "Other",
         "notched": false,
         "offsetgroup": "Other",
         "orientation": "h",
         "showlegend": true,
         "type": "box",
         "x": [
          100000,
          53654,
          100000,
          80000,
          100000,
          80000,
          130000,
          80000,
          134000,
          124000,
          7000,
          130000,
          72200,
          64980,
          135000,
          100000,
          160000,
          100000,
          140000,
          110000,
          197000,
          106000,
          225000,
          200000,
          140000,
          110000,
          140000,
          120000,
          134000,
          124000,
          110000,
          70000,
          110000,
          70000,
          165000,
          135000,
          45555,
          123000,
          92250,
          105000,
          81000,
          66000,
          95000,
          70000,
          221300,
          148700,
          165000
         ],
         "x0": " ",
         "xaxis": "x",
         "y": [
          "Other",
          "Other",
          "Other",
          "Other",
          "Other",
          "Other",
          "Other",
          "Other",
          "Other",
          "Other",
          "Other",
          "Other",
          "Other",
          "Other",
          "Other",
          "Other",
          "Other",
          "Other",
          "Other",
          "Other",
          "Other",
          "Other",
          "Other",
          "Other",
          "Other",
          "Other",
          "Other",
          "Other",
          "Other",
          "Other",
          "Other",
          "Other",
          "Other",
          "Other",
          "Other",
          "Other",
          "Other",
          "Other",
          "Other",
          "Other",
          "Other",
          "Other",
          "Other",
          "Other",
          "Other",
          "Other",
          "Other"
         ],
         "y0": " ",
         "yaxis": "y"
        }
       ],
       "layout": {
        "boxmode": "overlay",
        "height": 600,
        "legend": {
         "title": {
          "text": "job_title"
         },
         "tracegroupgap": 0
        },
        "template": {
         "data": {
          "bar": [
           {
            "error_x": {
             "color": "#2a3f5f"
            },
            "error_y": {
             "color": "#2a3f5f"
            },
            "marker": {
             "line": {
              "color": "#E5ECF6",
              "width": 0.5
             },
             "pattern": {
              "fillmode": "overlay",
              "size": 10,
              "solidity": 0.2
             }
            },
            "type": "bar"
           }
          ],
          "barpolar": [
           {
            "marker": {
             "line": {
              "color": "#E5ECF6",
              "width": 0.5
             },
             "pattern": {
              "fillmode": "overlay",
              "size": 10,
              "solidity": 0.2
             }
            },
            "type": "barpolar"
           }
          ],
          "carpet": [
           {
            "aaxis": {
             "endlinecolor": "#2a3f5f",
             "gridcolor": "white",
             "linecolor": "white",
             "minorgridcolor": "white",
             "startlinecolor": "#2a3f5f"
            },
            "baxis": {
             "endlinecolor": "#2a3f5f",
             "gridcolor": "white",
             "linecolor": "white",
             "minorgridcolor": "white",
             "startlinecolor": "#2a3f5f"
            },
            "type": "carpet"
           }
          ],
          "choropleth": [
           {
            "colorbar": {
             "outlinewidth": 0,
             "ticks": ""
            },
            "type": "choropleth"
           }
          ],
          "contour": [
           {
            "colorbar": {
             "outlinewidth": 0,
             "ticks": ""
            },
            "colorscale": [
             [
              0,
              "#0d0887"
             ],
             [
              0.1111111111111111,
              "#46039f"
             ],
             [
              0.2222222222222222,
              "#7201a8"
             ],
             [
              0.3333333333333333,
              "#9c179e"
             ],
             [
              0.4444444444444444,
              "#bd3786"
             ],
             [
              0.5555555555555556,
              "#d8576b"
             ],
             [
              0.6666666666666666,
              "#ed7953"
             ],
             [
              0.7777777777777778,
              "#fb9f3a"
             ],
             [
              0.8888888888888888,
              "#fdca26"
             ],
             [
              1,
              "#f0f921"
             ]
            ],
            "type": "contour"
           }
          ],
          "contourcarpet": [
           {
            "colorbar": {
             "outlinewidth": 0,
             "ticks": ""
            },
            "type": "contourcarpet"
           }
          ],
          "heatmap": [
           {
            "colorbar": {
             "outlinewidth": 0,
             "ticks": ""
            },
            "colorscale": [
             [
              0,
              "#0d0887"
             ],
             [
              0.1111111111111111,
              "#46039f"
             ],
             [
              0.2222222222222222,
              "#7201a8"
             ],
             [
              0.3333333333333333,
              "#9c179e"
             ],
             [
              0.4444444444444444,
              "#bd3786"
             ],
             [
              0.5555555555555556,
              "#d8576b"
             ],
             [
              0.6666666666666666,
              "#ed7953"
             ],
             [
              0.7777777777777778,
              "#fb9f3a"
             ],
             [
              0.8888888888888888,
              "#fdca26"
             ],
             [
              1,
              "#f0f921"
             ]
            ],
            "type": "heatmap"
           }
          ],
          "heatmapgl": [
           {
            "colorbar": {
             "outlinewidth": 0,
             "ticks": ""
            },
            "colorscale": [
             [
              0,
              "#0d0887"
             ],
             [
              0.1111111111111111,
              "#46039f"
             ],
             [
              0.2222222222222222,
              "#7201a8"
             ],
             [
              0.3333333333333333,
              "#9c179e"
             ],
             [
              0.4444444444444444,
              "#bd3786"
             ],
             [
              0.5555555555555556,
              "#d8576b"
             ],
             [
              0.6666666666666666,
              "#ed7953"
             ],
             [
              0.7777777777777778,
              "#fb9f3a"
             ],
             [
              0.8888888888888888,
              "#fdca26"
             ],
             [
              1,
              "#f0f921"
             ]
            ],
            "type": "heatmapgl"
           }
          ],
          "histogram": [
           {
            "marker": {
             "pattern": {
              "fillmode": "overlay",
              "size": 10,
              "solidity": 0.2
             }
            },
            "type": "histogram"
           }
          ],
          "histogram2d": [
           {
            "colorbar": {
             "outlinewidth": 0,
             "ticks": ""
            },
            "colorscale": [
             [
              0,
              "#0d0887"
             ],
             [
              0.1111111111111111,
              "#46039f"
             ],
             [
              0.2222222222222222,
              "#7201a8"
             ],
             [
              0.3333333333333333,
              "#9c179e"
             ],
             [
              0.4444444444444444,
              "#bd3786"
             ],
             [
              0.5555555555555556,
              "#d8576b"
             ],
             [
              0.6666666666666666,
              "#ed7953"
             ],
             [
              0.7777777777777778,
              "#fb9f3a"
             ],
             [
              0.8888888888888888,
              "#fdca26"
             ],
             [
              1,
              "#f0f921"
             ]
            ],
            "type": "histogram2d"
           }
          ],
          "histogram2dcontour": [
           {
            "colorbar": {
             "outlinewidth": 0,
             "ticks": ""
            },
            "colorscale": [
             [
              0,
              "#0d0887"
             ],
             [
              0.1111111111111111,
              "#46039f"
             ],
             [
              0.2222222222222222,
              "#7201a8"
             ],
             [
              0.3333333333333333,
              "#9c179e"
             ],
             [
              0.4444444444444444,
              "#bd3786"
             ],
             [
              0.5555555555555556,
              "#d8576b"
             ],
             [
              0.6666666666666666,
              "#ed7953"
             ],
             [
              0.7777777777777778,
              "#fb9f3a"
             ],
             [
              0.8888888888888888,
              "#fdca26"
             ],
             [
              1,
              "#f0f921"
             ]
            ],
            "type": "histogram2dcontour"
           }
          ],
          "mesh3d": [
           {
            "colorbar": {
             "outlinewidth": 0,
             "ticks": ""
            },
            "type": "mesh3d"
           }
          ],
          "parcoords": [
           {
            "line": {
             "colorbar": {
              "outlinewidth": 0,
              "ticks": ""
             }
            },
            "type": "parcoords"
           }
          ],
          "pie": [
           {
            "automargin": true,
            "type": "pie"
           }
          ],
          "scatter": [
           {
            "fillpattern": {
             "fillmode": "overlay",
             "size": 10,
             "solidity": 0.2
            },
            "type": "scatter"
           }
          ],
          "scatter3d": [
           {
            "line": {
             "colorbar": {
              "outlinewidth": 0,
              "ticks": ""
             }
            },
            "marker": {
             "colorbar": {
              "outlinewidth": 0,
              "ticks": ""
             }
            },
            "type": "scatter3d"
           }
          ],
          "scattercarpet": [
           {
            "marker": {
             "colorbar": {
              "outlinewidth": 0,
              "ticks": ""
             }
            },
            "type": "scattercarpet"
           }
          ],
          "scattergeo": [
           {
            "marker": {
             "colorbar": {
              "outlinewidth": 0,
              "ticks": ""
             }
            },
            "type": "scattergeo"
           }
          ],
          "scattergl": [
           {
            "marker": {
             "colorbar": {
              "outlinewidth": 0,
              "ticks": ""
             }
            },
            "type": "scattergl"
           }
          ],
          "scattermapbox": [
           {
            "marker": {
             "colorbar": {
              "outlinewidth": 0,
              "ticks": ""
             }
            },
            "type": "scattermapbox"
           }
          ],
          "scatterpolar": [
           {
            "marker": {
             "colorbar": {
              "outlinewidth": 0,
              "ticks": ""
             }
            },
            "type": "scatterpolar"
           }
          ],
          "scatterpolargl": [
           {
            "marker": {
             "colorbar": {
              "outlinewidth": 0,
              "ticks": ""
             }
            },
            "type": "scatterpolargl"
           }
          ],
          "scatterternary": [
           {
            "marker": {
             "colorbar": {
              "outlinewidth": 0,
              "ticks": ""
             }
            },
            "type": "scatterternary"
           }
          ],
          "surface": [
           {
            "colorbar": {
             "outlinewidth": 0,
             "ticks": ""
            },
            "colorscale": [
             [
              0,
              "#0d0887"
             ],
             [
              0.1111111111111111,
              "#46039f"
             ],
             [
              0.2222222222222222,
              "#7201a8"
             ],
             [
              0.3333333333333333,
              "#9c179e"
             ],
             [
              0.4444444444444444,
              "#bd3786"
             ],
             [
              0.5555555555555556,
              "#d8576b"
             ],
             [
              0.6666666666666666,
              "#ed7953"
             ],
             [
              0.7777777777777778,
              "#fb9f3a"
             ],
             [
              0.8888888888888888,
              "#fdca26"
             ],
             [
              1,
              "#f0f921"
             ]
            ],
            "type": "surface"
           }
          ],
          "table": [
           {
            "cells": {
             "fill": {
              "color": "#EBF0F8"
             },
             "line": {
              "color": "white"
             }
            },
            "header": {
             "fill": {
              "color": "#C8D4E3"
             },
             "line": {
              "color": "white"
             }
            },
            "type": "table"
           }
          ]
         },
         "layout": {
          "annotationdefaults": {
           "arrowcolor": "#2a3f5f",
           "arrowhead": 0,
           "arrowwidth": 1
          },
          "autotypenumbers": "strict",
          "coloraxis": {
           "colorbar": {
            "outlinewidth": 0,
            "ticks": ""
           }
          },
          "colorscale": {
           "diverging": [
            [
             0,
             "#8e0152"
            ],
            [
             0.1,
             "#c51b7d"
            ],
            [
             0.2,
             "#de77ae"
            ],
            [
             0.3,
             "#f1b6da"
            ],
            [
             0.4,
             "#fde0ef"
            ],
            [
             0.5,
             "#f7f7f7"
            ],
            [
             0.6,
             "#e6f5d0"
            ],
            [
             0.7,
             "#b8e186"
            ],
            [
             0.8,
             "#7fbc41"
            ],
            [
             0.9,
             "#4d9221"
            ],
            [
             1,
             "#276419"
            ]
           ],
           "sequential": [
            [
             0,
             "#0d0887"
            ],
            [
             0.1111111111111111,
             "#46039f"
            ],
            [
             0.2222222222222222,
             "#7201a8"
            ],
            [
             0.3333333333333333,
             "#9c179e"
            ],
            [
             0.4444444444444444,
             "#bd3786"
            ],
            [
             0.5555555555555556,
             "#d8576b"
            ],
            [
             0.6666666666666666,
             "#ed7953"
            ],
            [
             0.7777777777777778,
             "#fb9f3a"
            ],
            [
             0.8888888888888888,
             "#fdca26"
            ],
            [
             1,
             "#f0f921"
            ]
           ],
           "sequentialminus": [
            [
             0,
             "#0d0887"
            ],
            [
             0.1111111111111111,
             "#46039f"
            ],
            [
             0.2222222222222222,
             "#7201a8"
            ],
            [
             0.3333333333333333,
             "#9c179e"
            ],
            [
             0.4444444444444444,
             "#bd3786"
            ],
            [
             0.5555555555555556,
             "#d8576b"
            ],
            [
             0.6666666666666666,
             "#ed7953"
            ],
            [
             0.7777777777777778,
             "#fb9f3a"
            ],
            [
             0.8888888888888888,
             "#fdca26"
            ],
            [
             1,
             "#f0f921"
            ]
           ]
          },
          "colorway": [
           "#636efa",
           "#EF553B",
           "#00cc96",
           "#ab63fa",
           "#FFA15A",
           "#19d3f3",
           "#FF6692",
           "#B6E880",
           "#FF97FF",
           "#FECB52"
          ],
          "font": {
           "color": "#2a3f5f"
          },
          "geo": {
           "bgcolor": "white",
           "lakecolor": "white",
           "landcolor": "#E5ECF6",
           "showlakes": true,
           "showland": true,
           "subunitcolor": "white"
          },
          "hoverlabel": {
           "align": "left"
          },
          "hovermode": "closest",
          "mapbox": {
           "style": "light"
          },
          "paper_bgcolor": "white",
          "plot_bgcolor": "#E5ECF6",
          "polar": {
           "angularaxis": {
            "gridcolor": "white",
            "linecolor": "white",
            "ticks": ""
           },
           "bgcolor": "#E5ECF6",
           "radialaxis": {
            "gridcolor": "white",
            "linecolor": "white",
            "ticks": ""
           }
          },
          "scene": {
           "xaxis": {
            "backgroundcolor": "#E5ECF6",
            "gridcolor": "white",
            "gridwidth": 2,
            "linecolor": "white",
            "showbackground": true,
            "ticks": "",
            "zerolinecolor": "white"
           },
           "yaxis": {
            "backgroundcolor": "#E5ECF6",
            "gridcolor": "white",
            "gridwidth": 2,
            "linecolor": "white",
            "showbackground": true,
            "ticks": "",
            "zerolinecolor": "white"
           },
           "zaxis": {
            "backgroundcolor": "#E5ECF6",
            "gridcolor": "white",
            "gridwidth": 2,
            "linecolor": "white",
            "showbackground": true,
            "ticks": "",
            "zerolinecolor": "white"
           }
          },
          "shapedefaults": {
           "line": {
            "color": "#2a3f5f"
           }
          },
          "ternary": {
           "aaxis": {
            "gridcolor": "white",
            "linecolor": "white",
            "ticks": ""
           },
           "baxis": {
            "gridcolor": "white",
            "linecolor": "white",
            "ticks": ""
           },
           "bgcolor": "#E5ECF6",
           "caxis": {
            "gridcolor": "white",
            "linecolor": "white",
            "ticks": ""
           }
          },
          "title": {
           "x": 0.05
          },
          "xaxis": {
           "automargin": true,
           "gridcolor": "white",
           "linecolor": "white",
           "ticks": "",
           "title": {
            "standoff": 15
           },
           "zerolinecolor": "white",
           "zerolinewidth": 2
          },
          "yaxis": {
           "automargin": true,
           "gridcolor": "white",
           "linecolor": "white",
           "ticks": "",
           "title": {
            "standoff": 15
           },
           "zerolinecolor": "white",
           "zerolinewidth": 2
          }
         }
        },
        "title": {
         "text": "Boxplot USD Salary - Job Title"
        },
        "width": 800,
        "xaxis": {
         "anchor": "y",
         "domain": [
          0,
          1
         ],
         "title": {
          "text": "salary_in_usd"
         }
        },
        "yaxis": {
         "anchor": "x",
         "categoryarray": [
          "Other",
          "Data Engineering",
          "Data Architecture",
          "Data Analyst",
          "Data Science",
          "Machine Learning",
          "Top Management"
         ],
         "categoryorder": "array",
         "domain": [
          0,
          1
         ],
         "title": {
          "text": "job_title"
         }
        }
       }
      }
     },
     "metadata": {},
     "output_type": "display_data"
    }
   ],
   "source": [
    "# boxplot analysis usd_salary\n",
    "boxplot = px.box(\n",
    "    df_salary,\n",
    "    y='job_title',\n",
    "    x='salary_in_usd',\n",
    "    color='job_title',\n",
    "    title='Boxplot USD Salary - Job Title',\n",
    "    width=800,\n",
    "    height=600\n",
    "    )\n",
    "boxplot.update_traces(orientation='h')\n",
    "boxplot.show()"
   ]
  },
  {
   "attachments": {},
   "cell_type": "markdown",
   "metadata": {},
   "source": [
    "It turns out that the type of work `Machine Learning` generates the most salary compared to other types of work (excluding `Top Management`). Some of the outliers seem reasonable enough, so we can use the `mean` value for further analysis."
   ]
  },
  {
   "attachments": {},
   "cell_type": "markdown",
   "metadata": {},
   "source": [
    "## Average Salary by Type of Work <a id='Cont15'></a>"
   ]
  },
  {
   "attachments": {},
   "cell_type": "markdown",
   "metadata": {},
   "source": [
    "Next, let's look at the average salary based on the type of work."
   ]
  },
  {
   "cell_type": "code",
   "execution_count": 17,
   "metadata": {},
   "outputs": [
    {
     "data": {
      "image/png": "[encoded data removed]",
      "text/plain": [
       "<Figure size 1000x400 with 2 Axes>"
      ]
     },
     "metadata": {},
     "output_type": "display_data"
    }
   ],
   "source": [
    "# average USD salary distribution among job title\n",
    "pivot_table = df_salary.pivot_table(index='job_title',columns='work_year',values='salary_in_usd',aggfunc='mean')\n",
    "plt.figure(figsize=(10,4))\n",
    "sns.heatmap(pivot_table,annot=True ,fmt='.2f', cmap='viridis')\n",
    "plt.title('Average USD Salary Distribution - Job Title')\n",
    "\n",
    "# show the heatmap\n",
    "plt.show()"
   ]
  },
  {
   "attachments": {},
   "cell_type": "markdown",
   "metadata": {},
   "source": [
    "It can be seen, almost all of the average salary has increased from year to year. The lowest average salary is for `Data Analyst` in `2020` while the highest salary is `Top Management` in `2020`."
   ]
  },
  {
   "attachments": {},
   "cell_type": "markdown",
   "metadata": {},
   "source": [
    "## Average Salary Based on Company Size <a id='Cont16'></a>"
   ]
  },
  {
   "attachments": {},
   "cell_type": "markdown",
   "metadata": {},
   "source": [
    "Next, we will find out the `average salary` based on `company size`."
   ]
  },
  {
   "cell_type": "code",
   "execution_count": 18,
   "metadata": {},
   "outputs": [
    {
     "data": {
      "image/png": "[encoded data removed]",
      "text/plain": [
       "<Figure size 1000x300 with 2 Axes>"
      ]
     },
     "metadata": {},
     "output_type": "display_data"
    }
   ],
   "source": [
    "# average USD salary distribution among size company\n",
    "pivot_table = df_salary.pivot_table(index='company_size',columns='work_year',values='salary_in_usd',aggfunc='mean')\n",
    "plt.figure(figsize=(10,3))\n",
    "sns.heatmap(pivot_table,annot=True ,fmt='.2f', cmap='coolwarm')\n",
    "plt.title('Average USD Salary Distribution - Size Company')\n",
    "\n",
    "# show the heatmap\n",
    "plt.show()"
   ]
  },
  {
   "attachments": {},
   "cell_type": "markdown",
   "metadata": {},
   "source": [
    "On average for each `company size` from year to year the average salary increases. In `2023` for `medium companies` beat the average salary with companies of other sizes."
   ]
  },
  {
   "attachments": {},
   "cell_type": "markdown",
   "metadata": {},
   "source": [
    "## Geospatial Analysis of Average Salary <a id='Cont17'></a>"
   ]
  },
  {
   "attachments": {},
   "cell_type": "markdown",
   "metadata": {},
   "source": [
    "Next we will know the average salary by `country area` and plot it in a `geospatial visualization`."
   ]
  },
  {
   "cell_type": "code",
   "execution_count": 19,
   "metadata": {},
   "outputs": [],
   "source": [
    "# get true name using pycountry\n",
    "def getname(code):\n",
    "    try:\n",
    "        country = pycountry.countries.get(alpha_2=code).name\n",
    "        return country\n",
    "    except:\n",
    "        return None\n",
    "\n",
    "# apply the function to dataset\n",
    "df_salary['company_location'] = df_salary['company_location'].apply(getname)\n",
    "df_salary['employee_residence'] = df_salary['employee_residence'].apply(getname)"
   ]
  },
  {
   "cell_type": "code",
   "execution_count": 20,
   "metadata": {},
   "outputs": [
    {
     "data": {
      "application/vnd.plotly.v1+json": {
       "config": {
        "plotlyServerURL": "https://plot.ly"
       },
       "data": [
        {
         "coloraxis": "coloraxis",
         "geo": "geo",
         "hovertemplate": "company_location=%{location}<br>Average USD Salary=%{z}<extra></extra>",
         "locationmode": "country names",
         "locations": [
          "Albania",
          "Algeria",
          "American Samoa",
          "Argentina",
          "Armenia",
          "Australia",
          "Austria",
          "Bahamas",
          "Belgium",
          "Bolivia, Plurinational State of",
          "Bosnia and Herzegovina",
          "Brazil",
          "Canada",
          "Central African Republic",
          "Chile",
          "China",
          "Colombia",
          "Costa Rica",
          "Croatia",
          "Czechia",
          "Denmark",
          "Egypt",
          "Estonia",
          "Finland",
          "France",
          "Germany",
          "Ghana",
          "Greece",
          "Honduras",
          "Hong Kong",
          "Hungary",
          "India",
          "Indonesia",
          "Iran, Islamic Republic of",
          "Iraq",
          "Ireland",
          "Israel",
          "Italy",
          "Japan",
          "Kenya",
          "Latvia",
          "Lithuania",
          "Luxembourg",
          "Malaysia",
          "Malta",
          "Mexico",
          "Moldova, Republic of",
          "Morocco",
          "Netherlands",
          "New Zealand",
          "Nigeria",
          "North Macedonia",
          "Pakistan",
          "Philippines",
          "Poland",
          "Portugal",
          "Puerto Rico",
          "Romania",
          "Russian Federation",
          "Singapore",
          "Slovakia",
          "Slovenia",
          "Spain",
          "Sweden",
          "Switzerland",
          "Thailand",
          "Turkey",
          "Ukraine",
          "United Arab Emirates",
          "United Kingdom",
          "United States",
          "Viet Nam"
         ],
         "name": "",
         "type": "choropleth",
         "z": [
          10000,
          100000,
          29351,
          25000,
          50000,
          80033.42857142857,
          71354.83333333333,
          45555,
          76864.75,
          7500,
          120000,
          40579.2,
          131917.6896551724,
          48609,
          40038,
          100000,
          64961,
          50000,
          75967.66666666667,
          35200,
          45558,
          22800,
          47416,
          68792.66666666667,
          66138.73529411765,
          88288.80357142857,
          18500,
          51792.5,
          20000,
          65062,
          26709.5,
          30197.741379310344,
          34208,
          100000,
          100000,
          114943.42857142857,
          271446.5,
          41297.75,
          114127.33333333333,
          44636,
          57946.5,
          94812,
          43942.666666666664,
          40000,
          28369,
          97151.1,
          18000,
          10000,
          78738.30769230769,
          125000,
          78000,
          6304,
          20000,
          50000,
          61342.8,
          50538.71428571428,
          167500,
          56827,
          140333.33333333334,
          53675,
          12608,
          62766.75,
          57676.06493506493,
          105000,
          81722,
          23064.333333333332,
          19058,
          57850,
          100000,
          86890.05232558139,
          151822.00953947369,
          12000
         ]
        }
       ],
       "layout": {
        "coloraxis": {
         "colorbar": {
          "title": {
           "text": "Average USD Salary"
          }
         },
         "colorscale": [
          [
           0,
           "#00224e"
          ],
          [
           0.1111111111111111,
           "#123570"
          ],
          [
           0.2222222222222222,
           "#3b496c"
          ],
          [
           0.3333333333333333,
           "#575d6d"
          ],
          [
           0.4444444444444444,
           "#707173"
          ],
          [
           0.5555555555555556,
           "#8a8678"
          ],
          [
           0.6666666666666666,
           "#a59c74"
          ],
          [
           0.7777777777777778,
           "#c3b369"
          ],
          [
           0.8888888888888888,
           "#e1cc55"
          ],
          [
           1,
           "#fee838"
          ]
         ]
        },
        "geo": {
         "center": {},
         "domain": {
          "x": [
           0,
           1
          ],
          "y": [
           0,
           1
          ]
         }
        },
        "height": 500,
        "legend": {
         "tracegroupgap": 0
        },
        "template": {
         "data": {
          "bar": [
           {
            "error_x": {
             "color": "#2a3f5f"
            },
            "error_y": {
             "color": "#2a3f5f"
            },
            "marker": {
             "line": {
              "color": "#E5ECF6",
              "width": 0.5
             },
             "pattern": {
              "fillmode": "overlay",
              "size": 10,
              "solidity": 0.2
             }
            },
            "type": "bar"
           }
          ],
          "barpolar": [
           {
            "marker": {
             "line": {
              "color": "#E5ECF6",
              "width": 0.5
             },
             "pattern": {
              "fillmode": "overlay",
              "size": 10,
              "solidity": 0.2
             }
            },
            "type": "barpolar"
           }
          ],
          "carpet": [
           {
            "aaxis": {
             "endlinecolor": "#2a3f5f",
             "gridcolor": "white",
             "linecolor": "white",
             "minorgridcolor": "white",
             "startlinecolor": "#2a3f5f"
            },
            "baxis": {
             "endlinecolor": "#2a3f5f",
             "gridcolor": "white",
             "linecolor": "white",
             "minorgridcolor": "white",
             "startlinecolor": "#2a3f5f"
            },
            "type": "carpet"
           }
          ],
          "choropleth": [
           {
            "colorbar": {
             "outlinewidth": 0,
             "ticks": ""
            },
            "type": "choropleth"
           }
          ],
          "contour": [
           {
            "colorbar": {
             "outlinewidth": 0,
             "ticks": ""
            },
            "colorscale": [
             [
              0,
              "#0d0887"
             ],
             [
              0.1111111111111111,
              "#46039f"
             ],
             [
              0.2222222222222222,
              "#7201a8"
             ],
             [
              0.3333333333333333,
              "#9c179e"
             ],
             [
              0.4444444444444444,
              "#bd3786"
             ],
             [
              0.5555555555555556,
              "#d8576b"
             ],
             [
              0.6666666666666666,
              "#ed7953"
             ],
             [
              0.7777777777777778,
              "#fb9f3a"
             ],
             [
              0.8888888888888888,
              "#fdca26"
             ],
             [
              1,
              "#f0f921"
             ]
            ],
            "type": "contour"
           }
          ],
          "contourcarpet": [
           {
            "colorbar": {
             "outlinewidth": 0,
             "ticks": ""
            },
            "type": "contourcarpet"
           }
          ],
          "heatmap": [
           {
            "colorbar": {
             "outlinewidth": 0,
             "ticks": ""
            },
            "colorscale": [
             [
              0,
              "#0d0887"
             ],
             [
              0.1111111111111111,
              "#46039f"
             ],
             [
              0.2222222222222222,
              "#7201a8"
             ],
             [
              0.3333333333333333,
              "#9c179e"
             ],
             [
              0.4444444444444444,
              "#bd3786"
             ],
             [
              0.5555555555555556,
              "#d8576b"
             ],
             [
              0.6666666666666666,
              "#ed7953"
             ],
             [
              0.7777777777777778,
              "#fb9f3a"
             ],
             [
              0.8888888888888888,
              "#fdca26"
             ],
             [
              1,
              "#f0f921"
             ]
            ],
            "type": "heatmap"
           }
          ],
          "heatmapgl": [
           {
            "colorbar": {
             "outlinewidth": 0,
             "ticks": ""
            },
            "colorscale": [
             [
              0,
              "#0d0887"
             ],
             [
              0.1111111111111111,
              "#46039f"
             ],
             [
              0.2222222222222222,
              "#7201a8"
             ],
             [
              0.3333333333333333,
              "#9c179e"
             ],
             [
              0.4444444444444444,
              "#bd3786"
             ],
             [
              0.5555555555555556,
              "#d8576b"
             ],
             [
              0.6666666666666666,
              "#ed7953"
             ],
             [
              0.7777777777777778,
              "#fb9f3a"
             ],
             [
              0.8888888888888888,
              "#fdca26"
             ],
             [
              1,
              "#f0f921"
             ]
            ],
            "type": "heatmapgl"
           }
          ],
          "histogram": [
           {
            "marker": {
             "pattern": {
              "fillmode": "overlay",
              "size": 10,
              "solidity": 0.2
             }
            },
            "type": "histogram"
           }
          ],
          "histogram2d": [
           {
            "colorbar": {
             "outlinewidth": 0,
             "ticks": ""
            },
            "colorscale": [
             [
              0,
              "#0d0887"
             ],
             [
              0.1111111111111111,
              "#46039f"
             ],
             [
              0.2222222222222222,
              "#7201a8"
             ],
             [
              0.3333333333333333,
              "#9c179e"
             ],
             [
              0.4444444444444444,
              "#bd3786"
             ],
             [
              0.5555555555555556,
              "#d8576b"
             ],
             [
              0.6666666666666666,
              "#ed7953"
             ],
             [
              0.7777777777777778,
              "#fb9f3a"
             ],
             [
              0.8888888888888888,
              "#fdca26"
             ],
             [
              1,
              "#f0f921"
             ]
            ],
            "type": "histogram2d"
           }
          ],
          "histogram2dcontour": [
           {
            "colorbar": {
             "outlinewidth": 0,
             "ticks": ""
            },
            "colorscale": [
             [
              0,
              "#0d0887"
             ],
             [
              0.1111111111111111,
              "#46039f"
             ],
             [
              0.2222222222222222,
              "#7201a8"
             ],
             [
              0.3333333333333333,
              "#9c179e"
             ],
             [
              0.4444444444444444,
              "#bd3786"
             ],
             [
              0.5555555555555556,
              "#d8576b"
             ],
             [
              0.6666666666666666,
              "#ed7953"
             ],
             [
              0.7777777777777778,
              "#fb9f3a"
             ],
             [
              0.8888888888888888,
              "#fdca26"
             ],
             [
              1,
              "#f0f921"
             ]
            ],
            "type": "histogram2dcontour"
           }
          ],
          "mesh3d": [
           {
            "colorbar": {
             "outlinewidth": 0,
             "ticks": ""
            },
            "type": "mesh3d"
           }
          ],
          "parcoords": [
           {
            "line": {
             "colorbar": {
              "outlinewidth": 0,
              "ticks": ""
             }
            },
            "type": "parcoords"
           }
          ],
          "pie": [
           {
            "automargin": true,
            "type": "pie"
           }
          ],
          "scatter": [
           {
            "fillpattern": {
             "fillmode": "overlay",
             "size": 10,
             "solidity": 0.2
            },
            "type": "scatter"
           }
          ],
          "scatter3d": [
           {
            "line": {
             "colorbar": {
              "outlinewidth": 0,
              "ticks": ""
             }
            },
            "marker": {
             "colorbar": {
              "outlinewidth": 0,
              "ticks": ""
             }
            },
            "type": "scatter3d"
           }
          ],
          "scattercarpet": [
           {
            "marker": {
             "colorbar": {
              "outlinewidth": 0,
              "ticks": ""
             }
            },
            "type": "scattercarpet"
           }
          ],
          "scattergeo": [
           {
            "marker": {
             "colorbar": {
              "outlinewidth": 0,
              "ticks": ""
             }
            },
            "type": "scattergeo"
           }
          ],
          "scattergl": [
           {
            "marker": {
             "colorbar": {
              "outlinewidth": 0,
              "ticks": ""
             }
            },
            "type": "scattergl"
           }
          ],
          "scattermapbox": [
           {
            "marker": {
             "colorbar": {
              "outlinewidth": 0,
              "ticks": ""
             }
            },
            "type": "scattermapbox"
           }
          ],
          "scatterpolar": [
           {
            "marker": {
             "colorbar": {
              "outlinewidth": 0,
              "ticks": ""
             }
            },
            "type": "scatterpolar"
           }
          ],
          "scatterpolargl": [
           {
            "marker": {
             "colorbar": {
              "outlinewidth": 0,
              "ticks": ""
             }
            },
            "type": "scatterpolargl"
           }
          ],
          "scatterternary": [
           {
            "marker": {
             "colorbar": {
              "outlinewidth": 0,
              "ticks": ""
             }
            },
            "type": "scatterternary"
           }
          ],
          "surface": [
           {
            "colorbar": {
             "outlinewidth": 0,
             "ticks": ""
            },
            "colorscale": [
             [
              0,
              "#0d0887"
             ],
             [
              0.1111111111111111,
              "#46039f"
             ],
             [
              0.2222222222222222,
              "#7201a8"
             ],
             [
              0.3333333333333333,
              "#9c179e"
             ],
             [
              0.4444444444444444,
              "#bd3786"
             ],
             [
              0.5555555555555556,
              "#d8576b"
             ],
             [
              0.6666666666666666,
              "#ed7953"
             ],
             [
              0.7777777777777778,
              "#fb9f3a"
             ],
             [
              0.8888888888888888,
              "#fdca26"
             ],
             [
              1,
              "#f0f921"
             ]
            ],
            "type": "surface"
           }
          ],
          "table": [
           {
            "cells": {
             "fill": {
              "color": "#EBF0F8"
             },
             "line": {
              "color": "white"
             }
            },
            "header": {
             "fill": {
              "color": "#C8D4E3"
             },
             "line": {
              "color": "white"
             }
            },
            "type": "table"
           }
          ]
         },
         "layout": {
          "annotationdefaults": {
           "arrowcolor": "#2a3f5f",
           "arrowhead": 0,
           "arrowwidth": 1
          },
          "autotypenumbers": "strict",
          "coloraxis": {
           "colorbar": {
            "outlinewidth": 0,
            "ticks": ""
           }
          },
          "colorscale": {
           "diverging": [
            [
             0,
             "#8e0152"
            ],
            [
             0.1,
             "#c51b7d"
            ],
            [
             0.2,
             "#de77ae"
            ],
            [
             0.3,
             "#f1b6da"
            ],
            [
             0.4,
             "#fde0ef"
            ],
            [
             0.5,
             "#f7f7f7"
            ],
            [
             0.6,
             "#e6f5d0"
            ],
            [
             0.7,
             "#b8e186"
            ],
            [
             0.8,
             "#7fbc41"
            ],
            [
             0.9,
             "#4d9221"
            ],
            [
             1,
             "#276419"
            ]
           ],
           "sequential": [
            [
             0,
             "#0d0887"
            ],
            [
             0.1111111111111111,
             "#46039f"
            ],
            [
             0.2222222222222222,
             "#7201a8"
            ],
            [
             0.3333333333333333,
             "#9c179e"
            ],
            [
             0.4444444444444444,
             "#bd3786"
            ],
            [
             0.5555555555555556,
             "#d8576b"
            ],
            [
             0.6666666666666666,
             "#ed7953"
            ],
            [
             0.7777777777777778,
             "#fb9f3a"
            ],
            [
             0.8888888888888888,
             "#fdca26"
            ],
            [
             1,
             "#f0f921"
            ]
           ],
           "sequentialminus": [
            [
             0,
             "#0d0887"
            ],
            [
             0.1111111111111111,
             "#46039f"
            ],
            [
             0.2222222222222222,
             "#7201a8"
            ],
            [
             0.3333333333333333,
             "#9c179e"
            ],
            [
             0.4444444444444444,
             "#bd3786"
            ],
            [
             0.5555555555555556,
             "#d8576b"
            ],
            [
             0.6666666666666666,
             "#ed7953"
            ],
            [
             0.7777777777777778,
             "#fb9f3a"
            ],
            [
             0.8888888888888888,
             "#fdca26"
            ],
            [
             1,
             "#f0f921"
            ]
           ]
          },
          "colorway": [
           "#636efa",
           "#EF553B",
           "#00cc96",
           "#ab63fa",
           "#FFA15A",
           "#19d3f3",
           "#FF6692",
           "#B6E880",
           "#FF97FF",
           "#FECB52"
          ],
          "font": {
           "color": "#2a3f5f"
          },
          "geo": {
           "bgcolor": "white",
           "lakecolor": "white",
           "landcolor": "#E5ECF6",
           "showlakes": true,
           "showland": true,
           "subunitcolor": "white"
          },
          "hoverlabel": {
           "align": "left"
          },
          "hovermode": "closest",
          "mapbox": {
           "style": "light"
          },
          "paper_bgcolor": "white",
          "plot_bgcolor": "#E5ECF6",
          "polar": {
           "angularaxis": {
            "gridcolor": "white",
            "linecolor": "white",
            "ticks": ""
           },
           "bgcolor": "#E5ECF6",
           "radialaxis": {
            "gridcolor": "white",
            "linecolor": "white",
            "ticks": ""
           }
          },
          "scene": {
           "xaxis": {
            "backgroundcolor": "#E5ECF6",
            "gridcolor": "white",
            "gridwidth": 2,
            "linecolor": "white",
            "showbackground": true,
            "ticks": "",
            "zerolinecolor": "white"
           },
           "yaxis": {
            "backgroundcolor": "#E5ECF6",
            "gridcolor": "white",
            "gridwidth": 2,
            "linecolor": "white",
            "showbackground": true,
            "ticks": "",
            "zerolinecolor": "white"
           },
           "zaxis": {
            "backgroundcolor": "#E5ECF6",
            "gridcolor": "white",
            "gridwidth": 2,
            "linecolor": "white",
            "showbackground": true,
            "ticks": "",
            "zerolinecolor": "white"
           }
          },
          "shapedefaults": {
           "line": {
            "color": "#2a3f5f"
           }
          },
          "ternary": {
           "aaxis": {
            "gridcolor": "white",
            "linecolor": "white",
            "ticks": ""
           },
           "baxis": {
            "gridcolor": "white",
            "linecolor": "white",
            "ticks": ""
           },
           "bgcolor": "#E5ECF6",
           "caxis": {
            "gridcolor": "white",
            "linecolor": "white",
            "ticks": ""
           }
          },
          "title": {
           "x": 0.05
          },
          "xaxis": {
           "automargin": true,
           "gridcolor": "white",
           "linecolor": "white",
           "ticks": "",
           "title": {
            "standoff": 15
           },
           "zerolinecolor": "white",
           "zerolinewidth": 2
          },
          "yaxis": {
           "automargin": true,
           "gridcolor": "white",
           "linecolor": "white",
           "ticks": "",
           "title": {
            "standoff": 15
           },
           "zerolinecolor": "white",
           "zerolinewidth": 2
          }
         }
        },
        "title": {
         "text": "Average USD Salary by Country"
        },
        "width": 800
       }
      }
     },
     "metadata": {},
     "output_type": "display_data"
    },
    {
     "data": {
      "image/png": "[encoded data removed]",
      "text/plain": [
       "<Figure size 700x1500 with 1 Axes>"
      ]
     },
     "metadata": {},
     "output_type": "display_data"
    }
   ],
   "source": [
    "# choropleth distribution average salary in each country\n",
    "country = df_salary.groupby('company_location',as_index=False)['salary_in_usd'].mean()\n",
    "\n",
    "# plot the graph\n",
    "fig1 = px.choropleth(country,\n",
    "                     locations='company_location',\n",
    "                     locationmode='country names',\n",
    "                     color='salary_in_usd',\n",
    "                     color_continuous_scale=px.colors.sequential.Cividis,\n",
    "                     title='Average USD Salary by Country',\n",
    "                     labels={'salary_in_usd': 'Average USD Salary'},\n",
    "                     width=800,\n",
    "                     height=500)\n",
    "\n",
    "# show the geospatial graph\n",
    "fig1.show()\n",
    "\n",
    "# barplot distribution average salary in each country\n",
    "plt.figure(figsize=(7,15))\n",
    "sns.barplot(country.sort_values(by='salary_in_usd',ascending=False),x='salary_in_usd',y='company_location',color='red',saturation=0.3)\n",
    "\n",
    "# show the barplot\n",
    "plt.xlabel('Average USD Salary')\n",
    "plt.show()"
   ]
  },
  {
   "attachments": {},
   "cell_type": "markdown",
   "metadata": {},
   "source": [
    "Based on the results of the plot above, the countries with the highest average salary are `Israel`, `Puerto Rico` and `United States`. Meanwhile, the countries with the lowest average salary were `North Macedonia`, `Bolivia` and `Albania`."
   ]
  },
  {
   "attachments": {},
   "cell_type": "markdown",
   "metadata": {},
   "source": [
    "## Analysis of the Effect of Differences in Residence and Place of Work on Salary <a id='Cont18'></a>"
   ]
  },
  {
   "attachments": {},
   "cell_type": "markdown",
   "metadata": {},
   "source": [
    "Now we will find out whether there is a difference in the `average salary` for workers who have a different place of residence from where he works."
   ]
  },
  {
   "cell_type": "code",
   "execution_count": 21,
   "metadata": {},
   "outputs": [
    {
     "data": {
      "application/vnd.plotly.v1+json": {
       "config": {
        "plotlyServerURL": "https://plot.ly"
       },
       "data": [
        {
         "marker": {
          "color": "rgb(120, 169, 137)"
         },
         "name": "Different Country",
         "type": "bar",
         "x": [
          "Full-Remote",
          "Half-Remote",
          "On-Site"
         ],
         "y": [
          72623.28169014085,
          59078.833333333336,
          48983.857142857145
         ]
        },
        {
         "marker": {
          "color": "rgb(151, 88, 144)"
         },
         "name": "Same Country",
         "type": "bar",
         "x": [
          "Full-Remote",
          "Half-Remote",
          "On-Site"
         ],
         "y": [
          139365.63231552162,
          80434.567251462,
          144664.493736952
         ]
        }
       ],
       "layout": {
        "height": 500,
        "template": {
         "data": {
          "bar": [
           {
            "error_x": {
             "color": "#2a3f5f"
            },
            "error_y": {
             "color": "#2a3f5f"
            },
            "marker": {
             "line": {
              "color": "#E5ECF6",
              "width": 0.5
             },
             "pattern": {
              "fillmode": "overlay",
              "size": 10,
              "solidity": 0.2
             }
            },
            "type": "bar"
           }
          ],
          "barpolar": [
           {
            "marker": {
             "line": {
              "color": "#E5ECF6",
              "width": 0.5
             },
             "pattern": {
              "fillmode": "overlay",
              "size": 10,
              "solidity": 0.2
             }
            },
            "type": "barpolar"
           }
          ],
          "carpet": [
           {
            "aaxis": {
             "endlinecolor": "#2a3f5f",
             "gridcolor": "white",
             "linecolor": "white",
             "minorgridcolor": "white",
             "startlinecolor": "#2a3f5f"
            },
            "baxis": {
             "endlinecolor": "#2a3f5f",
             "gridcolor": "white",
             "linecolor": "white",
             "minorgridcolor": "white",
             "startlinecolor": "#2a3f5f"
            },
            "type": "carpet"
           }
          ],
          "choropleth": [
           {
            "colorbar": {
             "outlinewidth": 0,
             "ticks": ""
            },
            "type": "choropleth"
           }
          ],
          "contour": [
           {
            "colorbar": {
             "outlinewidth": 0,
             "ticks": ""
            },
            "colorscale": [
             [
              0,
              "#0d0887"
             ],
             [
              0.1111111111111111,
              "#46039f"
             ],
             [
              0.2222222222222222,
              "#7201a8"
             ],
             [
              0.3333333333333333,
              "#9c179e"
             ],
             [
              0.4444444444444444,
              "#bd3786"
             ],
             [
              0.5555555555555556,
              "#d8576b"
             ],
             [
              0.6666666666666666,
              "#ed7953"
             ],
             [
              0.7777777777777778,
              "#fb9f3a"
             ],
             [
              0.8888888888888888,
              "#fdca26"
             ],
             [
              1,
              "#f0f921"
             ]
            ],
            "type": "contour"
           }
          ],
          "contourcarpet": [
           {
            "colorbar": {
             "outlinewidth": 0,
             "ticks": ""
            },
            "type": "contourcarpet"
           }
          ],
          "heatmap": [
           {
            "colorbar": {
             "outlinewidth": 0,
             "ticks": ""
            },
            "colorscale": [
             [
              0,
              "#0d0887"
             ],
             [
              0.1111111111111111,
              "#46039f"
             ],
             [
              0.2222222222222222,
              "#7201a8"
             ],
             [
              0.3333333333333333,
              "#9c179e"
             ],
             [
              0.4444444444444444,
              "#bd3786"
             ],
             [
              0.5555555555555556,
              "#d8576b"
             ],
             [
              0.6666666666666666,
              "#ed7953"
             ],
             [
              0.7777777777777778,
              "#fb9f3a"
             ],
             [
              0.8888888888888888,
              "#fdca26"
             ],
             [
              1,
              "#f0f921"
             ]
            ],
            "type": "heatmap"
           }
          ],
          "heatmapgl": [
           {
            "colorbar": {
             "outlinewidth": 0,
             "ticks": ""
            },
            "colorscale": [
             [
              0,
              "#0d0887"
             ],
             [
              0.1111111111111111,
              "#46039f"
             ],
             [
              0.2222222222222222,
              "#7201a8"
             ],
             [
              0.3333333333333333,
              "#9c179e"
             ],
             [
              0.4444444444444444,
              "#bd3786"
             ],
             [
              0.5555555555555556,
              "#d8576b"
             ],
             [
              0.6666666666666666,
              "#ed7953"
             ],
             [
              0.7777777777777778,
              "#fb9f3a"
             ],
             [
              0.8888888888888888,
              "#fdca26"
             ],
             [
              1,
              "#f0f921"
             ]
            ],
            "type": "heatmapgl"
           }
          ],
          "histogram": [
           {
            "marker": {
             "pattern": {
              "fillmode": "overlay",
              "size": 10,
              "solidity": 0.2
             }
            },
            "type": "histogram"
           }
          ],
          "histogram2d": [
           {
            "colorbar": {
             "outlinewidth": 0,
             "ticks": ""
            },
            "colorscale": [
             [
              0,
              "#0d0887"
             ],
             [
              0.1111111111111111,
              "#46039f"
             ],
             [
              0.2222222222222222,
              "#7201a8"
             ],
             [
              0.3333333333333333,
              "#9c179e"
             ],
             [
              0.4444444444444444,
              "#bd3786"
             ],
             [
              0.5555555555555556,
              "#d8576b"
             ],
             [
              0.6666666666666666,
              "#ed7953"
             ],
             [
              0.7777777777777778,
              "#fb9f3a"
             ],
             [
              0.8888888888888888,
              "#fdca26"
             ],
             [
              1,
              "#f0f921"
             ]
            ],
            "type": "histogram2d"
           }
          ],
          "histogram2dcontour": [
           {
            "colorbar": {
             "outlinewidth": 0,
             "ticks": ""
            },
            "colorscale": [
             [
              0,
              "#0d0887"
             ],
             [
              0.1111111111111111,
              "#46039f"
             ],
             [
              0.2222222222222222,
              "#7201a8"
             ],
             [
              0.3333333333333333,
              "#9c179e"
             ],
             [
              0.4444444444444444,
              "#bd3786"
             ],
             [
              0.5555555555555556,
              "#d8576b"
             ],
             [
              0.6666666666666666,
              "#ed7953"
             ],
             [
              0.7777777777777778,
              "#fb9f3a"
             ],
             [
              0.8888888888888888,
              "#fdca26"
             ],
             [
              1,
              "#f0f921"
             ]
            ],
            "type": "histogram2dcontour"
           }
          ],
          "mesh3d": [
           {
            "colorbar": {
             "outlinewidth": 0,
             "ticks": ""
            },
            "type": "mesh3d"
           }
          ],
          "parcoords": [
           {
            "line": {
             "colorbar": {
              "outlinewidth": 0,
              "ticks": ""
             }
            },
            "type": "parcoords"
           }
          ],
          "pie": [
           {
            "automargin": true,
            "type": "pie"
           }
          ],
          "scatter": [
           {
            "fillpattern": {
             "fillmode": "overlay",
             "size": 10,
             "solidity": 0.2
            },
            "type": "scatter"
           }
          ],
          "scatter3d": [
           {
            "line": {
             "colorbar": {
              "outlinewidth": 0,
              "ticks": ""
             }
            },
            "marker": {
             "colorbar": {
              "outlinewidth": 0,
              "ticks": ""
             }
            },
            "type": "scatter3d"
           }
          ],
          "scattercarpet": [
           {
            "marker": {
             "colorbar": {
              "outlinewidth": 0,
              "ticks": ""
             }
            },
            "type": "scattercarpet"
           }
          ],
          "scattergeo": [
           {
            "marker": {
             "colorbar": {
              "outlinewidth": 0,
              "ticks": ""
             }
            },
            "type": "scattergeo"
           }
          ],
          "scattergl": [
           {
            "marker": {
             "colorbar": {
              "outlinewidth": 0,
              "ticks": ""
             }
            },
            "type": "scattergl"
           }
          ],
          "scattermapbox": [
           {
            "marker": {
             "colorbar": {
              "outlinewidth": 0,
              "ticks": ""
             }
            },
            "type": "scattermapbox"
           }
          ],
          "scatterpolar": [
           {
            "marker": {
             "colorbar": {
              "outlinewidth": 0,
              "ticks": ""
             }
            },
            "type": "scatterpolar"
           }
          ],
          "scatterpolargl": [
           {
            "marker": {
             "colorbar": {
              "outlinewidth": 0,
              "ticks": ""
             }
            },
            "type": "scatterpolargl"
           }
          ],
          "scatterternary": [
           {
            "marker": {
             "colorbar": {
              "outlinewidth": 0,
              "ticks": ""
             }
            },
            "type": "scatterternary"
           }
          ],
          "surface": [
           {
            "colorbar": {
             "outlinewidth": 0,
             "ticks": ""
            },
            "colorscale": [
             [
              0,
              "#0d0887"
             ],
             [
              0.1111111111111111,
              "#46039f"
             ],
             [
              0.2222222222222222,
              "#7201a8"
             ],
             [
              0.3333333333333333,
              "#9c179e"
             ],
             [
              0.4444444444444444,
              "#bd3786"
             ],
             [
              0.5555555555555556,
              "#d8576b"
             ],
             [
              0.6666666666666666,
              "#ed7953"
             ],
             [
              0.7777777777777778,
              "#fb9f3a"
             ],
             [
              0.8888888888888888,
              "#fdca26"
             ],
             [
              1,
              "#f0f921"
             ]
            ],
            "type": "surface"
           }
          ],
          "table": [
           {
            "cells": {
             "fill": {
              "color": "#EBF0F8"
             },
             "line": {
              "color": "white"
             }
            },
            "header": {
             "fill": {
              "color": "#C8D4E3"
             },
             "line": {
              "color": "white"
             }
            },
            "type": "table"
           }
          ]
         },
         "layout": {
          "annotationdefaults": {
           "arrowcolor": "#2a3f5f",
           "arrowhead": 0,
           "arrowwidth": 1
          },
          "autotypenumbers": "strict",
          "coloraxis": {
           "colorbar": {
            "outlinewidth": 0,
            "ticks": ""
           }
          },
          "colorscale": {
           "diverging": [
            [
             0,
             "#8e0152"
            ],
            [
             0.1,
             "#c51b7d"
            ],
            [
             0.2,
             "#de77ae"
            ],
            [
             0.3,
             "#f1b6da"
            ],
            [
             0.4,
             "#fde0ef"
            ],
            [
             0.5,
             "#f7f7f7"
            ],
            [
             0.6,
             "#e6f5d0"
            ],
            [
             0.7,
             "#b8e186"
            ],
            [
             0.8,
             "#7fbc41"
            ],
            [
             0.9,
             "#4d9221"
            ],
            [
             1,
             "#276419"
            ]
           ],
           "sequential": [
            [
             0,
             "#0d0887"
            ],
            [
             0.1111111111111111,
             "#46039f"
            ],
            [
             0.2222222222222222,
             "#7201a8"
            ],
            [
             0.3333333333333333,
             "#9c179e"
            ],
            [
             0.4444444444444444,
             "#bd3786"
            ],
            [
             0.5555555555555556,
             "#d8576b"
            ],
            [
             0.6666666666666666,
             "#ed7953"
            ],
            [
             0.7777777777777778,
             "#fb9f3a"
            ],
            [
             0.8888888888888888,
             "#fdca26"
            ],
            [
             1,
             "#f0f921"
            ]
           ],
           "sequentialminus": [
            [
             0,
             "#0d0887"
            ],
            [
             0.1111111111111111,
             "#46039f"
            ],
            [
             0.2222222222222222,
             "#7201a8"
            ],
            [
             0.3333333333333333,
             "#9c179e"
            ],
            [
             0.4444444444444444,
             "#bd3786"
            ],
            [
             0.5555555555555556,
             "#d8576b"
            ],
            [
             0.6666666666666666,
             "#ed7953"
            ],
            [
             0.7777777777777778,
             "#fb9f3a"
            ],
            [
             0.8888888888888888,
             "#fdca26"
            ],
            [
             1,
             "#f0f921"
            ]
           ]
          },
          "colorway": [
           "#636efa",
           "#EF553B",
           "#00cc96",
           "#ab63fa",
           "#FFA15A",
           "#19d3f3",
           "#FF6692",
           "#B6E880",
           "#FF97FF",
           "#FECB52"
          ],
          "font": {
           "color": "#2a3f5f"
          },
          "geo": {
           "bgcolor": "white",
           "lakecolor": "white",
           "landcolor": "#E5ECF6",
           "showlakes": true,
           "showland": true,
           "subunitcolor": "white"
          },
          "hoverlabel": {
           "align": "left"
          },
          "hovermode": "closest",
          "mapbox": {
           "style": "light"
          },
          "paper_bgcolor": "white",
          "plot_bgcolor": "#E5ECF6",
          "polar": {
           "angularaxis": {
            "gridcolor": "white",
            "linecolor": "white",
            "ticks": ""
           },
           "bgcolor": "#E5ECF6",
           "radialaxis": {
            "gridcolor": "white",
            "linecolor": "white",
            "ticks": ""
           }
          },
          "scene": {
           "xaxis": {
            "backgroundcolor": "#E5ECF6",
            "gridcolor": "white",
            "gridwidth": 2,
            "linecolor": "white",
            "showbackground": true,
            "ticks": "",
            "zerolinecolor": "white"
           },
           "yaxis": {
            "backgroundcolor": "#E5ECF6",
            "gridcolor": "white",
            "gridwidth": 2,
            "linecolor": "white",
            "showbackground": true,
            "ticks": "",
            "zerolinecolor": "white"
           },
           "zaxis": {
            "backgroundcolor": "#E5ECF6",
            "gridcolor": "white",
            "gridwidth": 2,
            "linecolor": "white",
            "showbackground": true,
            "ticks": "",
            "zerolinecolor": "white"
           }
          },
          "shapedefaults": {
           "line": {
            "color": "#2a3f5f"
           }
          },
          "ternary": {
           "aaxis": {
            "gridcolor": "white",
            "linecolor": "white",
            "ticks": ""
           },
           "baxis": {
            "gridcolor": "white",
            "linecolor": "white",
            "ticks": ""
           },
           "bgcolor": "#E5ECF6",
           "caxis": {
            "gridcolor": "white",
            "linecolor": "white",
            "ticks": ""
           }
          },
          "title": {
           "x": 0.05
          },
          "xaxis": {
           "automargin": true,
           "gridcolor": "white",
           "linecolor": "white",
           "ticks": "",
           "title": {
            "standoff": 15
           },
           "zerolinecolor": "white",
           "zerolinewidth": 2
          },
          "yaxis": {
           "automargin": true,
           "gridcolor": "white",
           "linecolor": "white",
           "ticks": "",
           "title": {
            "standoff": 15
           },
           "zerolinecolor": "white",
           "zerolinewidth": 2
          }
         }
        },
        "title": {
         "text": "Average USD Salary - Job Type (Remote)"
        },
        "width": 700,
        "xaxis": {
         "title": {
          "text": "Job Type - Remote"
         }
        },
        "yaxis": {
         "title": {
          "text": "Salary in USD"
         }
        }
       }
      }
     },
     "metadata": {},
     "output_type": "display_data"
    }
   ],
   "source": [
    "# different employee_residence with company_location\n",
    "different = df_salary[df_salary['company_location'] != df_salary['employee_residence']]\n",
    "different = different.groupby('remote_ratio')['salary_in_usd'].mean().reset_index()\n",
    "\n",
    "# same employee_residence with company_location\n",
    "same = df_salary[df_salary['company_location'] == df_salary['employee_residence']]\n",
    "same = same.groupby('remote_ratio')['salary_in_usd'].mean().reset_index()\n",
    "\n",
    "fig3 = go.Figure()\n",
    "fig3.add_trace(go.Bar(\n",
    "    x=different['remote_ratio'],\n",
    "    y=different['salary_in_usd'],\n",
    "    name='Different Country',\n",
    "    marker_color='rgb(120, 169, 137)',\n",
    "))\n",
    "fig3.add_trace(go.Bar(\n",
    "    x=same['remote_ratio'],\n",
    "    y=same['salary_in_usd'],\n",
    "    name='Same Country',\n",
    "    marker_color='rgb(151, 88, 144)'\n",
    "))\n",
    "\n",
    "# Here we modify the tickangle of the xaxis, resulting in rotated labels.\n",
    "fig3.update_layout(\n",
    "    width=700, \n",
    "    height=500, \n",
    "    title='Average USD Salary - Job Type (Remote)',\n",
    "    xaxis_title=\"Job Type - Remote\",\n",
    "    yaxis_title=\"Salary in USD\"\n",
    "    )\n",
    "fig3.show()"
   ]
  },
  {
   "attachments": {},
   "cell_type": "markdown",
   "metadata": {},
   "source": [
    "We can see that the location of work affects the amount of average salary where a `worker who has the same place of residence and place of work has a higher average` compared to `workers who have a place of residence and a different place of work`."
   ]
  },
  {
   "attachments": {},
   "cell_type": "markdown",
   "metadata": {},
   "source": [
    "## Average Salary Based on Type of Employee <a id='Cont19'></a>"
   ]
  },
  {
   "attachments": {},
   "cell_type": "markdown",
   "metadata": {},
   "source": [
    "Next, we will find out the `average salary` based on the type of employee working."
   ]
  },
  {
   "cell_type": "code",
   "execution_count": 22,
   "metadata": {},
   "outputs": [
    {
     "data": {
      "image/png": "[encoded data removed]",
      "text/plain": [
       "<Figure size 1000x600 with 1 Axes>"
      ]
     },
     "metadata": {},
     "output_type": "display_data"
    }
   ],
   "source": [
    "# average USD salary based on employment_type\n",
    "emp_sal = df_salary.groupby(['work_year','employment_type'])['salary_in_usd'].mean().sort_values(ascending=False).reset_index()\n",
    "\n",
    "# # barplot graph\n",
    "plt.figure(figsize=(10,6))\n",
    "sns.barplot(emp_sal,x='employment_type',y='salary_in_usd',hue='work_year')\n",
    "\n",
    "# show the graph\n",
    "plt.title('Average USD Salary - Employment Type')\n",
    "plt.xlabel('Employment Type')\n",
    "plt.ylabel('Salary in USD')\n",
    "plt.show()"
   ]
  },
  {
   "attachments": {},
   "cell_type": "markdown",
   "metadata": {},
   "source": [
    "It can be seen that employees with the `Full-time` type have an `average salary` that increases every year and a higher average salary value compared to other types of employees. The type of `Contractor` employee has decreased almost every year, perhaps due to the pandemic that has subsided and many offices opening up `Full-time` job vacancies."
   ]
  },
  {
   "attachments": {},
   "cell_type": "markdown",
   "metadata": {},
   "source": [
    "# General Conclusion <a id='Cont19'></a>"
   ]
  },
  {
   "attachments": {},
   "cell_type": "markdown",
   "metadata": {},
   "source": [
    "We have done data pre-processing, starting from `loading library`, `cleaning dataset`, `checking for duplicates`, `changing values` and `data types`. Then proceed with doing `Explorative Data Analysis (EDA)` to look for insights in it. We draw the following conclusions:\n",
    "- The highest amount of salary was obtained by the fields of `Data Engineering` and `Data Science` with a respective value of almost touching `160M USD` for the range `2020 - 2023`.\n",
    "- The type of work that is in great demand is the field of `Data Science`. While many job level positions are filled by `Senior Level` circles.\n",
    "- The `popular` currency is `USD` while the `unpopular` currency is `CZK` as a medium of payment for employee salary.\n",
    "- Based on the histogram graph, it can be seen that the average employee salary is at `150000 USD` and rarely exceeds `400000 USD`.\n",
    "- Based on boxplot analysis, `Machine Learning` jobs provide the largest average salary compared to the average salary of other fields.\n",
    "- The average company size from year to year has experienced an increase in average salary. In `2023` for `medium companies` beat the average salary with companies of other sizes.\n",
    "- The countries with the highest average salary are `Israel`, `Puerto Rico` and `United States`. Meanwhile, the countries with the lowest average salary were `North Macedonia`, `Bolivia` and `Albania`.\n",
    "- The location of the place of work affects the amount of average salary where a `worker who has the same place of residence and place of work has a higher average` than `workers who have a place of residence and place of work that is different`.\n",
    "- Employees with the `Full-time` type have an average salary that increases every year and a higher average salary value compared to other types of employees. The type of `Contractor` employee has decreased almost every year, perhaps due to the pandemic that has subsided and many offices opening up `Full-time` job vacancies."
   ]
  }
 ],
 "metadata": {
  "kernelspec": {
   "display_name": "Python 3",
   "language": "python",
   "name": "python3"
  },
  "language_info": {
   "codemirror_mode": {
    "name": "ipython",
    "version": 3
   },
   "file_extension": ".py",
   "mimetype": "text/x-python",
   "name": "python",
   "nbconvert_exporter": "python",
   "pygments_lexer": "ipython3",
   "version": "3.11.2"
  },
  "orig_nbformat": 4
 },
 "nbformat": 4,
 "nbformat_minor": 2
}
